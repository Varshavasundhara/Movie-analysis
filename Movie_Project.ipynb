





<!DOCTYPE html>
<html lang="en" data-color-mode="auto" data-light-theme="light" data-dark-theme="dark"  data-a11y-animated-images="system">
  <head>
    <meta charset="utf-8">
  <link rel="dns-prefetch" href="https://github.githubassets.com">
  <link rel="dns-prefetch" href="https://avatars.githubusercontent.com">
  <link rel="dns-prefetch" href="https://github-cloud.s3.amazonaws.com">
  <link rel="dns-prefetch" href="https://user-images.githubusercontent.com/">
  <link rel="preconnect" href="https://github.githubassets.com" crossorigin>
  <link rel="preconnect" href="https://avatars.githubusercontent.com">

  


  <link crossorigin="anonymous" media="all" rel="stylesheet" href="https://github.githubassets.com/assets/light-8cafbcbd78f4.css" /><link crossorigin="anonymous" media="all" rel="stylesheet" href="https://github.githubassets.com/assets/dark-31dc14e38457.css" /><link data-color-theme="dark_dimmed" crossorigin="anonymous" media="all" rel="stylesheet" data-href="https://github.githubassets.com/assets/dark_dimmed-71414d661fe2.css" /><link data-color-theme="dark_high_contrast" crossorigin="anonymous" media="all" rel="stylesheet" data-href="https://github.githubassets.com/assets/dark_high_contrast-ba96c7f1d660.css" /><link data-color-theme="dark_colorblind" crossorigin="anonymous" media="all" rel="stylesheet" data-href="https://github.githubassets.com/assets/dark_colorblind-7471c22cdb6a.css" /><link data-color-theme="light_colorblind" crossorigin="anonymous" media="all" rel="stylesheet" data-href="https://github.githubassets.com/assets/light_colorblind-80180bed15ed.css" /><link data-color-theme="light_high_contrast" crossorigin="anonymous" media="all" rel="stylesheet" data-href="https://github.githubassets.com/assets/light_high_contrast-e89b9cdecb75.css" /><link data-color-theme="light_tritanopia" crossorigin="anonymous" media="all" rel="stylesheet" data-href="https://github.githubassets.com/assets/light_tritanopia-77f15e9154df.css" /><link data-color-theme="dark_tritanopia" crossorigin="anonymous" media="all" rel="stylesheet" data-href="https://github.githubassets.com/assets/dark_tritanopia-f598f8dd18ae.css" />
  
    <link crossorigin="anonymous" media="all" rel="stylesheet" href="https://github.githubassets.com/assets/primer-primitives-fb1d51d1ef66.css" />
    <link crossorigin="anonymous" media="all" rel="stylesheet" href="https://github.githubassets.com/assets/primer-60c5e476b0dc.css" />
    <link crossorigin="anonymous" media="all" rel="stylesheet" href="https://github.githubassets.com/assets/global-1e5779e1dfc0.css" />
    <link crossorigin="anonymous" media="all" rel="stylesheet" href="https://github.githubassets.com/assets/github-2c7b1701fb19.css" />
  <link crossorigin="anonymous" media="all" rel="stylesheet" href="https://github.githubassets.com/assets/code-5aae01d45c34.css" />

  

  <script type="application/json" id="client-env">{"locale":"en","featureFlags":["turbo_experiment_risky","image_metric_tracking","geojson_azure_maps","failbot_handle_non_errors"]}</script>
<script crossorigin="anonymous" defer="defer" type="application/javascript" src="https://github.githubassets.com/assets/wp-runtime-461dc42c33d3.js"></script>
<script crossorigin="anonymous" defer="defer" type="application/javascript" src="https://github.githubassets.com/assets/vendors-node_modules_stacktrace-parser_dist_stack-trace-parser_esm_js-node_modules_github_bro-a4c183-ae93d3fba59c.js"></script>
<script crossorigin="anonymous" defer="defer" type="application/javascript" src="https://github.githubassets.com/assets/ui_packages_soft-nav_soft-nav_ts-5bbac172fb2f.js"></script>
<script crossorigin="anonymous" defer="defer" type="application/javascript" src="https://github.githubassets.com/assets/environment-40f46122744a.js"></script>
<script crossorigin="anonymous" defer="defer" type="application/javascript" src="https://github.githubassets.com/assets/vendors-node_modules_dompurify_dist_purify_js-64d590970fa6.js"></script>
<script crossorigin="anonymous" defer="defer" type="application/javascript" src="https://github.githubassets.com/assets/vendors-node_modules_github_selector-observer_dist_index_esm_js-2646a2c533e3.js"></script>
<script crossorigin="anonymous" defer="defer" type="application/javascript" src="https://github.githubassets.com/assets/vendors-node_modules_github_relative-time-element_dist_index_js-99e288659d4f.js"></script>
<script crossorigin="anonymous" defer="defer" type="application/javascript" src="https://github.githubassets.com/assets/vendors-node_modules_fzy_js_index_js-node_modules_github_markdown-toolbar-element_dist_index_js-e3de700a4c9d.js"></script>
<script crossorigin="anonymous" defer="defer" type="application/javascript" src="https://github.githubassets.com/assets/vendors-node_modules_delegated-events_dist_index_js-node_modules_github_auto-complete-element-5b3870-9b38c0812424.js"></script>
<script crossorigin="anonymous" defer="defer" type="application/javascript" src="https://github.githubassets.com/assets/vendors-node_modules_github_file-attachment-element_dist_index_js-node_modules_github_text-ex-3415a8-7ecc10fb88d0.js"></script>
<script crossorigin="anonymous" defer="defer" type="application/javascript" src="https://github.githubassets.com/assets/vendors-node_modules_github_filter-input-element_dist_index_js-node_modules_github_remote-inp-8873b7-5771678648e0.js"></script>
<script crossorigin="anonymous" defer="defer" type="application/javascript" src="https://github.githubassets.com/assets/vendors-node_modules_primer_view-components_app_components_primer_primer_js-node_modules_gith-e7a1e2-49659aed34cc.js"></script>
<script crossorigin="anonymous" defer="defer" type="application/javascript" src="https://github.githubassets.com/assets/github-elements-ed72241c94d5.js"></script>
<script crossorigin="anonymous" defer="defer" type="application/javascript" src="https://github.githubassets.com/assets/element-registry-3d2fb738661a.js"></script>
<script crossorigin="anonymous" defer="defer" type="application/javascript" src="https://github.githubassets.com/assets/vendors-node_modules_lit-html_lit-html_js-9d9fe1859ce5.js"></script>
<script crossorigin="anonymous" defer="defer" type="application/javascript" src="https://github.githubassets.com/assets/vendors-node_modules_github_hydro-analytics-client_dist_analytics-client_js-node_modules_gith-f3aee1-fd3c22610e40.js"></script>
<script crossorigin="anonymous" defer="defer" type="application/javascript" src="https://github.githubassets.com/assets/vendors-node_modules_morphdom_dist_morphdom-esm_js-b1fdd7158cf0.js"></script>
<script crossorigin="anonymous" defer="defer" type="application/javascript" src="https://github.githubassets.com/assets/vendors-node_modules_github_mini-throttle_dist_index_js-node_modules_github_alive-client_dist-bf5aa2-424aa982deef.js"></script>
<script crossorigin="anonymous" defer="defer" type="application/javascript" src="https://github.githubassets.com/assets/vendors-node_modules_github_turbo_dist_turbo_es2017-esm_js-ba0e4d5b3207.js"></script>
<script crossorigin="anonymous" defer="defer" type="application/javascript" src="https://github.githubassets.com/assets/vendors-node_modules_github_remote-form_dist_index_js-node_modules_scroll-anchoring_dist_scro-52dc4b-e1e33bfc0b7e.js"></script>
<script crossorigin="anonymous" defer="defer" type="application/javascript" src="https://github.githubassets.com/assets/vendors-node_modules_color-convert_index_js-35b3ae68c408.js"></script>
<script crossorigin="anonymous" defer="defer" type="application/javascript" src="https://github.githubassets.com/assets/vendors-node_modules_github_paste-markdown_dist_index_esm_js-node_modules_github_quote-select-7a8e2b-f036384374ea.js"></script>
<script crossorigin="anonymous" defer="defer" type="application/javascript" src="https://github.githubassets.com/assets/ui_packages_form-utils_form-utils_ts-ui_packages_morpheus_index_ts-ui_packages_trusted-types--01a936-f7a54b43b12f.js"></script>
<script crossorigin="anonymous" defer="defer" type="application/javascript" src="https://github.githubassets.com/assets/app_assets_modules_github_behaviors_task-list_ts-app_assets_modules_github_has-interactions_t-bed59b-04d19d8e32bf.js"></script>
<script crossorigin="anonymous" defer="defer" type="application/javascript" src="https://github.githubassets.com/assets/app_assets_modules_github_sticky-scroll-into-view_ts-050ad6637d58.js"></script>
<script crossorigin="anonymous" defer="defer" type="application/javascript" src="https://github.githubassets.com/assets/app_assets_modules_github_behaviors_ajax-error_ts-app_assets_modules_github_behaviors_include-f12a82-c9c7859d8645.js"></script>
<script crossorigin="anonymous" defer="defer" type="application/javascript" src="https://github.githubassets.com/assets/app_assets_modules_github_behaviors_commenting_edit_ts-app_assets_modules_github_behaviors_ht-83c235-f22ac6b94445.js"></script>
<script crossorigin="anonymous" defer="defer" type="application/javascript" src="https://github.githubassets.com/assets/app_assets_modules_github_blob-anchor_ts-app_assets_modules_github_filter-sort_ts-app_assets_-c96432-3460172f1b1f.js"></script>
<script crossorigin="anonymous" defer="defer" type="application/javascript" src="https://github.githubassets.com/assets/behaviors-425cc3e83f10.js"></script>
<script crossorigin="anonymous" defer="defer" type="application/javascript" src="https://github.githubassets.com/assets/vendors-node_modules_delegated-events_dist_index_js-node_modules_github_catalyst_lib_index_js-06ff531-fe0b8ccc90a5.js"></script>
<script crossorigin="anonymous" defer="defer" type="application/javascript" src="https://github.githubassets.com/assets/notifications-global-f57687007bfc.js"></script>
<script crossorigin="anonymous" defer="defer" type="application/javascript" src="https://github.githubassets.com/assets/code-menu-082003a113a7.js"></script>
  
  <script crossorigin="anonymous" defer="defer" type="application/javascript" src="https://github.githubassets.com/assets/react-lib-210c4b5934c3.js"></script>
<script crossorigin="anonymous" defer="defer" type="application/javascript" src="https://github.githubassets.com/assets/vendors-node_modules_primer_octicons-react_dist_index_esm_js-node_modules_primer_react_lib-es-ca6dae-997b5be9ae26.js"></script>
<script crossorigin="anonymous" defer="defer" type="application/javascript" src="https://github.githubassets.com/assets/vendors-node_modules_primer_behaviors_dist_esm_focus-zone_js-d55308df5023.js"></script>
<script crossorigin="anonymous" defer="defer" type="application/javascript" src="https://github.githubassets.com/assets/vendors-node_modules_primer_react_lib-esm_Button_index_js-node_modules_primer_react_lib-esm_L-5634ab-88e75d034f00.js"></script>
<script crossorigin="anonymous" defer="defer" type="application/javascript" src="https://github.githubassets.com/assets/vendors-node_modules_primer_react_lib-esm_ActionList_index_js-node_modules_primer_react_lib-e-6c83fc-f575f8ee0ebf.js"></script>
<script crossorigin="anonymous" defer="defer" type="application/javascript" src="https://github.githubassets.com/assets/vendors-node_modules_primer_react_lib-esm_TextInput_TextInput_js-bda16ad5f5c0.js"></script>
<script crossorigin="anonymous" defer="defer" type="application/javascript" src="https://github.githubassets.com/assets/vendors-node_modules_primer_react_lib-esm_ActionMenu_js-9f46ef9292fe.js"></script>
<script crossorigin="anonymous" defer="defer" type="application/javascript" src="https://github.githubassets.com/assets/vendors-node_modules_primer_behaviors_dist_esm_scroll-into-view_js-node_modules_primer_react_-04bb1b-f1078ffd63d6.js"></script>
<script crossorigin="anonymous" defer="defer" type="application/javascript" src="https://github.githubassets.com/assets/vendors-node_modules_primer_react_lib-esm_FormControl_FormControl_js-f73cfd5e1065.js"></script>
<script crossorigin="anonymous" defer="defer" type="application/javascript" src="https://github.githubassets.com/assets/vendors-node_modules_primer_react_lib-esm_Heading_Heading_js-node_modules_primer_react_lib-es-20c766-3952b4d6d547.js"></script>
<script crossorigin="anonymous" defer="defer" type="application/javascript" src="https://github.githubassets.com/assets/vendors-node_modules_primer_react_lib-esm_Dialog_ConfirmationDialog_js-a160e95ee1e8.js"></script>
<script crossorigin="anonymous" defer="defer" type="application/javascript" src="https://github.githubassets.com/assets/vendors-node_modules_primer_react_lib-esm_TreeView_TreeView_js-2d5a3fb3b8ec.js"></script>
<script crossorigin="anonymous" defer="defer" type="application/javascript" src="https://github.githubassets.com/assets/vendors-node_modules_primer_react_lib-esm_Avatar_Avatar_js-node_modules_primer_react_lib-esm_-11e656-b2b35bb64b8b.js"></script>
<script crossorigin="anonymous" defer="defer" type="application/javascript" src="https://github.githubassets.com/assets/vendors-node_modules_primer_react_lib-esm_Dialog_js-node_modules_primer_react_lib-esm_TabNav_-8321f5-f6c3aa4bc5a3.js"></script>
<script crossorigin="anonymous" defer="defer" type="application/javascript" src="https://github.githubassets.com/assets/vendors-node_modules_js-yaml_index_js-node_modules_leven_index_js-09eaf6f363f5.js"></script>
<script crossorigin="anonymous" defer="defer" type="application/javascript" src="https://github.githubassets.com/assets/vendors-node_modules_github_blackbird-parser_dist_blackbird_js-fcd9d30e9b7e.js"></script>
<script crossorigin="anonymous" defer="defer" type="application/javascript" src="https://github.githubassets.com/assets/vendors-node_modules_cronstrue_dist_cronstrue_js-25a1d4fa28bf.js"></script>
<script crossorigin="anonymous" defer="defer" type="application/javascript" src="https://github.githubassets.com/assets/vendors-node_modules_primer_react_lib-esm_BranchName_BranchName_js-node_modules_primer_react_-c4e0ac-925df4a62d0b.js"></script>
<script crossorigin="anonymous" defer="defer" type="application/javascript" src="https://github.githubassets.com/assets/vendors-node_modules_primer_react_lib-esm_NavList_NavList_js-node_modules_primer_react_lib-es-ff3f14-9a81ecfa3742.js"></script>
<script crossorigin="anonymous" defer="defer" type="application/javascript" src="https://github.githubassets.com/assets/vendors-node_modules_primer_react_lib-esm_AvatarStack_AvatarStack_js-node_modules_primer_reac-0b4173-d8ba3894d9e9.js"></script>
<script crossorigin="anonymous" defer="defer" type="application/javascript" src="https://github.githubassets.com/assets/vendors-node_modules_primer_react_lib-esm_CircleOcticon_CircleOcticon_js-node_modules_primer_-81352b-3a2584cfd4bc.js"></script>
<script crossorigin="anonymous" defer="defer" type="application/javascript" src="https://github.githubassets.com/assets/ui_packages_ref-selector_RefSelector_tsx-ui_packages_safe-html_SafeHTML_tsx-af099accc546.js"></script>
<script crossorigin="anonymous" defer="defer" type="application/javascript" src="https://github.githubassets.com/assets/app_assets_modules_github_editor_yaml-editors_workflow_workflow-rules_ts-ui_packages_trusted--45f807-3f0ee25dadaa.js"></script>
<script crossorigin="anonymous" defer="defer" type="application/javascript" src="https://github.githubassets.com/assets/app_assets_modules_blackbird-monolith_hooks_use-navigate-to-query_ts-app_assets_modules_black-8527d4-5aab2da637a1.js"></script>
<script crossorigin="anonymous" defer="defer" type="application/javascript" src="https://github.githubassets.com/assets/ui_packages_react-core_deferred-registry_ts-app_assets_modules_react-code-view_pages_CodeView-2db536-abf3172a5189.js"></script>
<script crossorigin="anonymous" defer="defer" type="application/javascript" src="https://github.githubassets.com/assets/react-code-view-7beb01aa0515.js"></script>


  <title>IMDB_Movie_Analysis/Movie_Project.ipynb at master · DanCorley/IMDB_Movie_Analysis</title>



  <meta name="route-pattern" content="/:user_id/:repository/blob/*name(/*path)">

    
  <meta name="current-catalog-service-hash" content="82c569b93da5c18ed649ebd4c2c79437db4611a6a1373e805a3cb001c64130b7">


  <meta name="request-id" content="FD6E:1964:1FEE804:241C7D7:64A4E973" data-turbo-transient="true" /><meta name="html-safe-nonce" content="822ec6cac3126c42197717b025f1d630bfea01d185a53ee62b3df56a8d08a8de" data-turbo-transient="true" /><meta name="visitor-payload" content="eyJyZWZlcnJlciI6Imh0dHBzOi8vZ2l0aHViLmNvbS9EYW5Db3JsZXkvSU1EQl9Nb3ZpZV9BbmFseXNpcyIsInJlcXVlc3RfaWQiOiJGRDZFOjE5NjQ6MUZFRTgwNDoyNDFDN0Q3OjY0QTRFOTczIiwidmlzaXRvcl9pZCI6IjYxMTU1NTkyMjgxMjU0ODAwOTciLCJyZWdpb25fZWRnZSI6ImNlbnRyYWxpbmRpYSIsInJlZ2lvbl9yZW5kZXIiOiJpYWQifQ==" data-turbo-transient="true" /><meta name="visitor-hmac" content="262ca7b3bd03214b6047a6b740cc6ca08db545331f9b3c3da077087e27edfed1" data-turbo-transient="true" />


    <meta name="hovercard-subject-tag" content="repository:230972868" data-turbo-transient>


  <meta name="github-keyboard-shortcuts" content="repository,source-code,file-tree" data-turbo-transient="true" />
  

  <meta name="selected-link" value="repo_source" data-turbo-transient>
  <link rel="assets" href="https://github.githubassets.com/">

    <meta name="google-site-verification" content="c1kuD-K2HIVF635lypcsWPoD4kilo5-jA_wBFyT4uMY">
  <meta name="google-site-verification" content="KT5gs8h0wvaagLKAVWq8bbeNwnZZK1r1XQysX3xurLU">
  <meta name="google-site-verification" content="ZzhVyEFwb7w3e0-uOTltm8Jsck2F5StVihD0exw2fsA">
  <meta name="google-site-verification" content="GXs5KoUUkNCoaAZn7wPN-t01Pywp9M3sEjnt_3_ZWPc">
  <meta name="google-site-verification" content="Apib7-x98H0j5cPqHWwSMm6dNU4GmODRoqxLiDzdx9I">

<meta name="octolytics-url" content="https://collector.github.com/github/collect" /><meta name="octolytics-actor-id" content="115712802" /><meta name="octolytics-actor-login" content="Varshavasundhara" /><meta name="octolytics-actor-hash" content="573791e661a12f67cbd660178fcf6dbb46431ae0cd7feb15e5033c17d79b1ae7" />

  <meta name="analytics-location" content="/&lt;user-name&gt;/&lt;repo-name&gt;/blob/show" data-turbo-transient="true" />

  




  

    <meta name="user-login" content="Varshavasundhara">

  <link rel="sudo-modal" href="/sessions/sudo_modal">

    <meta name="viewport" content="width=device-width">
    
      <meta name="description" content="Flatiron Data Science - Mod1 Project. Contribute to DanCorley/IMDB_Movie_Analysis development by creating an account on GitHub.">
      <link rel="search" type="application/opensearchdescription+xml" href="/opensearch.xml" title="GitHub">
    <link rel="fluid-icon" href="https://github.com/fluidicon.png" title="GitHub">
    <meta property="fb:app_id" content="1401488693436528">
    <meta name="apple-itunes-app" content="app-id=1477376905, app-argument=https://github.com/DanCorley/IMDB_Movie_Analysis/blob/master/Movie_Project.ipynb" />
      <meta name="twitter:image:src" content="https://opengraph.githubassets.com/3f34ef7cbc380c9ab46b44baf38553e25a49cf6796f6754797f3c1bdae1a69a3/DanCorley/IMDB_Movie_Analysis" /><meta name="twitter:site" content="@github" /><meta name="twitter:card" content="summary_large_image" /><meta name="twitter:title" content="IMDB_Movie_Analysis/Movie_Project.ipynb at master · DanCorley/IMDB_Movie_Analysis" /><meta name="twitter:description" content="Flatiron Data Science - Mod1 Project. Contribute to DanCorley/IMDB_Movie_Analysis development by creating an account on GitHub." />
      <meta property="og:image" content="https://opengraph.githubassets.com/3f34ef7cbc380c9ab46b44baf38553e25a49cf6796f6754797f3c1bdae1a69a3/DanCorley/IMDB_Movie_Analysis" /><meta property="og:image:alt" content="Flatiron Data Science - Mod1 Project. Contribute to DanCorley/IMDB_Movie_Analysis development by creating an account on GitHub." /><meta property="og:image:width" content="1200" /><meta property="og:image:height" content="600" /><meta property="og:site_name" content="GitHub" /><meta property="og:type" content="object" /><meta property="og:title" content="IMDB_Movie_Analysis/Movie_Project.ipynb at master · DanCorley/IMDB_Movie_Analysis" /><meta property="og:url" content="https://github.com/DanCorley/IMDB_Movie_Analysis" /><meta property="og:description" content="Flatiron Data Science - Mod1 Project. Contribute to DanCorley/IMDB_Movie_Analysis development by creating an account on GitHub." />
      

      <link rel="shared-web-socket" href="wss://alive.github.com/_sockets/u/115712802/ws?session=eyJ2IjoiVjMiLCJ1IjoxMTU3MTI4MDIsInMiOjExMjkyODI3ODAsImMiOjMxMzU5MzU4MDYsInQiOjE2ODg1MjkyNzh9--b4828ef4e30c1247eb48942b1a722ec8b80e67bdf99c25002cb6572bb2a20606" data-refresh-url="/_alive" data-session-id="8d0a30a2ae42e41fb3e5a4cff33cb8ace7e854502479f3499b5ebbfd8305fb35">
      <link rel="shared-web-socket-src" href="/assets-cdn/worker/socket-worker-71e98f781d79.js">


        <meta name="hostname" content="github.com">


      <meta name="keyboard-shortcuts-preference" content="all">

        <meta name="expected-hostname" content="github.com">

    <meta name="enabled-features" content="TURBO_EXPERIMENT_RISKY,IMAGE_METRIC_TRACKING,GEOJSON_AZURE_MAPS,FAILBOT_HANDLE_NON_ERRORS">


  <meta http-equiv="x-pjax-version" content="56a72ceeb5ecfa9ace9bac2abfd63a19600c506b1bd79192bb823b76bf9ddbec" data-turbo-track="reload">
  <meta http-equiv="x-pjax-csp-version" content="0db263f9a873141d8256f783c35f244c06d490aacc3b680f99794dd8fd59fb59" data-turbo-track="reload">
  <meta http-equiv="x-pjax-css-version" content="6a95f2d869d11acdb0cb69bbb69e72cc0893958aed5dfe309dc6cbe7c75d7d77" data-turbo-track="reload">
  <meta http-equiv="x-pjax-js-version" content="ee9e2f0d1dbd071bf68333a9e6769ddca8815769b71018fe95bfe16c2974c387" data-turbo-track="reload">

  <meta name="turbo-cache-control" content="no-preview" data-turbo-transient="">

      <meta name="turbo-cache-control" content="no-cache" data-turbo-transient>
    <meta data-hydrostats="publish">

  <meta name="go-import" content="github.com/DanCorley/IMDB_Movie_Analysis git https://github.com/DanCorley/IMDB_Movie_Analysis.git">

  <meta name="octolytics-dimension-user_id" content="25124245" /><meta name="octolytics-dimension-user_login" content="DanCorley" /><meta name="octolytics-dimension-repository_id" content="230972868" /><meta name="octolytics-dimension-repository_nwo" content="DanCorley/IMDB_Movie_Analysis" /><meta name="octolytics-dimension-repository_public" content="true" /><meta name="octolytics-dimension-repository_is_fork" content="false" /><meta name="octolytics-dimension-repository_network_root_id" content="230972868" /><meta name="octolytics-dimension-repository_network_root_nwo" content="DanCorley/IMDB_Movie_Analysis" />



  <meta name="turbo-body-classes" content="logged-in env-production page-responsive">


  <meta name="browser-stats-url" content="https://api.github.com/_private/browser/stats">

  <meta name="browser-errors-url" content="https://api.github.com/_private/browser/errors">

  <meta name="browser-optimizely-client-errors-url" content="https://api.github.com/_private/browser/optimizely_client/errors">

  <link rel="mask-icon" href="https://github.githubassets.com/pinned-octocat.svg" color="#000000">
  <link rel="alternate icon" class="js-site-favicon" type="image/png" href="https://github.githubassets.com/favicons/favicon.png">
  <link rel="icon" class="js-site-favicon" type="image/svg+xml" href="https://github.githubassets.com/favicons/favicon.svg">

<meta name="theme-color" content="#1e2327">
<meta name="color-scheme" content="light dark" />

  <meta name="msapplication-TileImage" content="/windows-tile.png">
  <meta name="msapplication-TileColor" content="#ffffff">

  <link rel="manifest" href="/manifest.json" crossOrigin="use-credentials">

  </head>

  <body class="logged-in env-production page-responsive" style="word-wrap: break-word;">
    <div data-turbo-body class="logged-in env-production page-responsive" style="word-wrap: break-word;">
      


    <div class="position-relative js-header-wrapper ">
      <a href="#start-of-content" class="p-3 color-bg-accent-emphasis color-fg-on-emphasis show-on-focus js-skip-to-content">Skip to content</a>
      <span data-view-component="true" class="progress-pjax-loader Progress position-fixed width-full">
    <span style="width: 0%;" data-view-component="true" class="Progress-item progress-pjax-loader-bar left-0 top-0 color-bg-accent-emphasis"></span>
</span>      
      


      

        <script crossorigin="anonymous" defer="defer" type="application/javascript" src="https://github.githubassets.com/assets/vendors-node_modules_allex_crc32_lib_crc32_esm_js-node_modules_github_clipboard-copy-element_-2da1d5-ca2e742c29fb.js"></script>
<script crossorigin="anonymous" defer="defer" type="application/javascript" src="https://github.githubassets.com/assets/app_assets_modules_github_command-palette_items_help-item_ts-app_assets_modules_github_comman-48ad9d-c5a50cb264c5.js"></script>
<script crossorigin="anonymous" defer="defer" type="application/javascript" src="https://github.githubassets.com/assets/command-palette-afa8aec97e66.js"></script>

            <header class="AppHeader">
    <div class="AppHeader-globalBar pb-2 js-global-bar">
      <div class="AppHeader-globalBar-start">
          <deferred-side-panel data-url="/_side-panels/global">
  <include-fragment data-target="deferred-side-panel.fragment">
      
  <button aria-label="Open global navigation menu" data-action="click:deferred-side-panel#loadPanel click:deferred-side-panel#panelOpened" data-show-dialog-id="dialog-a1e6c2d1-13ff-49c5-b0f9-975e966d2824" id="dialog-show-dialog-a1e6c2d1-13ff-49c5-b0f9-975e966d2824" type="button" data-view-component="true" class="Button Button--iconOnly Button--secondary Button--medium AppHeader-button color-bg-transparent p-0 color-fg-muted">    <svg aria-hidden="true" height="16" viewBox="0 0 16 16" version="1.1" width="16" data-view-component="true" class="octicon octicon-three-bars Button-visual">
    <path d="M1 2.75A.75.75 0 0 1 1.75 2h12.5a.75.75 0 0 1 0 1.5H1.75A.75.75 0 0 1 1 2.75Zm0 5A.75.75 0 0 1 1.75 7h12.5a.75.75 0 0 1 0 1.5H1.75A.75.75 0 0 1 1 7.75ZM1.75 12h12.5a.75.75 0 0 1 0 1.5H1.75a.75.75 0 0 1 0-1.5Z"></path>
</svg>
</button>  

<div class="Overlay--hidden Overlay-backdrop--side Overlay-backdrop--placement-left" data-modal-dialog-overlay>
  <modal-dialog data-target="deferred-side-panel.panel" role="dialog" id="dialog-a1e6c2d1-13ff-49c5-b0f9-975e966d2824" aria-modal="true" aria-disabled="true" aria-describedby="dialog-a1e6c2d1-13ff-49c5-b0f9-975e966d2824-title dialog-a1e6c2d1-13ff-49c5-b0f9-975e966d2824-description" data-view-component="true" class="Overlay Overlay-whenNarrow Overlay--size-small-portrait Overlay--motion-scaleFade SidePanel">
    <div styles="flex-direction: row;" data-view-component="true" class="Overlay-header">
  <div class="Overlay-headerContentWrap">
    <div class="Overlay-titleWrap">
      <h1 class="Overlay-title sr-only" id="dialog-a1e6c2d1-13ff-49c5-b0f9-975e966d2824-title">
        Global navigation
      </h1>
            <div data-view-component="true" class="d-flex">
      <div data-view-component="true" class="AppHeader-logo position-relative">
        <svg aria-hidden="true" height="24" viewBox="0 0 16 16" version="1.1" width="24" data-view-component="true" class="octicon octicon-mark-github">
    <path d="M8 0c4.42 0 8 3.58 8 8a8.013 8.013 0 0 1-5.45 7.59c-.4.08-.55-.17-.55-.38 0-.27.01-1.13.01-2.2 0-.75-.25-1.23-.54-1.48 1.78-.2 3.65-.88 3.65-3.95 0-.88-.31-1.59-.82-2.15.08-.2.36-1.02-.08-2.12 0 0-.67-.22-2.2.82-.64-.18-1.32-.27-2-.27-.68 0-1.36.09-2 .27-1.53-1.03-2.2-.82-2.2-.82-.44 1.1-.16 1.92-.08 2.12-.51.56-.82 1.28-.82 2.15 0 3.06 1.86 3.75 3.64 3.95-.23.2-.44.55-.51 1.07-.46.21-1.61.55-2.33-.66-.15-.24-.6-.83-1.23-.82-.67.01-.27.38.01.53.34.19.73.9.82 1.13.16.45.68 1.31 2.69.94 0 .67.01 1.3.01 1.49 0 .21-.15.45-.55.38A7.995 7.995 0 0 1 0 8c0-4.42 3.58-8 8-8Z"></path>
</svg>
</div></div>
    </div>
    <div class="Overlay-actionWrap">
      <button data-close-dialog-id="dialog-a1e6c2d1-13ff-49c5-b0f9-975e966d2824" aria-label="Close" type="button" data-view-component="true" class="close-button Overlay-closeButton"><svg aria-hidden="true" height="16" viewBox="0 0 16 16" version="1.1" width="16" data-view-component="true" class="octicon octicon-x">
    <path d="M3.72 3.72a.75.75 0 0 1 1.06 0L8 6.94l3.22-3.22a.749.749 0 0 1 1.275.326.749.749 0 0 1-.215.734L9.06 8l3.22 3.22a.749.749 0 0 1-.326 1.275.749.749 0 0 1-.734-.215L8 9.06l-3.22 3.22a.751.751 0 0 1-1.042-.018.751.751 0 0 1-.018-1.042L6.94 8 3.72 4.78a.75.75 0 0 1 0-1.06Z"></path>
</svg></button>
    </div>
  </div>
</div>
      <div data-view-component="true" class="Overlay-body d-flex flex-column height-full px-2">      <nav aria-label="Site navigation" data-view-component="true" class="ActionList">
  
  <nav-list>
    <ul data-view-component="true" class="ActionListWrap">
        
          
<li item_id="general" data-item-id="" data-targets="nav-list.items" data-view-component="true" class="ActionListItem">
    
    <a data-hotkey="g d" hydro-click="{&quot;event_type&quot;:&quot;global_header.user_menu_dropdown.click&quot;,&quot;payload&quot;:{&quot;request_url&quot;:&quot;https://github.com/DanCorley/IMDB_Movie_Analysis/blob/master/Movie_Project.ipynb&quot;,&quot;target&quot;:&quot;HOME&quot;,&quot;originating_url&quot;:&quot;https://github.com/DanCorley/IMDB_Movie_Analysis/blob/master/Movie_Project.ipynb&quot;,&quot;user_id&quot;:115712802}}" hydro-click-hmac="8b8b0aa7857ad6bff77f979aad2df6a196782185f7a57f9134b82ad49f5c95be" id="item-978599df-0bcc-4451-87ac-02cdeda4ab49" href="/dashboard" data-view-component="true" class="ActionListContent ActionListContent--visual16">
        <span class="ActionListItem-visual ActionListItem-visual--leading">
          <svg aria-hidden="true" height="16" viewBox="0 0 16 16" version="1.1" width="16" data-view-component="true" class="octicon octicon-home">
    <path d="M6.906.664a1.749 1.749 0 0 1 2.187 0l5.25 4.2c.415.332.657.835.657 1.367v7.019A1.75 1.75 0 0 1 13.25 15h-3.5a.75.75 0 0 1-.75-.75V9H7v5.25a.75.75 0 0 1-.75.75h-3.5A1.75 1.75 0 0 1 1 13.25V6.23c0-.531.242-1.034.657-1.366l5.25-4.2Zm1.25 1.171a.25.25 0 0 0-.312 0l-5.25 4.2a.25.25 0 0 0-.094.196v7.019c0 .138.112.25.25.25H5.5V8.25a.75.75 0 0 1 .75-.75h3.5a.75.75 0 0 1 .75.75v5.25h2.75a.25.25 0 0 0 .25-.25V6.23a.25.25 0 0 0-.094-.195Z"></path>
</svg>
        </span>
      
        <span data-view-component="true" class="ActionListItem-label">
          Home
</span></a>
  
  
</li>

        
          
<li item_id="personal_info" data-item-id="" data-targets="nav-list.items" data-view-component="true" class="ActionListItem">
    
    <a data-hotkey="g i" hydro-click="{&quot;event_type&quot;:&quot;global_header.user_menu_dropdown.click&quot;,&quot;payload&quot;:{&quot;request_url&quot;:&quot;https://github.com/DanCorley/IMDB_Movie_Analysis/blob/master/Movie_Project.ipynb&quot;,&quot;target&quot;:&quot;ISSUES&quot;,&quot;originating_url&quot;:&quot;https://github.com/DanCorley/IMDB_Movie_Analysis/blob/master/Movie_Project.ipynb&quot;,&quot;user_id&quot;:115712802}}" hydro-click-hmac="984e209535a0c1eff8031091c4b2dcc5b14cada785676900e3fce41295e5c98f" id="item-07eac8d1-ed67-475e-a30a-d2cf98ff8006" href="/issues" data-view-component="true" class="ActionListContent ActionListContent--visual16">
        <span class="ActionListItem-visual ActionListItem-visual--leading">
          <svg aria-hidden="true" height="16" viewBox="0 0 16 16" version="1.1" width="16" data-view-component="true" class="octicon octicon-issue-opened">
    <path d="M8 9.5a1.5 1.5 0 1 0 0-3 1.5 1.5 0 0 0 0 3Z"></path><path d="M8 0a8 8 0 1 1 0 16A8 8 0 0 1 8 0ZM1.5 8a6.5 6.5 0 1 0 13 0 6.5 6.5 0 0 0-13 0Z"></path>
</svg>
        </span>
      
        <span data-view-component="true" class="ActionListItem-label">
          Issues
</span></a>
  
  
</li>

        
          
<li item_id="password" data-item-id="" data-targets="nav-list.items" data-view-component="true" class="ActionListItem">
    
    <a data-hotkey="g p" hydro-click="{&quot;event_type&quot;:&quot;global_header.user_menu_dropdown.click&quot;,&quot;payload&quot;:{&quot;request_url&quot;:&quot;https://github.com/DanCorley/IMDB_Movie_Analysis/blob/master/Movie_Project.ipynb&quot;,&quot;target&quot;:&quot;PULL_REQUESTS&quot;,&quot;originating_url&quot;:&quot;https://github.com/DanCorley/IMDB_Movie_Analysis/blob/master/Movie_Project.ipynb&quot;,&quot;user_id&quot;:115712802}}" hydro-click-hmac="df2a9652d78af65f2382f65bd63752135d7ff5bff2c82615aee6f8b36682d6ee" id="item-f0982363-3e04-4791-8559-ea61cc35bd60" href="/pulls" data-view-component="true" class="ActionListContent ActionListContent--visual16">
        <span class="ActionListItem-visual ActionListItem-visual--leading">
          <svg aria-hidden="true" height="16" viewBox="0 0 16 16" version="1.1" width="16" data-view-component="true" class="octicon octicon-git-pull-request">
    <path d="M1.5 3.25a2.25 2.25 0 1 1 3 2.122v5.256a2.251 2.251 0 1 1-1.5 0V5.372A2.25 2.25 0 0 1 1.5 3.25Zm5.677-.177L9.573.677A.25.25 0 0 1 10 .854V2.5h1A2.5 2.5 0 0 1 13.5 5v5.628a2.251 2.251 0 1 1-1.5 0V5a1 1 0 0 0-1-1h-1v1.646a.25.25 0 0 1-.427.177L7.177 3.427a.25.25 0 0 1 0-.354ZM3.75 2.5a.75.75 0 1 0 0 1.5.75.75 0 0 0 0-1.5Zm0 9.5a.75.75 0 1 0 0 1.5.75.75 0 0 0 0-1.5Zm8.25.75a.75.75 0 1 0 1.5 0 .75.75 0 0 0-1.5 0Z"></path>
</svg>
        </span>
      
        <span data-view-component="true" class="ActionListItem-label">
          Pull requests
</span></a>
  
  
</li>

        
          
<li item_id="billing" data-item-id="" data-targets="nav-list.items" data-view-component="true" class="ActionListItem">
    
    <a hydro-click="{&quot;event_type&quot;:&quot;global_header.user_menu_dropdown.click&quot;,&quot;payload&quot;:{&quot;request_url&quot;:&quot;https://github.com/DanCorley/IMDB_Movie_Analysis/blob/master/Movie_Project.ipynb&quot;,&quot;target&quot;:&quot;DISCUSSIONS&quot;,&quot;originating_url&quot;:&quot;https://github.com/DanCorley/IMDB_Movie_Analysis/blob/master/Movie_Project.ipynb&quot;,&quot;user_id&quot;:115712802}}" hydro-click-hmac="8fa5f21fe91f68aa27aacfc3875e9a19c1171cf7735c49fe016531b740ea3dd5" id="item-8e52a23d-a370-41e6-a7b6-5ca35ac66c03" href="/discussions" data-view-component="true" class="ActionListContent ActionListContent--visual16">
        <span class="ActionListItem-visual ActionListItem-visual--leading">
          <svg aria-hidden="true" height="16" viewBox="0 0 16 16" version="1.1" width="16" data-view-component="true" class="octicon octicon-comment-discussion">
    <path d="M1.75 1h8.5c.966 0 1.75.784 1.75 1.75v5.5A1.75 1.75 0 0 1 10.25 10H7.061l-2.574 2.573A1.458 1.458 0 0 1 2 11.543V10h-.25A1.75 1.75 0 0 1 0 8.25v-5.5C0 1.784.784 1 1.75 1ZM1.5 2.75v5.5c0 .138.112.25.25.25h1a.75.75 0 0 1 .75.75v2.19l2.72-2.72a.749.749 0 0 1 .53-.22h3.5a.25.25 0 0 0 .25-.25v-5.5a.25.25 0 0 0-.25-.25h-8.5a.25.25 0 0 0-.25.25Zm13 2a.25.25 0 0 0-.25-.25h-.5a.75.75 0 0 1 0-1.5h.5c.966 0 1.75.784 1.75 1.75v5.5A1.75 1.75 0 0 1 14.25 12H14v1.543a1.458 1.458 0 0 1-2.487 1.03L9.22 12.28a.749.749 0 0 1 .326-1.275.749.749 0 0 1 .734.215l2.22 2.22v-2.19a.75.75 0 0 1 .75-.75h1a.25.25 0 0 0 .25-.25Z"></path>
</svg>
        </span>
      
        <span data-view-component="true" class="ActionListItem-label">
          Discussions
</span></a>
  
  
</li>

</ul>  </nav-list>
</nav>

      <div data-view-component="true" class="my-3 d-flex flex-justify-center height-full">
        <svg style="box-sizing: content-box; color: var(--color-icon-primary);" width="16" height="16" viewBox="0 0 16 16" fill="none" data-view-component="true" class="anim-rotate">
  <circle cx="8" cy="8" r="7" stroke="currentColor" stroke-opacity="0.25" stroke-width="2" vector-effect="non-scaling-stroke" />
  <path d="M15 8a7.002 7.002 0 00-7-7" stroke="currentColor" stroke-width="2" stroke-linecap="round" vector-effect="non-scaling-stroke" />
</svg>
</div>
</div>
      <div data-view-component="true" class="Overlay-footer Overlay-footer--alignEnd d-block pt-0">      <li role="presentation" aria-hidden="true" data-view-component="true" class="ActionList-sectionDivider mt-0 mb-1"></li>

        <nav aria-label="Additional navigation" data-view-component="true" class="ActionList px-0 flex-1">
  
  <nav-list>
    <ul data-view-component="true" class="ActionListWrap">
        
          
<li item_id="general" data-item-id="" data-targets="nav-list.items" data-view-component="true" class="ActionListItem">
    
    <a hydro-click="{&quot;event_type&quot;:&quot;global_header.user_menu_dropdown.click&quot;,&quot;payload&quot;:{&quot;request_url&quot;:&quot;https://github.com/DanCorley/IMDB_Movie_Analysis/blob/master/Movie_Project.ipynb&quot;,&quot;target&quot;:&quot;EXPLORE&quot;,&quot;originating_url&quot;:&quot;https://github.com/DanCorley/IMDB_Movie_Analysis/blob/master/Movie_Project.ipynb&quot;,&quot;user_id&quot;:115712802}}" hydro-click-hmac="a5802fafd6603e2e824bf5ed1c23b3ffb86bb87681025df3afdd48ef2adbee16" id="item-7000e800-ae05-4db0-812f-52354cffcc45" href="/explore" data-view-component="true" class="ActionListContent ActionListContent--visual16">
        <span class="ActionListItem-visual ActionListItem-visual--leading">
          <svg aria-hidden="true" height="16" viewBox="0 0 16 16" version="1.1" width="16" data-view-component="true" class="octicon octicon-telescope">
    <path d="M14.184 1.143v-.001l1.422 2.464a1.75 1.75 0 0 1-.757 2.451L3.104 11.713a1.75 1.75 0 0 1-2.275-.702l-.447-.775a1.75 1.75 0 0 1 .53-2.32L11.682.573a1.748 1.748 0 0 1 2.502.57Zm-4.709 9.32h-.001l2.644 3.863a.75.75 0 1 1-1.238.848l-1.881-2.75v2.826a.75.75 0 0 1-1.5 0v-2.826l-1.881 2.75a.75.75 0 1 1-1.238-.848l2.049-2.992a.746.746 0 0 1 .293-.253l1.809-.87a.749.749 0 0 1 .944.252ZM9.436 3.92h-.001l-4.97 3.39.942 1.63 5.42-2.61Zm3.091-2.108h.001l-1.85 1.26 1.505 2.605 2.016-.97a.247.247 0 0 0 .13-.151.247.247 0 0 0-.022-.199l-1.422-2.464a.253.253 0 0 0-.161-.119.254.254 0 0 0-.197.038ZM1.756 9.157a.25.25 0 0 0-.075.33l.447.775a.25.25 0 0 0 .325.1l1.598-.769-.83-1.436-1.465 1Z"></path>
</svg>
        </span>
      
        <span data-view-component="true" class="ActionListItem-label">
          Explore
</span></a>
  
  
</li>

        
          
<li item_id="general" data-item-id="" data-targets="nav-list.items" data-view-component="true" class="ActionListItem">
    
    <a hydro-click="{&quot;event_type&quot;:&quot;global_header.user_menu_dropdown.click&quot;,&quot;payload&quot;:{&quot;request_url&quot;:&quot;https://github.com/DanCorley/IMDB_Movie_Analysis/blob/master/Movie_Project.ipynb&quot;,&quot;target&quot;:&quot;MARKETPLACE&quot;,&quot;originating_url&quot;:&quot;https://github.com/DanCorley/IMDB_Movie_Analysis/blob/master/Movie_Project.ipynb&quot;,&quot;user_id&quot;:115712802}}" hydro-click-hmac="7c15bed044a4201a64ee64ba8a57f4e06b73005ffac6dd00746a6dbe2a2864b4" id="item-623a1cc4-9d21-43c8-a123-bb82800bce62" href="/marketplace" data-view-component="true" class="ActionListContent ActionListContent--visual16">
        <span class="ActionListItem-visual ActionListItem-visual--leading">
          <svg aria-hidden="true" height="16" viewBox="0 0 16 16" version="1.1" width="16" data-view-component="true" class="octicon octicon-gift">
    <path d="M2 2.75A2.75 2.75 0 0 1 4.75 0c.983 0 1.873.42 2.57 1.232.268.318.497.668.68 1.042.183-.375.411-.725.68-1.044C9.376.42 10.266 0 11.25 0a2.75 2.75 0 0 1 2.45 4h.55c.966 0 1.75.784 1.75 1.75v2c0 .698-.409 1.301-1 1.582v4.918A1.75 1.75 0 0 1 13.25 16H2.75A1.75 1.75 0 0 1 1 14.25V9.332C.409 9.05 0 8.448 0 7.75v-2C0 4.784.784 4 1.75 4h.55c-.192-.375-.3-.8-.3-1.25ZM7.25 9.5H2.5v4.75c0 .138.112.25.25.25h4.5Zm1.5 0v5h4.5a.25.25 0 0 0 .25-.25V9.5Zm0-4V8h5.5a.25.25 0 0 0 .25-.25v-2a.25.25 0 0 0-.25-.25Zm-7 0a.25.25 0 0 0-.25.25v2c0 .138.112.25.25.25h5.5V5.5h-5.5Zm3-4a1.25 1.25 0 0 0 0 2.5h2.309c-.233-.818-.542-1.401-.878-1.793-.43-.502-.915-.707-1.431-.707ZM8.941 4h2.309a1.25 1.25 0 0 0 0-2.5c-.516 0-1 .205-1.43.707-.337.392-.646.975-.879 1.793Z"></path>
</svg>
        </span>
      
        <span data-view-component="true" class="ActionListItem-label">
          Marketplace
</span></a>
  
  
</li>

        
          
<li item_id="feedback" data-item-id="" data-targets="nav-list.items" data-view-component="true" class="ActionListItem">
    
    <a id="item-787a23e0-748b-4ab8-9a88-6fd940d56e05" href="https://gh.io/navigation-update" data-view-component="true" class="ActionListContent ActionListContent--visual16">
        <span class="ActionListItem-visual ActionListItem-visual--leading">
          <svg aria-hidden="true" height="16" viewBox="0 0 16 16" version="1.1" width="16" data-view-component="true" class="octicon octicon-comment-discussion">
    <path d="M1.75 1h8.5c.966 0 1.75.784 1.75 1.75v5.5A1.75 1.75 0 0 1 10.25 10H7.061l-2.574 2.573A1.458 1.458 0 0 1 2 11.543V10h-.25A1.75 1.75 0 0 1 0 8.25v-5.5C0 1.784.784 1 1.75 1ZM1.5 2.75v5.5c0 .138.112.25.25.25h1a.75.75 0 0 1 .75.75v2.19l2.72-2.72a.749.749 0 0 1 .53-.22h3.5a.25.25 0 0 0 .25-.25v-5.5a.25.25 0 0 0-.25-.25h-8.5a.25.25 0 0 0-.25.25Zm13 2a.25.25 0 0 0-.25-.25h-.5a.75.75 0 0 1 0-1.5h.5c.966 0 1.75.784 1.75 1.75v5.5A1.75 1.75 0 0 1 14.25 12H14v1.543a1.458 1.458 0 0 1-2.487 1.03L9.22 12.28a.749.749 0 0 1 .326-1.275.749.749 0 0 1 .734.215l2.22 2.22v-2.19a.75.75 0 0 1 .75-.75h1a.25.25 0 0 0 .25-.25Z"></path>
</svg>
        </span>
      
        <span data-view-component="true" class="ActionListItem-label">
          Give new navigation feedback
</span>        <span class="ActionListItem-visual ActionListItem-visual--trailing">
          <span title="Beta" data-view-component="true" class="Counter color-bg-default color-border-success-emphasis color-fg-success">Beta</span>
        </span>
</a>
  
  
</li>

</ul>  </nav-list>
</nav>

      <div data-view-component="true" class="px-2">      <p class="color-fg-subtle text-small text-light">&copy; 2023 GitHub, Inc.</p>

      <div data-view-component="true" class="d-flex text-small text-light">
          <a target="_blank" href="/about" data-view-component="true" class="no-underline mr-2">About</a>
          <a target="_blank" href="https://github.blog" data-view-component="true" class="no-underline mr-2">Blog</a>
          <a target="_blank" href="https://docs.github.com/site-policy/github-terms/github-terms-of-service" data-view-component="true" class="no-underline mr-2">Terms</a>
          <a target="_blank" href="https://docs.github.com/site-policy/privacy-policies/github-privacy-statement" data-view-component="true" class="no-underline mr-2">Privacy</a>
          <a target="_blank" href="/security" data-view-component="true" class="no-underline mr-2">Security</a>
        <a target="_blank" href="https://www.githubstatus.com/" data-view-component="true" class="no-underline mr-3">Status</a>
</div></div>
</div>
</modal-dialog></div>

  </include-fragment>
</deferred-side-panel>

        <a
          class="AppHeader-logo ml-2"
          href="https://github.com/"
          data-hotkey="g d"
          aria-label="Homepage "
          data-turbo="false"
          data-analytics-event="{&quot;category&quot;:&quot;Header&quot;,&quot;action&quot;:&quot;go to dashboard&quot;,&quot;label&quot;:&quot;icon:logo&quot;}"
        >
          <svg height="32" aria-hidden="true" viewBox="0 0 16 16" version="1.1" width="32" data-view-component="true" class="octicon octicon-mark-github v-align-middle color-fg-default">
    <path d="M8 0c4.42 0 8 3.58 8 8a8.013 8.013 0 0 1-5.45 7.59c-.4.08-.55-.17-.55-.38 0-.27.01-1.13.01-2.2 0-.75-.25-1.23-.54-1.48 1.78-.2 3.65-.88 3.65-3.95 0-.88-.31-1.59-.82-2.15.08-.2.36-1.02-.08-2.12 0 0-.67-.22-2.2.82-.64-.18-1.32-.27-2-.27-.68 0-1.36.09-2 .27-1.53-1.03-2.2-.82-2.2-.82-.44 1.1-.16 1.92-.08 2.12-.51.56-.82 1.28-.82 2.15 0 3.06 1.86 3.75 3.64 3.95-.23.2-.44.55-.51 1.07-.46.21-1.61.55-2.33-.66-.15-.24-.6-.83-1.23-.82-.67.01-.27.38.01.53.34.19.73.9.82 1.13.16.45.68 1.31 2.69.94 0 .67.01 1.3.01 1.49 0 .21-.15.45-.55.38A7.995 7.995 0 0 1 0 8c0-4.42 3.58-8 8-8Z"></path>
</svg>
        </a>

          <div class="AppHeader-context" >
  <div class="AppHeader-context-compact">
        <button aria-expanded="false" aria-haspopup="dialog" aria-label="Page context: DanCorley / IMDB_Movie_Analysis" id="dialog-show-context-region-dialog" data-show-dialog-id="context-region-dialog" type="button" data-view-component="true" class="AppHeader-context-compact-trigger Truncate Button--secondary Button--medium Button box-shadow-none">    <span class="Button-content">
      <span class="Button-label"><span class="AppHeader-context-compact-lead">
                <span class="AppHeader-context-compact-parentItem">DanCorley</span>
                <span class="AppHeader-context-compact-separator">&nbsp;/</span>

            </span>

            <strong class="AppHeader-context-compact-mainItem d-flex flex-items-center Truncate" >
  <span class="Truncate-text ">IMDB_Movie_Analysis</span>

</strong></span>
    </span>
</button>  

<div class="Overlay--hidden Overlay-backdrop--center" data-modal-dialog-overlay>
  <modal-dialog role="dialog" id="context-region-dialog" aria-modal="true" aria-disabled="true" aria-describedby="context-region-dialog-title context-region-dialog-description" data-view-component="true" class="Overlay Overlay-whenNarrow Overlay--size-medium Overlay--motion-scaleFade">
    <div data-view-component="true" class="Overlay-header">
  <div class="Overlay-headerContentWrap">
    <div class="Overlay-titleWrap">
      <h1 class="Overlay-title " id="context-region-dialog-title">
        Navigate back to
      </h1>
    </div>
    <div class="Overlay-actionWrap">
      <button data-close-dialog-id="context-region-dialog" aria-label="Close" type="button" data-view-component="true" class="close-button Overlay-closeButton"><svg aria-hidden="true" height="16" viewBox="0 0 16 16" version="1.1" width="16" data-view-component="true" class="octicon octicon-x">
    <path d="M3.72 3.72a.75.75 0 0 1 1.06 0L8 6.94l3.22-3.22a.749.749 0 0 1 1.275.326.749.749 0 0 1-.215.734L9.06 8l3.22 3.22a.749.749 0 0 1-.326 1.275.749.749 0 0 1-.734-.215L8 9.06l-3.22 3.22a.751.751 0 0 1-1.042-.018.751.751 0 0 1-.018-1.042L6.94 8 3.72 4.78a.75.75 0 0 1 0-1.06Z"></path>
</svg></button>
    </div>
  </div>
</div>
      <div data-view-component="true" class="Overlay-body">          <ul role="list" class="list-style-none" >
    <li>
      <a data-analytics-event="{&quot;category&quot;:&quot;SiteHeaderComponent&quot;,&quot;action&quot;:&quot;context_region_crumb&quot;,&quot;label&quot;:&quot;DanCorley&quot;,&quot;screen_size&quot;:&quot;compact&quot;}" href="/DanCorley" data-view-component="true" class="Link--primary Truncate d-flex flex-items-center py-1">
        <span class="AppHeader-context-item-label Truncate-text ">
          DanCorley
        </span>

</a>
    </li>
    <li>
      <a data-analytics-event="{&quot;category&quot;:&quot;SiteHeaderComponent&quot;,&quot;action&quot;:&quot;context_region_crumb&quot;,&quot;label&quot;:&quot;IMDB_Movie_Analysis&quot;,&quot;screen_size&quot;:&quot;compact&quot;}" href="/DanCorley/IMDB_Movie_Analysis" data-view-component="true" class="Link--primary Truncate d-flex flex-items-center py-1">
        <span class="AppHeader-context-item-label Truncate-text ">
          IMDB_Movie_Analysis
        </span>

</a>
    </li>
</ul>

</div>
      
</modal-dialog></div>
  </div>

  <div class="AppHeader-context-full">
    <nav role="navigation" aria-label="Page context">
      <ul role="list" class="list-style-none" >
    <li>
      <a data-analytics-event="{&quot;category&quot;:&quot;SiteHeaderComponent&quot;,&quot;action&quot;:&quot;context_region_crumb&quot;,&quot;label&quot;:&quot;DanCorley&quot;,&quot;screen_size&quot;:&quot;full&quot;}" data-hovercard-type="user" data-hovercard-url="/users/DanCorley/hovercard" data-octo-click="hovercard-link-click" data-octo-dimensions="link_type:self" href="/DanCorley" data-view-component="true" class="AppHeader-context-item">
        <span class="AppHeader-context-item-label  ">
          DanCorley
        </span>

</a>
        <span class="AppHeader-context-item-separator">/</span>
    </li>
    <li>
      <a data-analytics-event="{&quot;category&quot;:&quot;SiteHeaderComponent&quot;,&quot;action&quot;:&quot;context_region_crumb&quot;,&quot;label&quot;:&quot;IMDB_Movie_Analysis&quot;,&quot;screen_size&quot;:&quot;full&quot;}" href="/DanCorley/IMDB_Movie_Analysis" data-view-component="true" class="AppHeader-context-item">
        <span class="AppHeader-context-item-label  ">
          IMDB_Movie_Analysis
        </span>

</a>
    </li>
</ul>

    </nav>
  </div>
</div>

      </div>
      <div class="AppHeader-globalBar-end">
          <div class="AppHeader-search" >
              


<qbsearch-input class="search-input" data-scope="repo:DanCorley/IMDB_Movie_Analysis" data-custom-scopes-path="/search/custom_scopes" data-delete-custom-scopes-csrf="d6bk2kQY7k7VhZZCsH9l9SOB9HoiNBErzJn-8jk3DP-57JALQGPL_3_MBoMIeau2E31564c4L25Tg8SbBKpY-Q" data-max-custom-scopes="10" data-header-redesign-enabled="true" data-initial-value="" data-blackbird-suggestions-path="/search/suggestions" data-jump-to-suggestions-path="/_graphql/GetSuggestedNavigationDestinations" data-current-repository="DanCorley/IMDB_Movie_Analysis" data-current-org="" data-current-owner="DanCorley" data-logged-in="true">
  <div
    class="search-input-container search-with-dialog position-relative d-flex flex-row flex-items-center height-auto color-bg-transparent border-0 color-fg-subtle mx-0"
    data-action="click:qbsearch-input#searchInputContainerClicked"
  >
      
            <button type="button" data-action="click:qbsearch-input#handleExpand" class="AppHeader-button AppHeader-search-whenNarrow" aria-label="Search or jump to…" aria-expanded="false" aria-haspopup="dialog">
            <svg aria-hidden="true" height="16" viewBox="0 0 16 16" version="1.1" width="16" data-view-component="true" class="octicon octicon-search">
    <path d="M10.68 11.74a6 6 0 0 1-7.922-8.982 6 6 0 0 1 8.982 7.922l3.04 3.04a.749.749 0 0 1-.326 1.275.749.749 0 0 1-.734-.215ZM11.5 7a4.499 4.499 0 1 0-8.997 0A4.499 4.499 0 0 0 11.5 7Z"></path>
</svg>
          </button>


<div class="AppHeader-search-whenRegular">
  <div class="AppHeader-search-wrap AppHeader-search-wrap--hasTrailing">
    <div class="AppHeader-search-control">
      <label
        for="AppHeader-searchInput"
        aria-label="Search or jump to…"
        class="AppHeader-search-visual--leading"
      >
        <svg aria-hidden="true" height="16" viewBox="0 0 16 16" version="1.1" width="16" data-view-component="true" class="octicon octicon-search">
    <path d="M10.68 11.74a6 6 0 0 1-7.922-8.982 6 6 0 0 1 8.982 7.922l3.04 3.04a.749.749 0 0 1-.326 1.275.749.749 0 0 1-.734-.215ZM11.5 7a4.499 4.499 0 1 0-8.997 0A4.499 4.499 0 0 0 11.5 7Z"></path>
</svg>
      </label>

                <button
            type="button"
            data-target="qbsearch-input.inputButton"
            data-action="click:qbsearch-input#handleExpand"
            class="AppHeader-searchButton form-control input-contrast text-left color-fg-subtle no-wrap"
            data-hotkey="s,/"
          >
            <div class="overflow-hidden">
              <span data-target="qbsearch-input.inputButtonText">
                  Type <kbd class="AppHeader-search-kbd">/</kbd> to search
              </span>
            </div>
          </button>

    </div>


      <button type="button" id="AppHeader-commandPalette-button" class="AppHeader-search-action--trailing js-activate-command-palette" data-analytics-event="{&quot;category&quot;:&quot;SiteHeaderComponent&quot;,&quot;action&quot;:&quot;command_palette&quot;,&quot;label&quot;:&quot;open command palette&quot;}">
        <svg aria-hidden="true" height="16" viewBox="0 0 16 16" version="1.1" width="16" data-view-component="true" class="octicon octicon-command-palette">
    <path d="m6.354 8.04-4.773 4.773a.75.75 0 1 0 1.061 1.06L7.945 8.57a.75.75 0 0 0 0-1.06L2.642 2.206a.75.75 0 0 0-1.06 1.061L6.353 8.04ZM8.75 11.5a.75.75 0 0 0 0 1.5h5.5a.75.75 0 0 0 0-1.5h-5.5Z"></path>
</svg>
      </button>

      <tool-tip id="tooltip-d09a53e8-1113-41ce-87f5-9f877ef3953f" for="AppHeader-commandPalette-button" data-direction="s" data-type="label" data-view-component="true" class="sr-only position-absolute">Command palette</tool-tip>
  </div>
</div>

    <input type="hidden" name="type" class="js-site-search-type-field">

    
<div class="Overlay--hidden " data-modal-dialog-overlay>
  <modal-dialog data-action="close:qbsearch-input#handleClose cancel:qbsearch-input#handleClose" data-target="qbsearch-input.searchSuggestionsDialog" role="dialog" id="search-suggestions-dialog" aria-modal="true" aria-labelledby="search-suggestions-dialog-header" data-view-component="true" class="Overlay Overlay--width-medium Overlay--height-auto">
      <h1 id="search-suggestions-dialog-header" class="sr-only">Search code, repositories, users, issues, pull requests...</h1>
    <div class="Overlay-body Overlay-body--paddingNone">
      
          <div data-view-component="true">        <div class="search-suggestions position-absolute width-full color-shadow-large border color-fg-default color-bg-default overflow-hidden d-flex flex-column query-builder-container"
          style="border-radius: 12px;"
          data-target="qbsearch-input.queryBuilderContainer"
          hidden
        >
          <!-- '"` --><!-- </textarea></xmp> --></option></form><form id="query-builder-test-form" action="" accept-charset="UTF-8" method="get">
  <query-builder data-target="qbsearch-input.queryBuilder" id="query-builder-query-builder-test" data-filter-key=":" data-view-component="true" class="QueryBuilder search-query-builder">
    <div class="FormControl FormControl--fullWidth">
      <label id="query-builder-test-label" for="query-builder-test" class="FormControl-label sr-only">
        Search
      </label>
      <div class="QueryBuilder-StyledInput width-fit" data-target="query-builder.styledInput">
          <span id="query-builder-test-leadingvisual-wrap" class="FormControl-input-leadingVisualWrap QueryBuilder-leadingVisualWrap">
            <svg aria-hidden="true" height="16" viewBox="0 0 16 16" version="1.1" width="16" data-view-component="true" class="octicon octicon-search FormControl-input-leadingVisual">
    <path d="M10.68 11.74a6 6 0 0 1-7.922-8.982 6 6 0 0 1 8.982 7.922l3.04 3.04a.749.749 0 0 1-.326 1.275.749.749 0 0 1-.734-.215ZM11.5 7a4.499 4.499 0 1 0-8.997 0A4.499 4.499 0 0 0 11.5 7Z"></path>
</svg>
          </span>
        <div data-target="query-builder.styledInputContainer" class="QueryBuilder-StyledInputContainer">
          <div
            aria-hidden="true"
            class="QueryBuilder-StyledInputContent"
            data-target="query-builder.styledInputContent"
          ></div>
          <div class="QueryBuilder-InputWrapper">
            <div aria-hidden="true" class="QueryBuilder-Sizer" data-target="query-builder.sizer"></div>
            <input id="query-builder-test" name="query-builder-test" value="" autocomplete="off" type="text" role="combobox" spellcheck="false" aria-expanded="false" data-target="query-builder.input" data-action="
          input:query-builder#inputChange
          blur:query-builder#inputBlur
          keydown:query-builder#inputKeydown
          focus:query-builder#inputFocus
        " data-view-component="true" class="FormControl-input QueryBuilder-Input FormControl-medium" />
          </div>
        </div>
          <span class="sr-only" id="query-builder-test-clear">Clear</span>
          
  <button role="button" id="query-builder-test-clear-button" aria-labelledby="query-builder-test-clear query-builder-test-label" data-target="query-builder.clearButton" data-action="
                click:query-builder#clear
                focus:query-builder#clearButtonFocus
                blur:query-builder#clearButtonBlur
              " variant="small" hidden="hidden" type="button" data-view-component="true" class="Button Button--iconOnly Button--invisible Button--medium mr-1 px-2 py-0 d-flex flex-items-center rounded-1 color-fg-muted">    <svg aria-hidden="true" height="16" viewBox="0 0 16 16" version="1.1" width="16" data-view-component="true" class="octicon octicon-x-circle-fill Button-visual">
    <path d="M2.343 13.657A8 8 0 1 1 13.658 2.343 8 8 0 0 1 2.343 13.657ZM6.03 4.97a.751.751 0 0 0-1.042.018.751.751 0 0 0-.018 1.042L6.94 8 4.97 9.97a.749.749 0 0 0 .326 1.275.749.749 0 0 0 .734-.215L8 9.06l1.97 1.97a.749.749 0 0 0 1.275-.326.749.749 0 0 0-.215-.734L9.06 8l1.97-1.97a.749.749 0 0 0-.326-1.275.749.749 0 0 0-.734.215L8 6.94Z"></path>
</svg>
</button>  

      </div>
      <template id="search-icon">
  <svg aria-hidden="true" height="16" viewBox="0 0 16 16" version="1.1" width="16" data-view-component="true" class="octicon octicon-search">
    <path d="M10.68 11.74a6 6 0 0 1-7.922-8.982 6 6 0 0 1 8.982 7.922l3.04 3.04a.749.749 0 0 1-.326 1.275.749.749 0 0 1-.734-.215ZM11.5 7a4.499 4.499 0 1 0-8.997 0A4.499 4.499 0 0 0 11.5 7Z"></path>
</svg>
</template>

<template id="code-icon">
  <svg aria-hidden="true" height="16" viewBox="0 0 16 16" version="1.1" width="16" data-view-component="true" class="octicon octicon-code">
    <path d="m11.28 3.22 4.25 4.25a.75.75 0 0 1 0 1.06l-4.25 4.25a.749.749 0 0 1-1.275-.326.749.749 0 0 1 .215-.734L13.94 8l-3.72-3.72a.749.749 0 0 1 .326-1.275.749.749 0 0 1 .734.215Zm-6.56 0a.751.751 0 0 1 1.042.018.751.751 0 0 1 .018 1.042L2.06 8l3.72 3.72a.749.749 0 0 1-.326 1.275.749.749 0 0 1-.734-.215L.47 8.53a.75.75 0 0 1 0-1.06Z"></path>
</svg>
</template>

<template id="file-code-icon">
  <svg aria-hidden="true" height="16" viewBox="0 0 16 16" version="1.1" width="16" data-view-component="true" class="octicon octicon-file-code">
    <path d="M4 1.75C4 .784 4.784 0 5.75 0h5.586c.464 0 .909.184 1.237.513l2.914 2.914c.329.328.513.773.513 1.237v8.586A1.75 1.75 0 0 1 14.25 15h-9a.75.75 0 0 1 0-1.5h9a.25.25 0 0 0 .25-.25V6h-2.75A1.75 1.75 0 0 1 10 4.25V1.5H5.75a.25.25 0 0 0-.25.25v2.5a.75.75 0 0 1-1.5 0Zm1.72 4.97a.75.75 0 0 1 1.06 0l2 2a.75.75 0 0 1 0 1.06l-2 2a.749.749 0 0 1-1.275-.326.749.749 0 0 1 .215-.734l1.47-1.47-1.47-1.47a.75.75 0 0 1 0-1.06ZM3.28 7.78 1.81 9.25l1.47 1.47a.751.751 0 0 1-.018 1.042.751.751 0 0 1-1.042.018l-2-2a.75.75 0 0 1 0-1.06l2-2a.751.751 0 0 1 1.042.018.751.751 0 0 1 .018 1.042Zm8.22-6.218V4.25c0 .138.112.25.25.25h2.688l-.011-.013-2.914-2.914-.013-.011Z"></path>
</svg>
</template>

<template id="history-icon">
  <svg aria-hidden="true" height="16" viewBox="0 0 16 16" version="1.1" width="16" data-view-component="true" class="octicon octicon-history">
    <path d="m.427 1.927 1.215 1.215a8.002 8.002 0 1 1-1.6 5.685.75.75 0 1 1 1.493-.154 6.5 6.5 0 1 0 1.18-4.458l1.358 1.358A.25.25 0 0 1 3.896 6H.25A.25.25 0 0 1 0 5.75V2.104a.25.25 0 0 1 .427-.177ZM7.75 4a.75.75 0 0 1 .75.75v2.992l2.028.812a.75.75 0 0 1-.557 1.392l-2.5-1A.751.751 0 0 1 7 8.25v-3.5A.75.75 0 0 1 7.75 4Z"></path>
</svg>
</template>

<template id="repo-icon">
  <svg aria-hidden="true" height="16" viewBox="0 0 16 16" version="1.1" width="16" data-view-component="true" class="octicon octicon-repo">
    <path d="M2 2.5A2.5 2.5 0 0 1 4.5 0h8.75a.75.75 0 0 1 .75.75v12.5a.75.75 0 0 1-.75.75h-2.5a.75.75 0 0 1 0-1.5h1.75v-2h-8a1 1 0 0 0-.714 1.7.75.75 0 1 1-1.072 1.05A2.495 2.495 0 0 1 2 11.5Zm10.5-1h-8a1 1 0 0 0-1 1v6.708A2.486 2.486 0 0 1 4.5 9h8ZM5 12.25a.25.25 0 0 1 .25-.25h3.5a.25.25 0 0 1 .25.25v3.25a.25.25 0 0 1-.4.2l-1.45-1.087a.249.249 0 0 0-.3 0L5.4 15.7a.25.25 0 0 1-.4-.2Z"></path>
</svg>
</template>

<template id="bookmark-icon">
  <svg aria-hidden="true" height="16" viewBox="0 0 16 16" version="1.1" width="16" data-view-component="true" class="octicon octicon-bookmark">
    <path d="M3 2.75C3 1.784 3.784 1 4.75 1h6.5c.966 0 1.75.784 1.75 1.75v11.5a.75.75 0 0 1-1.227.579L8 11.722l-3.773 3.107A.751.751 0 0 1 3 14.25Zm1.75-.25a.25.25 0 0 0-.25.25v9.91l3.023-2.489a.75.75 0 0 1 .954 0l3.023 2.49V2.75a.25.25 0 0 0-.25-.25Z"></path>
</svg>
</template>

<template id="plus-circle-icon">
  <svg aria-hidden="true" height="16" viewBox="0 0 16 16" version="1.1" width="16" data-view-component="true" class="octicon octicon-plus-circle">
    <path d="M8 0a8 8 0 1 1 0 16A8 8 0 0 1 8 0ZM1.5 8a6.5 6.5 0 1 0 13 0 6.5 6.5 0 0 0-13 0Zm7.25-3.25v2.5h2.5a.75.75 0 0 1 0 1.5h-2.5v2.5a.75.75 0 0 1-1.5 0v-2.5h-2.5a.75.75 0 0 1 0-1.5h2.5v-2.5a.75.75 0 0 1 1.5 0Z"></path>
</svg>
</template>

<template id="circle-icon">
  <svg aria-hidden="true" height="16" viewBox="0 0 16 16" version="1.1" width="16" data-view-component="true" class="octicon octicon-dot-fill">
    <path d="M8 4a4 4 0 1 1 0 8 4 4 0 0 1 0-8Z"></path>
</svg>
</template>

<template id="trash-icon">
  <svg aria-hidden="true" height="16" viewBox="0 0 16 16" version="1.1" width="16" data-view-component="true" class="octicon octicon-trash">
    <path d="M11 1.75V3h2.25a.75.75 0 0 1 0 1.5H2.75a.75.75 0 0 1 0-1.5H5V1.75C5 .784 5.784 0 6.75 0h2.5C10.216 0 11 .784 11 1.75ZM4.496 6.675l.66 6.6a.25.25 0 0 0 .249.225h5.19a.25.25 0 0 0 .249-.225l.66-6.6a.75.75 0 0 1 1.492.149l-.66 6.6A1.748 1.748 0 0 1 10.595 15h-5.19a1.75 1.75 0 0 1-1.741-1.575l-.66-6.6a.75.75 0 1 1 1.492-.15ZM6.5 1.75V3h3V1.75a.25.25 0 0 0-.25-.25h-2.5a.25.25 0 0 0-.25.25Z"></path>
</svg>
</template>

<template id="team-icon">
  <svg aria-hidden="true" height="16" viewBox="0 0 16 16" version="1.1" width="16" data-view-component="true" class="octicon octicon-people">
    <path d="M2 5.5a3.5 3.5 0 1 1 5.898 2.549 5.508 5.508 0 0 1 3.034 4.084.75.75 0 1 1-1.482.235 4 4 0 0 0-7.9 0 .75.75 0 0 1-1.482-.236A5.507 5.507 0 0 1 3.102 8.05 3.493 3.493 0 0 1 2 5.5ZM11 4a3.001 3.001 0 0 1 2.22 5.018 5.01 5.01 0 0 1 2.56 3.012.749.749 0 0 1-.885.954.752.752 0 0 1-.549-.514 3.507 3.507 0 0 0-2.522-2.372.75.75 0 0 1-.574-.73v-.352a.75.75 0 0 1 .416-.672A1.5 1.5 0 0 0 11 5.5.75.75 0 0 1 11 4Zm-5.5-.5a2 2 0 1 0-.001 3.999A2 2 0 0 0 5.5 3.5Z"></path>
</svg>
</template>

<template id="project-icon">
  <svg aria-hidden="true" height="16" viewBox="0 0 16 16" version="1.1" width="16" data-view-component="true" class="octicon octicon-project">
    <path d="M1.75 0h12.5C15.216 0 16 .784 16 1.75v12.5A1.75 1.75 0 0 1 14.25 16H1.75A1.75 1.75 0 0 1 0 14.25V1.75C0 .784.784 0 1.75 0ZM1.5 1.75v12.5c0 .138.112.25.25.25h12.5a.25.25 0 0 0 .25-.25V1.75a.25.25 0 0 0-.25-.25H1.75a.25.25 0 0 0-.25.25ZM11.75 3a.75.75 0 0 1 .75.75v7.5a.75.75 0 0 1-1.5 0v-7.5a.75.75 0 0 1 .75-.75Zm-8.25.75a.75.75 0 0 1 1.5 0v5.5a.75.75 0 0 1-1.5 0ZM8 3a.75.75 0 0 1 .75.75v3.5a.75.75 0 0 1-1.5 0v-3.5A.75.75 0 0 1 8 3Z"></path>
</svg>
</template>

<template id="pencil-icon">
  <svg aria-hidden="true" height="16" viewBox="0 0 16 16" version="1.1" width="16" data-view-component="true" class="octicon octicon-pencil">
    <path d="M11.013 1.427a1.75 1.75 0 0 1 2.474 0l1.086 1.086a1.75 1.75 0 0 1 0 2.474l-8.61 8.61c-.21.21-.47.364-.756.445l-3.251.93a.75.75 0 0 1-.927-.928l.929-3.25c.081-.286.235-.547.445-.758l8.61-8.61Zm.176 4.823L9.75 4.81l-6.286 6.287a.253.253 0 0 0-.064.108l-.558 1.953 1.953-.558a.253.253 0 0 0 .108-.064Zm1.238-3.763a.25.25 0 0 0-.354 0L10.811 3.75l1.439 1.44 1.263-1.263a.25.25 0 0 0 0-.354Z"></path>
</svg>
</template>

        <div class="position-relative">
                <ul
                  role="listbox"
                  class="ActionListWrap QueryBuilder-ListWrap"
                  aria-label="Suggestions"
                  data-action="
                    combobox-commit:query-builder#comboboxCommit
                    mousedown:query-builder#resultsMousedown
                  "
                  data-target="query-builder.resultsList"
                  data-persist-list=false
                  id="query-builder-test-results"
                ></ul>
        </div>
    </div>
    <div data-target="query-builder.screenReaderFeedback" aria-live="polite" aria-atomic="true" class="sr-only"></div>
</query-builder></form>
          <div class="d-flex flex-row color-fg-muted px-3 text-small color-bg-default search-feedback-prompt">
            <a target="_blank" href="https://docs.github.com/en/search-github/github-code-search/understanding-github-code-search-syntax" data-view-component="true" class="color-fg-accent text-normal ml-2">
              Search syntax tips
</a>            <div class="d-flex flex-1"></div>
                <button data-action="click:qbsearch-input#showFeedbackDialog" type="button" data-view-component="true" class="Button--link Button--medium Button color-fg-accent text-normal ml-2">    <span class="Button-content">
      <span class="Button-label">Give feedback</span>
    </span>
</button>  
          </div>
        </div>
</div>

    </div>
</modal-dialog></div>
  </div>
  <div data-action="click:qbsearch-input#retract" class="dark-backdrop position-fixed" hidden data-target="qbsearch-input.darkBackdrop"></div>
  <div class="color-fg-default">
    
<div class="Overlay--hidden Overlay-backdrop--center" data-modal-dialog-overlay>
  <modal-dialog data-target="qbsearch-input.feedbackDialog" data-action="close:qbsearch-input#handleDialogClose cancel:qbsearch-input#handleDialogClose" role="dialog" id="feedback-dialog" aria-modal="true" aria-disabled="true" aria-describedby="feedback-dialog-title feedback-dialog-description" data-view-component="true" class="Overlay Overlay-whenNarrow Overlay--size-medium Overlay--motion-scaleFade">
    <div data-view-component="true" class="Overlay-header">
  <div class="Overlay-headerContentWrap">
    <div class="Overlay-titleWrap">
      <h1 class="Overlay-title " id="feedback-dialog-title">
        Provide feedback
      </h1>
    </div>
    <div class="Overlay-actionWrap">
      <button data-close-dialog-id="feedback-dialog" aria-label="Close" type="button" data-view-component="true" class="close-button Overlay-closeButton"><svg aria-hidden="true" height="16" viewBox="0 0 16 16" version="1.1" width="16" data-view-component="true" class="octicon octicon-x">
    <path d="M3.72 3.72a.75.75 0 0 1 1.06 0L8 6.94l3.22-3.22a.749.749 0 0 1 1.275.326.749.749 0 0 1-.215.734L9.06 8l3.22 3.22a.749.749 0 0 1-.326 1.275.749.749 0 0 1-.734-.215L8 9.06l-3.22 3.22a.751.751 0 0 1-1.042-.018.751.751 0 0 1-.018-1.042L6.94 8 3.72 4.78a.75.75 0 0 1 0-1.06Z"></path>
</svg></button>
    </div>
  </div>
</div>
      <div data-view-component="true" class="Overlay-body">        <!-- '"` --><!-- </textarea></xmp> --></option></form><form id="code-search-feedback-form" data-turbo="false" action="/search/feedback" accept-charset="UTF-8" method="post"><input type="hidden" name="authenticity_token" value="UQHOyp6ifFCP2Q-8-RXhiofKpqcErzgzVzTzO2_XEvXJc2MktBXWrzE5aPbubZ-FEJwHjeQy0304Gf_v0S5sPQ" />
          <p>We read every piece of feedback, and take your input very seriously.</p>
          <textarea name="feedback" class="form-control width-full mb-2" style="height: 120px" id="feedback"></textarea>
          <input name="include_email" id="include_email" aria-label="Include my email address so I can be contacted" class="form-control mr-2" type="checkbox">
          <label for="include_email" style="font-weight: normal">Include my email address so I can be contacted</label>
</form></div>
      <div data-view-component="true" class="Overlay-footer Overlay-footer--alignEnd">          <button data-close-dialog-id="feedback-dialog" type="button" data-view-component="true" class="btn">    Cancel
</button>
          <button form="code-search-feedback-form" data-action="click:qbsearch-input#submitFeedback" type="submit" data-view-component="true" class="btn-primary btn">    Submit feedback
</button>
</div>
</modal-dialog></div>

    <custom-scopes data-target="qbsearch-input.customScopesManager">
    
<div class="Overlay--hidden Overlay-backdrop--center" data-modal-dialog-overlay>
  <modal-dialog data-target="custom-scopes.customScopesModalDialog" data-action="close:qbsearch-input#handleDialogClose cancel:qbsearch-input#handleDialogClose" role="dialog" id="custom-scopes-dialog" aria-modal="true" aria-disabled="true" aria-describedby="custom-scopes-dialog-title custom-scopes-dialog-description" data-view-component="true" class="Overlay Overlay-whenNarrow Overlay--size-medium Overlay--motion-scaleFade">
    <div data-view-component="true" class="Overlay-header Overlay-header--divided">
  <div class="Overlay-headerContentWrap">
    <div class="Overlay-titleWrap">
      <h1 class="Overlay-title " id="custom-scopes-dialog-title">
        Saved searches
      </h1>
        <h2 id="custom-scopes-dialog-description" class="Overlay-description">Use saved searches to filter your results more quickly</h2>
    </div>
    <div class="Overlay-actionWrap">
      <button data-close-dialog-id="custom-scopes-dialog" aria-label="Close" type="button" data-view-component="true" class="close-button Overlay-closeButton"><svg aria-hidden="true" height="16" viewBox="0 0 16 16" version="1.1" width="16" data-view-component="true" class="octicon octicon-x">
    <path d="M3.72 3.72a.75.75 0 0 1 1.06 0L8 6.94l3.22-3.22a.749.749 0 0 1 1.275.326.749.749 0 0 1-.215.734L9.06 8l3.22 3.22a.749.749 0 0 1-.326 1.275.749.749 0 0 1-.734-.215L8 9.06l-3.22 3.22a.751.751 0 0 1-1.042-.018.751.751 0 0 1-.018-1.042L6.94 8 3.72 4.78a.75.75 0 0 1 0-1.06Z"></path>
</svg></button>
    </div>
  </div>
</div>
      <div data-view-component="true" class="Overlay-body">        <div data-target="custom-scopes.customScopesModalDialogFlash"></div>

        <div hidden class="create-custom-scope-form" data-target="custom-scopes.createCustomScopeForm">
        <!-- '"` --><!-- </textarea></xmp> --></option></form><form id="custom-scopes-dialog-form" data-turbo="false" action="/search/custom_scopes" accept-charset="UTF-8" method="post"><input type="hidden" name="authenticity_token" value="APzsjVYByBptPGypMRUcEdEPrc8bb-SjKNM-nBEjBE5637VNPnvSUL-4XdJBB89yUddQiJBCAtl5WnOmjkeHWQ" />
          <div data-target="custom-scopes.customScopesModalDialogFlash"></div>

          <input type="hidden" id="custom_scope_id" name="custom_scope_id" data-target="custom-scopes.customScopesIdField">

          <div class="form-group">
            <label for="custom_scope_name">Name</label>
            <auto-check src="/search/custom_scopes/check_name" required>
              <input
                type="text"
                name="custom_scope_name"
                id="custom_scope_name"
                data-target="custom-scopes.customScopesNameField"
                class="form-control"
                autocomplete="off"
                placeholder="github-ruby"
                required
                maxlength="50">
              <input type="hidden" value="5u1vMQjbsEyZdPCJZA6HuMv7xHqWP0f3RcijcYXBSGJuXVdqCNmSvN-nP2ynDbXMEHkjYqkj9PnZsHgcZddNEg" data-csrf="true" />
            </auto-check>
          </div>

          <div class="form-group">
            <label for="custom_scope_query">Query</label>
            <input
              type="text"
              name="custom_scope_query"
              id="custom_scope_query"
              data-target="custom-scopes.customScopesQueryField"
              class="form-control"
              autocomplete="off"
              placeholder="(repo:mona/a OR repo:mona/b) AND lang:python"
              required
              maxlength="500">
          </div>

          <p class="text-small color-fg-muted">
            To see all available qualifiers, see our <a href="https://docs.github.com/en/search-github/github-code-search/understanding-github-code-search-syntax">documentation</a>.
          </p>
</form>        </div>

        <div data-target="custom-scopes.manageCustomScopesForm">
          <div data-target="custom-scopes.list"></div>
        </div>

</div>
      <div data-view-component="true" class="Overlay-footer Overlay-footer--alignEnd Overlay-footer--divided">          <button data-action="click:custom-scopes#customScopesCancel" type="button" data-view-component="true" class="btn">    Cancel
</button>
          <button form="custom-scopes-dialog-form" data-action="click:custom-scopes#customScopesSubmit" data-target="custom-scopes.customScopesSubmitButton" type="submit" data-view-component="true" class="btn-primary btn">    Create saved search
</button>
</div>
</modal-dialog></div>
    </custom-scopes>
  </div>
</qbsearch-input><input type="hidden" value="XTMEdAQTj0c_KN-AmnLR4Qe2kVUjvfGrR1mVWevICtFRjD1OR4zxKlVXl4CssdjVpS2A2Ec0AosyGfkTgoVqWA" data-csrf="true" class="js-data-jump-to-suggestions-path-csrf" />

          </div>

        <div class="AppHeader-actions">
          <action-menu data-select-variant="none" data-view-component="true">
  <focus-group direction="vertical" mnemonics retain>
    <div data-view-component="true" class="Button-withTooltip">  <button id="global-create-menu-button" popovertarget="global-create-menu-overlay" aria-label="Create something new" aria-controls="global-create-menu-list" aria-haspopup="true" type="button" data-view-component="true" class="AppHeader-button Button--secondary Button--small Button width-auto color-fg-muted box-shadow-none">    <span class="Button-content">
        <span class="Button-visual Button-leadingVisual">
          <svg aria-hidden="true" height="16" viewBox="0 0 16 16" version="1.1" width="16" data-view-component="true" class="octicon octicon-plus">
    <path d="M7.75 2a.75.75 0 0 1 .75.75V7h4.25a.75.75 0 0 1 0 1.5H8.5v4.25a.75.75 0 0 1-1.5 0V8.5H2.75a.75.75 0 0 1 0-1.5H7V2.75A.75.75 0 0 1 7.75 2Z"></path>
</svg>
        </span>
      <span class="Button-label"><svg aria-hidden="true" height="16" viewBox="0 0 16 16" version="1.1" width="16" data-view-component="true" class="octicon octicon-triangle-down">
    <path d="m4.427 7.427 3.396 3.396a.25.25 0 0 0 .354 0l3.396-3.396A.25.25 0 0 0 11.396 7H4.604a.25.25 0 0 0-.177.427Z"></path>
</svg></span>
    </span>
</button>  <tool-tip id="tooltip-5a53c2c5-0ff7-4cda-93f1-933dbef0a53e" for="global-create-menu-button" data-direction="s" data-type="description" data-view-component="true" class="sr-only position-absolute">Create new...</tool-tip>
</div>

<anchored-position id="global-create-menu-overlay" anchor="global-create-menu-button" align="end" side="outside-bottom" anchor-offset="normal" popover="auto" aria-label="Menu" data-view-component="true">
  <div data-view-component="true" class="Overlay Overlay--size-auto">
    
      
        <div data-view-component="true">
  <ul aria-labelledby="global-create-menu-button" id="global-create-menu-list" role="menu" data-view-component="true" class="ActionListWrap--inset ActionListWrap">
      <li data-analytics-event="{&quot;category&quot;:&quot;SiteHeaderComponent&quot;,&quot;action&quot;:&quot;add_dropdown&quot;,&quot;label&quot;:&quot;new repository&quot;}" data-targets="action-list.items" role="none" data-view-component="true" class="ActionListItem">
    
    <a href="/new" tabindex="-1" id="item-4ccc5bbf-a369-4ad6-95eb-0895bd527301" role="menuitem" data-view-component="true" class="ActionListContent ActionListContent--visual16">
        <span class="ActionListItem-visual ActionListItem-visual--leading">
          <svg aria-hidden="true" height="16" viewBox="0 0 16 16" version="1.1" width="16" data-view-component="true" class="octicon octicon-repo">
    <path d="M2 2.5A2.5 2.5 0 0 1 4.5 0h8.75a.75.75 0 0 1 .75.75v12.5a.75.75 0 0 1-.75.75h-2.5a.75.75 0 0 1 0-1.5h1.75v-2h-8a1 1 0 0 0-.714 1.7.75.75 0 1 1-1.072 1.05A2.495 2.495 0 0 1 2 11.5Zm10.5-1h-8a1 1 0 0 0-1 1v6.708A2.486 2.486 0 0 1 4.5 9h8ZM5 12.25a.25.25 0 0 1 .25-.25h3.5a.25.25 0 0 1 .25.25v3.25a.25.25 0 0 1-.4.2l-1.45-1.087a.249.249 0 0 0-.3 0L5.4 15.7a.25.25 0 0 1-.4-.2Z"></path>
</svg>
        </span>
      
        <span data-view-component="true" class="ActionListItem-label">
              New repository

</span></a>
  
  
</li>
      <li data-analytics-event="{&quot;category&quot;:&quot;SiteHeaderComponent&quot;,&quot;action&quot;:&quot;add_dropdown&quot;,&quot;label&quot;:&quot;import repository&quot;}" data-targets="action-list.items" role="none" data-view-component="true" class="ActionListItem">
    
    <a href="/new/import" tabindex="-1" id="item-36168460-6f66-4948-8e5c-e6ae3155df73" role="menuitem" data-view-component="true" class="ActionListContent ActionListContent--visual16">
        <span class="ActionListItem-visual ActionListItem-visual--leading">
          <svg aria-hidden="true" height="16" viewBox="0 0 16 16" version="1.1" width="16" data-view-component="true" class="octicon octicon-repo-push">
    <path d="M1 2.5A2.5 2.5 0 0 1 3.5 0h8.75a.75.75 0 0 1 .75.75v3.5a.75.75 0 0 1-1.5 0V1.5h-8a1 1 0 0 0-1 1v6.708A2.493 2.493 0 0 1 3.5 9h3.25a.75.75 0 0 1 0 1.5H3.5a1 1 0 0 0 0 2h5.75a.75.75 0 0 1 0 1.5H3.5A2.5 2.5 0 0 1 1 11.5Zm13.23 7.79h-.001l-1.224-1.224v6.184a.75.75 0 0 1-1.5 0V9.066L10.28 10.29a.75.75 0 0 1-1.06-1.061l2.505-2.504a.75.75 0 0 1 1.06 0L15.29 9.23a.751.751 0 0 1-.018 1.042.751.751 0 0 1-1.042.018Z"></path>
</svg>
        </span>
      
        <span data-view-component="true" class="ActionListItem-label">
                Import repository

</span></a>
  
  
</li>
      <li role="presentation" aria-hidden="true" data-view-component="true" class="ActionList-sectionDivider"></li>
      <li data-analytics-event="{&quot;category&quot;:&quot;SiteHeaderComponent&quot;,&quot;action&quot;:&quot;add_dropdown&quot;,&quot;label&quot;:&quot;new codespace&quot;}" data-targets="action-list.items" role="none" data-view-component="true" class="ActionListItem">
    
    <a href="/codespaces/new" tabindex="-1" id="item-0ce127e5-d59e-4064-89a1-a8a3549adaa8" role="menuitem" data-view-component="true" class="ActionListContent ActionListContent--visual16">
        <span class="ActionListItem-visual ActionListItem-visual--leading">
          <svg aria-hidden="true" height="16" viewBox="0 0 16 16" version="1.1" width="16" data-view-component="true" class="octicon octicon-codespaces">
    <path d="M0 11.25c0-.966.784-1.75 1.75-1.75h12.5c.966 0 1.75.784 1.75 1.75v3A1.75 1.75 0 0 1 14.25 16H1.75A1.75 1.75 0 0 1 0 14.25Zm2-9.5C2 .784 2.784 0 3.75 0h8.5C13.216 0 14 .784 14 1.75v5a1.75 1.75 0 0 1-1.75 1.75h-8.5A1.75 1.75 0 0 1 2 6.75Zm1.75-.25a.25.25 0 0 0-.25.25v5c0 .138.112.25.25.25h8.5a.25.25 0 0 0 .25-.25v-5a.25.25 0 0 0-.25-.25Zm-2 9.5a.25.25 0 0 0-.25.25v3c0 .138.112.25.25.25h12.5a.25.25 0 0 0 .25-.25v-3a.25.25 0 0 0-.25-.25Z"></path><path d="M7 12.75a.75.75 0 0 1 .75-.75h4.5a.75.75 0 0 1 0 1.5h-4.5a.75.75 0 0 1-.75-.75Zm-4 0a.75.75 0 0 1 .75-.75h.5a.75.75 0 0 1 0 1.5h-.5a.75.75 0 0 1-.75-.75Z"></path>
</svg>
        </span>
      
        <span data-view-component="true" class="ActionListItem-label">
                New codespace

</span></a>
  
  
</li>
      <li data-analytics-event="{&quot;category&quot;:&quot;SiteHeaderComponent&quot;,&quot;action&quot;:&quot;add_dropdown&quot;,&quot;label&quot;:&quot;new gist&quot;}" data-targets="action-list.items" role="none" data-view-component="true" class="ActionListItem">
    
    <a href="https://gist.github.com/" tabindex="-1" id="item-84cbfa20-8849-4453-a1e6-f0fb49617a4c" role="menuitem" data-view-component="true" class="ActionListContent ActionListContent--visual16">
        <span class="ActionListItem-visual ActionListItem-visual--leading">
          <svg aria-hidden="true" height="16" viewBox="0 0 16 16" version="1.1" width="16" data-view-component="true" class="octicon octicon-code">
    <path d="m11.28 3.22 4.25 4.25a.75.75 0 0 1 0 1.06l-4.25 4.25a.749.749 0 0 1-1.275-.326.749.749 0 0 1 .215-.734L13.94 8l-3.72-3.72a.749.749 0 0 1 .326-1.275.749.749 0 0 1 .734.215Zm-6.56 0a.751.751 0 0 1 1.042.018.751.751 0 0 1 .018 1.042L2.06 8l3.72 3.72a.749.749 0 0 1-.326 1.275.749.749 0 0 1-.734-.215L.47 8.53a.75.75 0 0 1 0-1.06Z"></path>
</svg>
        </span>
      
        <span data-view-component="true" class="ActionListItem-label">
              New gist

</span></a>
  
  
</li>
      <li role="presentation" aria-hidden="true" data-view-component="true" class="ActionList-sectionDivider"></li>
      <li data-analytics-event="{&quot;category&quot;:&quot;SiteHeaderComponent&quot;,&quot;action&quot;:&quot;add_dropdown&quot;,&quot;label&quot;:&quot;new organization&quot;}" data-targets="action-list.items" role="none" data-view-component="true" class="ActionListItem">
    
    <a href="/account/organizations/new" tabindex="-1" id="item-1c541ac1-339b-4e10-802e-4ba63f7af404" role="menuitem" data-view-component="true" class="ActionListContent ActionListContent--visual16">
        <span class="ActionListItem-visual ActionListItem-visual--leading">
          <svg aria-hidden="true" height="16" viewBox="0 0 16 16" version="1.1" width="16" data-view-component="true" class="octicon octicon-organization">
    <path d="M1.75 16A1.75 1.75 0 0 1 0 14.25V1.75C0 .784.784 0 1.75 0h8.5C11.216 0 12 .784 12 1.75v12.5c0 .085-.006.168-.018.25h2.268a.25.25 0 0 0 .25-.25V8.285a.25.25 0 0 0-.111-.208l-1.055-.703a.749.749 0 1 1 .832-1.248l1.055.703c.487.325.779.871.779 1.456v5.965A1.75 1.75 0 0 1 14.25 16h-3.5a.766.766 0 0 1-.197-.026c-.099.017-.2.026-.303.026h-3a.75.75 0 0 1-.75-.75V14h-1v1.25a.75.75 0 0 1-.75.75Zm-.25-1.75c0 .138.112.25.25.25H4v-1.25a.75.75 0 0 1 .75-.75h2.5a.75.75 0 0 1 .75.75v1.25h2.25a.25.25 0 0 0 .25-.25V1.75a.25.25 0 0 0-.25-.25h-8.5a.25.25 0 0 0-.25.25ZM3.75 6h.5a.75.75 0 0 1 0 1.5h-.5a.75.75 0 0 1 0-1.5ZM3 3.75A.75.75 0 0 1 3.75 3h.5a.75.75 0 0 1 0 1.5h-.5A.75.75 0 0 1 3 3.75Zm4 3A.75.75 0 0 1 7.75 6h.5a.75.75 0 0 1 0 1.5h-.5A.75.75 0 0 1 7 6.75ZM7.75 3h.5a.75.75 0 0 1 0 1.5h-.5a.75.75 0 0 1 0-1.5ZM3 9.75A.75.75 0 0 1 3.75 9h.5a.75.75 0 0 1 0 1.5h-.5A.75.75 0 0 1 3 9.75ZM7.75 9h.5a.75.75 0 0 1 0 1.5h-.5a.75.75 0 0 1 0-1.5Z"></path>
</svg>
        </span>
      
        <span data-view-component="true" class="ActionListItem-label">
                New organization

</span></a>
  
  
</li>
</ul>  
</div>

</div></anchored-position>  </focus-group>
</action-menu>

          <div data-view-component="true" class="Button-withTooltip">
  <a href="/issues" id="icon-button-fec88dfb-cfe0-4b22-b10e-aad2aa0dd67c" data-view-component="true" class="Button Button--iconOnly Button--secondary Button--medium AppHeader-button color-fg-muted">    <svg aria-hidden="true" height="16" viewBox="0 0 16 16" version="1.1" width="16" data-view-component="true" class="octicon octicon-issue-opened Button-visual">
    <path d="M8 9.5a1.5 1.5 0 1 0 0-3 1.5 1.5 0 0 0 0 3Z"></path><path d="M8 0a8 8 0 1 1 0 16A8 8 0 0 1 8 0ZM1.5 8a6.5 6.5 0 1 0 13 0 6.5 6.5 0 0 0-13 0Z"></path>
</svg>
</a>  <tool-tip id="tooltip-ae6aebd6-b77c-486f-8852-2479f91b20da" for="icon-button-fec88dfb-cfe0-4b22-b10e-aad2aa0dd67c" data-direction="s" data-type="label" data-view-component="true" class="sr-only position-absolute">Issues</tool-tip>
</div>
          <div data-view-component="true" class="Button-withTooltip">
  <a href="/pulls" id="icon-button-8b9aa000-bd1b-4da7-8e61-917578006fbd" data-view-component="true" class="Button Button--iconOnly Button--secondary Button--medium AppHeader-button color-fg-muted">    <svg aria-hidden="true" height="16" viewBox="0 0 16 16" version="1.1" width="16" data-view-component="true" class="octicon octicon-git-pull-request Button-visual">
    <path d="M1.5 3.25a2.25 2.25 0 1 1 3 2.122v5.256a2.251 2.251 0 1 1-1.5 0V5.372A2.25 2.25 0 0 1 1.5 3.25Zm5.677-.177L9.573.677A.25.25 0 0 1 10 .854V2.5h1A2.5 2.5 0 0 1 13.5 5v5.628a2.251 2.251 0 1 1-1.5 0V5a1 1 0 0 0-1-1h-1v1.646a.25.25 0 0 1-.427.177L7.177 3.427a.25.25 0 0 1 0-.354ZM3.75 2.5a.75.75 0 1 0 0 1.5.75.75 0 0 0 0-1.5Zm0 9.5a.75.75 0 1 0 0 1.5.75.75 0 0 0 0-1.5Zm8.25.75a.75.75 0 1 0 1.5 0 .75.75 0 0 0-1.5 0Z"></path>
</svg>
</a>  <tool-tip id="tooltip-abc8e472-a6d6-41ac-a19d-43dc42dcd2fd" for="icon-button-8b9aa000-bd1b-4da7-8e61-917578006fbd" data-direction="s" data-type="label" data-view-component="true" class="sr-only position-absolute">Pull requests</tool-tip>
</div>
        </div>

        <div class="mr-0">
          

<notification-indicator data-channel="eyJjIjoibm90aWZpY2F0aW9uLWNoYW5nZWQ6MTE1NzEyODAyIiwidCI6MTY4ODUyOTI3OH0=--c06a5b728ef17d55fb9ff153d9780d758a384fbc93d621f31a508e3b06fa94bd" data-indicator-mode="none" data-tooltip-global="You have unread notifications" data-tooltip-unavailable="Notifications are unavailable at the moment." data-tooltip-none="You have no unread notifications" data-header-redesign-enabled="true" data-fetch-indicator-src="/notifications/indicator" data-fetch-indicator-enabled="true" data-view-component="true" class="js-socket-channel">
  <a id="AppHeader-notifications-button" href="/notifications"
    class="AppHeader-button"

    style="width:32px;height:32px;"

    data-hotkey="g n"
    data-target="notification-indicator.link"
    aria-label="Notifications"

      data-analytics-event="{&quot;category&quot;:&quot;SiteHeaderComponent&quot;,&quot;action&quot;:&quot;notifications&quot;,&quot;label&quot;:null}"
  >

    <span
      data-target="notification-indicator.badge"
      class="mail-status unread d-none" hidden>
    </span>

      <svg aria-hidden="true" height="16" viewBox="0 0 16 16" version="1.1" width="16" data-view-component="true" class="octicon octicon-inbox color-fg-muted mr-0">
    <path d="M2.8 2.06A1.75 1.75 0 0 1 4.41 1h7.18c.7 0 1.333.417 1.61 1.06l2.74 6.395c.04.093.06.194.06.295v4.5A1.75 1.75 0 0 1 14.25 15H1.75A1.75 1.75 0 0 1 0 13.25v-4.5c0-.101.02-.202.06-.295Zm1.61.44a.25.25 0 0 0-.23.152L1.887 8H4.75a.75.75 0 0 1 .6.3L6.625 10h2.75l1.275-1.7a.75.75 0 0 1 .6-.3h2.863L11.82 2.652a.25.25 0 0 0-.23-.152Zm10.09 7h-2.875l-1.275 1.7a.75.75 0 0 1-.6.3h-3.5a.75.75 0 0 1-.6-.3L4.375 9.5H1.5v3.75c0 .138.112.25.25.25h12.5a.25.25 0 0 0 .25-.25Z"></path>
</svg>
  </a>

    <tool-tip data-target="notification-indicator.tooltip" id="tooltip-2d095916-c307-4013-b034-c6a964764dad" for="AppHeader-notifications-button" data-direction="s" data-type="description" data-view-component="true" class="sr-only position-absolute">Notifications</tool-tip>
</notification-indicator>
        </div>

        

        <div class="AppHeader-user">
          <deferred-side-panel data-url="/_side-panels/user?memex_enabled=true&amp;repository=IMDB_Movie_Analysis&amp;user=Varshavasundhara&amp;user_can_create_organizations=true&amp;user_id=115712802">
  <include-fragment data-target="deferred-side-panel.fragment">
      <user-drawer-side-panel>
      <button aria-label="Open user account menu" data-action="click:deferred-side-panel#loadPanel click:deferred-side-panel#panelOpened" data-show-dialog-id="dialog-fb4635f4-49f6-420b-9bc8-88079a6b192b" id="dialog-show-dialog-fb4635f4-49f6-420b-9bc8-88079a6b192b" type="button" data-view-component="true" class="AppHeader-logo Button--invisible Button--medium Button Button--invisible-noVisuals color-bg-transparent p-0">    <span class="Button-content">
      <span class="Button-label"><img src="https://avatars.githubusercontent.com/u/115712802?v=4" alt="" size="32" height="32" width="32" data-view-component="true" class="avatar circle" /></span>
    </span>
</button>  

<div class="Overlay--hidden Overlay-backdrop--side Overlay-backdrop--placement-right" data-modal-dialog-overlay>
  <modal-dialog data-target="deferred-side-panel.panel" role="dialog" id="dialog-fb4635f4-49f6-420b-9bc8-88079a6b192b" aria-modal="true" aria-disabled="true" aria-describedby="dialog-fb4635f4-49f6-420b-9bc8-88079a6b192b-title dialog-fb4635f4-49f6-420b-9bc8-88079a6b192b-description" data-view-component="true" class="Overlay Overlay-whenNarrow Overlay--size-small-portrait Overlay--motion-scaleFade SidePanel">
    <div styles="flex-direction: row;" data-view-component="true" class="Overlay-header">
  <div class="Overlay-headerContentWrap">
    <div class="Overlay-titleWrap">
      <h1 class="Overlay-title sr-only" id="dialog-fb4635f4-49f6-420b-9bc8-88079a6b192b-title">
        Account menu
      </h1>
            <div data-view-component="true" class="d-flex">
      <div data-view-component="true" class="AppHeader-logo position-relative">
        <img src="https://avatars.githubusercontent.com/u/115712802?v=4" alt="" size="32" height="32" width="32" data-view-component="true" class="avatar circle" />
</div>        <div data-view-component="true" class="d-flex width-full">        <div data-view-component="true" class="lh-condensed d-flex flex-column flex-justify-center ml-2 f5 mr-auto">
          <span data-view-component="true" class="Truncate d-block text-bold">
    <span data-view-component="true" class="Truncate-text">
            Varshavasundhara
</span>
</span>          </div>
</div>
</div>
    </div>
    <div class="Overlay-actionWrap">
      <button data-close-dialog-id="dialog-fb4635f4-49f6-420b-9bc8-88079a6b192b" aria-label="Close" type="button" data-view-component="true" class="close-button Overlay-closeButton"><svg aria-hidden="true" height="16" viewBox="0 0 16 16" version="1.1" width="16" data-view-component="true" class="octicon octicon-x">
    <path d="M3.72 3.72a.75.75 0 0 1 1.06 0L8 6.94l3.22-3.22a.749.749 0 0 1 1.275.326.749.749 0 0 1-.215.734L9.06 8l3.22 3.22a.749.749 0 0 1-.326 1.275.749.749 0 0 1-.734-.215L8 9.06l-3.22 3.22a.751.751 0 0 1-1.042-.018.751.751 0 0 1-.018-1.042L6.94 8 3.72 4.78a.75.75 0 0 1 0-1.06Z"></path>
</svg></button>
    </div>
  </div>
</div>
      <div data-view-component="true" class="Overlay-body d-flex flex-column height-full px-2">      <nav aria-label="User navigation" data-view-component="true" class="ActionList">
  
  <nav-list>
    <ul data-view-component="true" class="ActionListWrap">
        
          
<li data-item-id="" data-targets="nav-list.items" data-view-component="true" class="ActionListItem">
    
    <button id="item-b8d8d9de-8890-44e8-8cb8-596c7d433243" type="button" data-view-component="true" class="ActionListContent ActionListContent--visual16">
        <span class="ActionListItem-visual ActionListItem-visual--leading">
          <span data-view-component="true" class="d-flex flex-items-center">    <svg style="box-sizing: content-box; color: var(--color-icon-primary);" width="16" height="16" viewBox="0 0 16 16" fill="none" data-view-component="true" class="anim-rotate">
  <circle cx="8" cy="8" r="7" stroke="currentColor" stroke-opacity="0.25" stroke-width="2" vector-effect="non-scaling-stroke" />
  <path d="M15 8a7.002 7.002 0 00-7-7" stroke="currentColor" stroke-width="2" stroke-linecap="round" vector-effect="non-scaling-stroke" />
</svg>
</span>
        </span>
      
        <span data-view-component="true" class="ActionListItem-label">
          

  <span class="color-fg-muted">
    Loading...
  </span>

</span></button>
  
  
</li>

        
          <li role="presentation" aria-hidden="true" data-view-component="true" class="ActionList-sectionDivider"></li>
        
          
<li data-item-id="" data-targets="nav-list.items" data-view-component="true" class="ActionListItem">
    
    <a id="item-93f1b3b9-e6ee-47e0-adca-40cbd75071a7" href="https://github.com/Varshavasundhara" data-view-component="true" class="ActionListContent ActionListContent--visual16">
        <span class="ActionListItem-visual ActionListItem-visual--leading">
          <svg aria-hidden="true" height="16" viewBox="0 0 16 16" version="1.1" width="16" data-view-component="true" class="octicon octicon-person">
    <path d="M10.561 8.073a6.005 6.005 0 0 1 3.432 5.142.75.75 0 1 1-1.498.07 4.5 4.5 0 0 0-8.99 0 .75.75 0 0 1-1.498-.07 6.004 6.004 0 0 1 3.431-5.142 3.999 3.999 0 1 1 5.123 0ZM10.5 5a2.5 2.5 0 1 0-5 0 2.5 2.5 0 0 0 5 0Z"></path>
</svg>
        </span>
      
        <span data-view-component="true" class="ActionListItem-label">
          Your profile
</span></a>
  
  
</li>

        
          <li role="presentation" aria-hidden="true" data-view-component="true" class="ActionList-sectionDivider"></li>
        
          
<li data-item-id="" data-targets="nav-list.items" data-view-component="true" class="ActionListItem">
    
    <a id="item-0a646821-7a0b-4129-b25f-332dbc17f2fc" href="/Varshavasundhara?tab=repositories" data-view-component="true" class="ActionListContent ActionListContent--visual16">
        <span class="ActionListItem-visual ActionListItem-visual--leading">
          <svg aria-hidden="true" height="16" viewBox="0 0 16 16" version="1.1" width="16" data-view-component="true" class="octicon octicon-repo">
    <path d="M2 2.5A2.5 2.5 0 0 1 4.5 0h8.75a.75.75 0 0 1 .75.75v12.5a.75.75 0 0 1-.75.75h-2.5a.75.75 0 0 1 0-1.5h1.75v-2h-8a1 1 0 0 0-.714 1.7.75.75 0 1 1-1.072 1.05A2.495 2.495 0 0 1 2 11.5Zm10.5-1h-8a1 1 0 0 0-1 1v6.708A2.486 2.486 0 0 1 4.5 9h8ZM5 12.25a.25.25 0 0 1 .25-.25h3.5a.25.25 0 0 1 .25.25v3.25a.25.25 0 0 1-.4.2l-1.45-1.087a.249.249 0 0 0-.3 0L5.4 15.7a.25.25 0 0 1-.4-.2Z"></path>
</svg>
        </span>
      
        <span data-view-component="true" class="ActionListItem-label">
          Your repositories
</span></a>
  
  
</li>

        
          
<li data-item-id="" data-targets="nav-list.items" data-view-component="true" class="ActionListItem">
    
    <a id="item-4f6e07dd-aeaf-459e-a3b9-fcbe77abac74" href="/Varshavasundhara?tab=projects" data-view-component="true" class="ActionListContent ActionListContent--visual16">
        <span class="ActionListItem-visual ActionListItem-visual--leading">
          <svg aria-hidden="true" height="16" viewBox="0 0 16 16" version="1.1" width="16" data-view-component="true" class="octicon octicon-project">
    <path d="M1.75 0h12.5C15.216 0 16 .784 16 1.75v12.5A1.75 1.75 0 0 1 14.25 16H1.75A1.75 1.75 0 0 1 0 14.25V1.75C0 .784.784 0 1.75 0ZM1.5 1.75v12.5c0 .138.112.25.25.25h12.5a.25.25 0 0 0 .25-.25V1.75a.25.25 0 0 0-.25-.25H1.75a.25.25 0 0 0-.25.25ZM11.75 3a.75.75 0 0 1 .75.75v7.5a.75.75 0 0 1-1.5 0v-7.5a.75.75 0 0 1 .75-.75Zm-8.25.75a.75.75 0 0 1 1.5 0v5.5a.75.75 0 0 1-1.5 0ZM8 3a.75.75 0 0 1 .75.75v3.5a.75.75 0 0 1-1.5 0v-3.5A.75.75 0 0 1 8 3Z"></path>
</svg>
        </span>
      
        <span data-view-component="true" class="ActionListItem-label">
          Your projects
</span></a>
  
  
</li>

        
          
<li data-item-id="" data-targets="nav-list.items" data-view-component="true" class="ActionListItem">
    
    <a id="item-d77fa282-d57e-49f1-9a21-8a27a10e7e24" href="/codespaces" data-view-component="true" class="ActionListContent ActionListContent--visual16">
        <span class="ActionListItem-visual ActionListItem-visual--leading">
          <svg aria-hidden="true" height="16" viewBox="0 0 16 16" version="1.1" width="16" data-view-component="true" class="octicon octicon-codespaces">
    <path d="M0 11.25c0-.966.784-1.75 1.75-1.75h12.5c.966 0 1.75.784 1.75 1.75v3A1.75 1.75 0 0 1 14.25 16H1.75A1.75 1.75 0 0 1 0 14.25Zm2-9.5C2 .784 2.784 0 3.75 0h8.5C13.216 0 14 .784 14 1.75v5a1.75 1.75 0 0 1-1.75 1.75h-8.5A1.75 1.75 0 0 1 2 6.75Zm1.75-.25a.25.25 0 0 0-.25.25v5c0 .138.112.25.25.25h8.5a.25.25 0 0 0 .25-.25v-5a.25.25 0 0 0-.25-.25Zm-2 9.5a.25.25 0 0 0-.25.25v3c0 .138.112.25.25.25h12.5a.25.25 0 0 0 .25-.25v-3a.25.25 0 0 0-.25-.25Z"></path><path d="M7 12.75a.75.75 0 0 1 .75-.75h4.5a.75.75 0 0 1 0 1.5h-4.5a.75.75 0 0 1-.75-.75Zm-4 0a.75.75 0 0 1 .75-.75h.5a.75.75 0 0 1 0 1.5h-.5a.75.75 0 0 1-.75-.75Z"></path>
</svg>
        </span>
      
        <span data-view-component="true" class="ActionListItem-label">
          Your codespaces
</span></a>
  
  
</li>

        
          
<li data-item-id="" data-targets="nav-list.items" data-view-component="true" class="ActionListItem">
    
    <button id="item-e048259c-1893-494c-8743-3726caed2e81" type="button" data-view-component="true" class="ActionListContent ActionListContent--visual16">
        <span class="ActionListItem-visual ActionListItem-visual--leading">
          <span data-view-component="true" class="d-flex flex-items-center">    <svg style="box-sizing: content-box; color: var(--color-icon-primary);" width="16" height="16" viewBox="0 0 16 16" fill="none" data-view-component="true" class="anim-rotate">
  <circle cx="8" cy="8" r="7" stroke="currentColor" stroke-opacity="0.25" stroke-width="2" vector-effect="non-scaling-stroke" />
  <path d="M15 8a7.002 7.002 0 00-7-7" stroke="currentColor" stroke-width="2" stroke-linecap="round" vector-effect="non-scaling-stroke" />
</svg>
</span>
        </span>
      
        <span data-view-component="true" class="ActionListItem-label">
          

  <span class="color-fg-muted">
    Loading...
  </span>

</span></button>
  
  
</li>

        
          
<li data-item-id="" data-targets="nav-list.items" data-view-component="true" class="ActionListItem">
    
    <a id="item-f5640986-5d14-45f3-8c4a-0fc7ed723c8d" href="/Varshavasundhara?tab=stars" data-view-component="true" class="ActionListContent ActionListContent--visual16">
        <span class="ActionListItem-visual ActionListItem-visual--leading">
          <svg aria-hidden="true" height="16" viewBox="0 0 16 16" version="1.1" width="16" data-view-component="true" class="octicon octicon-star">
    <path d="M8 .25a.75.75 0 0 1 .673.418l1.882 3.815 4.21.612a.75.75 0 0 1 .416 1.279l-3.046 2.97.719 4.192a.751.751 0 0 1-1.088.791L8 12.347l-3.766 1.98a.75.75 0 0 1-1.088-.79l.72-4.194L.818 6.374a.75.75 0 0 1 .416-1.28l4.21-.611L7.327.668A.75.75 0 0 1 8 .25Zm0 2.445L6.615 5.5a.75.75 0 0 1-.564.41l-3.097.45 2.24 2.184a.75.75 0 0 1 .216.664l-.528 3.084 2.769-1.456a.75.75 0 0 1 .698 0l2.77 1.456-.53-3.084a.75.75 0 0 1 .216-.664l2.24-2.183-3.096-.45a.75.75 0 0 1-.564-.41L8 2.694Z"></path>
</svg>
        </span>
      
        <span data-view-component="true" class="ActionListItem-label">
          Your stars
</span></a>
  
  
</li>

        
          
<li data-item-id="" data-targets="nav-list.items" data-view-component="true" class="ActionListItem">
    
    <a id="item-5d98983f-1a96-458f-94b2-231a854b8941" href="/sponsors/accounts" data-view-component="true" class="ActionListContent ActionListContent--visual16">
        <span class="ActionListItem-visual ActionListItem-visual--leading">
          <svg aria-hidden="true" height="16" viewBox="0 0 16 16" version="1.1" width="16" data-view-component="true" class="octicon octicon-heart">
    <path d="m8 14.25.345.666a.75.75 0 0 1-.69 0l-.008-.004-.018-.01a7.152 7.152 0 0 1-.31-.17 22.055 22.055 0 0 1-3.434-2.414C2.045 10.731 0 8.35 0 5.5 0 2.836 2.086 1 4.25 1 5.797 1 7.153 1.802 8 3.02 8.847 1.802 10.203 1 11.75 1 13.914 1 16 2.836 16 5.5c0 2.85-2.045 5.231-3.885 6.818a22.066 22.066 0 0 1-3.744 2.584l-.018.01-.006.003h-.002ZM4.25 2.5c-1.336 0-2.75 1.164-2.75 3 0 2.15 1.58 4.144 3.365 5.682A20.58 20.58 0 0 0 8 13.393a20.58 20.58 0 0 0 3.135-2.211C12.92 9.644 14.5 7.65 14.5 5.5c0-1.836-1.414-3-2.75-3-1.373 0-2.609.986-3.029 2.456a.749.749 0 0 1-1.442 0C6.859 3.486 5.623 2.5 4.25 2.5Z"></path>
</svg>
        </span>
      
        <span data-view-component="true" class="ActionListItem-label">
          Your sponsors
</span></a>
  
  
</li>

        
          
<li data-item-id="" data-targets="nav-list.items" data-view-component="true" class="ActionListItem">
    
    <a id="item-a2fd74f8-0a7f-40c0-9271-9a5f77325baf" href="https://gist.github.com/mine" data-view-component="true" class="ActionListContent ActionListContent--visual16">
        <span class="ActionListItem-visual ActionListItem-visual--leading">
          <svg aria-hidden="true" height="16" viewBox="0 0 16 16" version="1.1" width="16" data-view-component="true" class="octicon octicon-code-square">
    <path d="M0 1.75C0 .784.784 0 1.75 0h12.5C15.216 0 16 .784 16 1.75v12.5A1.75 1.75 0 0 1 14.25 16H1.75A1.75 1.75 0 0 1 0 14.25Zm1.75-.25a.25.25 0 0 0-.25.25v12.5c0 .138.112.25.25.25h12.5a.25.25 0 0 0 .25-.25V1.75a.25.25 0 0 0-.25-.25Zm7.47 3.97a.75.75 0 0 1 1.06 0l2 2a.75.75 0 0 1 0 1.06l-2 2a.749.749 0 0 1-1.275-.326.749.749 0 0 1 .215-.734L10.69 8 9.22 6.53a.75.75 0 0 1 0-1.06ZM6.78 6.53 5.31 8l1.47 1.47a.749.749 0 0 1-.326 1.275.749.749 0 0 1-.734-.215l-2-2a.75.75 0 0 1 0-1.06l2-2a.751.751 0 0 1 1.042.018.751.751 0 0 1 .018 1.042Z"></path>
</svg>
        </span>
      
        <span data-view-component="true" class="ActionListItem-label">
          Your gists
</span></a>
  
  
</li>

        
          <li role="presentation" aria-hidden="true" data-view-component="true" class="ActionList-sectionDivider"></li>
        
          
<li data-item-id="" data-targets="nav-list.items" data-view-component="true" class="ActionListItem">
    
    <button id="item-8687dd93-f834-4b97-9e36-d004e2aa2870" type="button" data-view-component="true" class="ActionListContent ActionListContent--visual16">
        <span class="ActionListItem-visual ActionListItem-visual--leading">
          <span data-view-component="true" class="d-flex flex-items-center">    <svg style="box-sizing: content-box; color: var(--color-icon-primary);" width="16" height="16" viewBox="0 0 16 16" fill="none" data-view-component="true" class="anim-rotate">
  <circle cx="8" cy="8" r="7" stroke="currentColor" stroke-opacity="0.25" stroke-width="2" vector-effect="non-scaling-stroke" />
  <path d="M15 8a7.002 7.002 0 00-7-7" stroke="currentColor" stroke-width="2" stroke-linecap="round" vector-effect="non-scaling-stroke" />
</svg>
</span>
        </span>
      
        <span data-view-component="true" class="ActionListItem-label">
          

  <span class="color-fg-muted">
    Loading...
  </span>

</span></button>
  
  
</li>

        
          
<li data-item-id="" data-targets="nav-list.items" data-view-component="true" class="ActionListItem">
    
    <button id="item-5c49fda7-7d2e-48c4-a51a-4d705caa1719" type="button" data-view-component="true" class="ActionListContent ActionListContent--visual16">
        <span class="ActionListItem-visual ActionListItem-visual--leading">
          <span data-view-component="true" class="d-flex flex-items-center">    <svg style="box-sizing: content-box; color: var(--color-icon-primary);" width="16" height="16" viewBox="0 0 16 16" fill="none" data-view-component="true" class="anim-rotate">
  <circle cx="8" cy="8" r="7" stroke="currentColor" stroke-opacity="0.25" stroke-width="2" vector-effect="non-scaling-stroke" />
  <path d="M15 8a7.002 7.002 0 00-7-7" stroke="currentColor" stroke-width="2" stroke-linecap="round" vector-effect="non-scaling-stroke" />
</svg>
</span>
        </span>
      
        <span data-view-component="true" class="ActionListItem-label">
          

  <span class="color-fg-muted">
    Loading...
  </span>

</span></button>
  
  
</li>

        
          
<li data-item-id="" data-targets="nav-list.items" data-view-component="true" class="ActionListItem">
    
    <button id="item-07b629a1-efa4-4ddb-9028-d22fbeae5de7" type="button" data-view-component="true" class="ActionListContent ActionListContent--visual16">
        <span class="ActionListItem-visual ActionListItem-visual--leading">
          <span data-view-component="true" class="d-flex flex-items-center">    <svg style="box-sizing: content-box; color: var(--color-icon-primary);" width="16" height="16" viewBox="0 0 16 16" fill="none" data-view-component="true" class="anim-rotate">
  <circle cx="8" cy="8" r="7" stroke="currentColor" stroke-opacity="0.25" stroke-width="2" vector-effect="non-scaling-stroke" />
  <path d="M15 8a7.002 7.002 0 00-7-7" stroke="currentColor" stroke-width="2" stroke-linecap="round" vector-effect="non-scaling-stroke" />
</svg>
</span>
        </span>
      
        <span data-view-component="true" class="ActionListItem-label">
          

  <span class="color-fg-muted">
    Loading...
  </span>

</span></button>
  
  
</li>

        
          
<li data-item-id="" data-targets="nav-list.items" data-view-component="true" class="ActionListItem">
    
    <a id="item-75f18dc3-b49d-408d-9689-b98165be7913" href="/settings/profile" data-view-component="true" class="ActionListContent ActionListContent--visual16">
        <span class="ActionListItem-visual ActionListItem-visual--leading">
          <svg aria-hidden="true" height="16" viewBox="0 0 16 16" version="1.1" width="16" data-view-component="true" class="octicon octicon-gear">
    <path d="M8 0a8.2 8.2 0 0 1 .701.031C9.444.095 9.99.645 10.16 1.29l.288 1.107c.018.066.079.158.212.224.231.114.454.243.668.386.123.082.233.09.299.071l1.103-.303c.644-.176 1.392.021 1.82.63.27.385.506.792.704 1.218.315.675.111 1.422-.364 1.891l-.814.806c-.049.048-.098.147-.088.294.016.257.016.515 0 .772-.01.147.038.246.088.294l.814.806c.475.469.679 1.216.364 1.891a7.977 7.977 0 0 1-.704 1.217c-.428.61-1.176.807-1.82.63l-1.102-.302c-.067-.019-.177-.011-.3.071a5.909 5.909 0 0 1-.668.386c-.133.066-.194.158-.211.224l-.29 1.106c-.168.646-.715 1.196-1.458 1.26a8.006 8.006 0 0 1-1.402 0c-.743-.064-1.289-.614-1.458-1.26l-.289-1.106c-.018-.066-.079-.158-.212-.224a5.738 5.738 0 0 1-.668-.386c-.123-.082-.233-.09-.299-.071l-1.103.303c-.644.176-1.392-.021-1.82-.63a8.12 8.12 0 0 1-.704-1.218c-.315-.675-.111-1.422.363-1.891l.815-.806c.05-.048.098-.147.088-.294a6.214 6.214 0 0 1 0-.772c.01-.147-.038-.246-.088-.294l-.815-.806C.635 6.045.431 5.298.746 4.623a7.92 7.92 0 0 1 .704-1.217c.428-.61 1.176-.807 1.82-.63l1.102.302c.067.019.177.011.3-.071.214-.143.437-.272.668-.386.133-.066.194-.158.211-.224l.29-1.106C6.009.645 6.556.095 7.299.03 7.53.01 7.764 0 8 0Zm-.571 1.525c-.036.003-.108.036-.137.146l-.289 1.105c-.147.561-.549.967-.998 1.189-.173.086-.34.183-.5.29-.417.278-.97.423-1.529.27l-1.103-.303c-.109-.03-.175.016-.195.045-.22.312-.412.644-.573.99-.014.031-.021.11.059.19l.815.806c.411.406.562.957.53 1.456a4.709 4.709 0 0 0 0 .582c.032.499-.119 1.05-.53 1.456l-.815.806c-.081.08-.073.159-.059.19.162.346.353.677.573.989.02.03.085.076.195.046l1.102-.303c.56-.153 1.113-.008 1.53.27.161.107.328.204.501.29.447.222.85.629.997 1.189l.289 1.105c.029.109.101.143.137.146a6.6 6.6 0 0 0 1.142 0c.036-.003.108-.036.137-.146l.289-1.105c.147-.561.549-.967.998-1.189.173-.086.34-.183.5-.29.417-.278.97-.423 1.529-.27l1.103.303c.109.029.175-.016.195-.045.22-.313.411-.644.573-.99.014-.031.021-.11-.059-.19l-.815-.806c-.411-.406-.562-.957-.53-1.456a4.709 4.709 0 0 0 0-.582c-.032-.499.119-1.05.53-1.456l.815-.806c.081-.08.073-.159.059-.19a6.464 6.464 0 0 0-.573-.989c-.02-.03-.085-.076-.195-.046l-1.102.303c-.56.153-1.113.008-1.53-.27a4.44 4.44 0 0 0-.501-.29c-.447-.222-.85-.629-.997-1.189l-.289-1.105c-.029-.11-.101-.143-.137-.146a6.6 6.6 0 0 0-1.142 0ZM11 8a3 3 0 1 1-6 0 3 3 0 0 1 6 0ZM9.5 8a1.5 1.5 0 1 0-3.001.001A1.5 1.5 0 0 0 9.5 8Z"></path>
</svg>
        </span>
      
        <span data-view-component="true" class="ActionListItem-label">
          Settings
</span></a>
  
  
</li>

        
          <li role="presentation" aria-hidden="true" data-view-component="true" class="ActionList-sectionDivider"></li>
        
          
<li data-item-id="" data-targets="nav-list.items" data-view-component="true" class="ActionListItem">
    
    <a id="item-eab234ed-185e-4fe2-bbb5-e1508be2e0ca" href="https://docs.github.com" data-view-component="true" class="ActionListContent ActionListContent--visual16">
        <span class="ActionListItem-visual ActionListItem-visual--leading">
          <svg aria-hidden="true" height="16" viewBox="0 0 16 16" version="1.1" width="16" data-view-component="true" class="octicon octicon-book">
    <path d="M0 1.75A.75.75 0 0 1 .75 1h4.253c1.227 0 2.317.59 3 1.501A3.743 3.743 0 0 1 11.006 1h4.245a.75.75 0 0 1 .75.75v10.5a.75.75 0 0 1-.75.75h-4.507a2.25 2.25 0 0 0-1.591.659l-.622.621a.75.75 0 0 1-1.06 0l-.622-.621A2.25 2.25 0 0 0 5.258 13H.75a.75.75 0 0 1-.75-.75Zm7.251 10.324.004-5.073-.002-2.253A2.25 2.25 0 0 0 5.003 2.5H1.5v9h3.757a3.75 3.75 0 0 1 1.994.574ZM8.755 4.75l-.004 7.322a3.752 3.752 0 0 1 1.992-.572H14.5v-9h-3.495a2.25 2.25 0 0 0-2.25 2.25Z"></path>
</svg>
        </span>
      
        <span data-view-component="true" class="ActionListItem-label">
          GitHub Docs
</span></a>
  
  
</li>

        
          
<li data-item-id="" data-targets="nav-list.items" data-view-component="true" class="ActionListItem">
    
    <a id="item-96bce79e-ca76-44fd-a918-18e94ce710cb" href="https://support.github.com" data-view-component="true" class="ActionListContent ActionListContent--visual16">
        <span class="ActionListItem-visual ActionListItem-visual--leading">
          <svg aria-hidden="true" height="16" viewBox="0 0 16 16" version="1.1" width="16" data-view-component="true" class="octicon octicon-people">
    <path d="M2 5.5a3.5 3.5 0 1 1 5.898 2.549 5.508 5.508 0 0 1 3.034 4.084.75.75 0 1 1-1.482.235 4 4 0 0 0-7.9 0 .75.75 0 0 1-1.482-.236A5.507 5.507 0 0 1 3.102 8.05 3.493 3.493 0 0 1 2 5.5ZM11 4a3.001 3.001 0 0 1 2.22 5.018 5.01 5.01 0 0 1 2.56 3.012.749.749 0 0 1-.885.954.752.752 0 0 1-.549-.514 3.507 3.507 0 0 0-2.522-2.372.75.75 0 0 1-.574-.73v-.352a.75.75 0 0 1 .416-.672A1.5 1.5 0 0 0 11 5.5.75.75 0 0 1 11 4Zm-5.5-.5a2 2 0 1 0-.001 3.999A2 2 0 0 0 5.5 3.5Z"></path>
</svg>
        </span>
      
        <span data-view-component="true" class="ActionListItem-label">
          GitHub Support
</span></a>
  
  
</li>

        
          <li role="presentation" aria-hidden="true" data-view-component="true" class="ActionList-sectionDivider"></li>
        
          
<li data-item-id="" data-targets="nav-list.items" data-view-component="true" class="ActionListItem">
    
    <a id="item-74ced16c-c474-4145-a82a-0e2eae16455d" href="/logout" data-view-component="true" class="ActionListContent">
      
        <span data-view-component="true" class="ActionListItem-label">
          Sign out
</span></a>
  
  
</li>

</ul>  </nav-list>
</nav>


</div>
      
</modal-dialog></div>
  </user-drawer-side-panel>

  </include-fragment>
</deferred-side-panel>
        </div>
      </div>
    </div>


      <div class="AppHeader-localBar" >
        <nav data-pjax="#js-repo-pjax-container" aria-label="Repository" data-view-component="true" class="js-repo-nav js-sidenav-container-pjax js-responsive-underlinenav overflow-hidden UnderlineNav">

  <ul data-view-component="true" class="UnderlineNav-body list-style-none">
      <li data-view-component="true" class="d-inline-flex">
  <a id="code-tab" href="/DanCorley/IMDB_Movie_Analysis" data-tab-item="i0code-tab" data-selected-links="repo_source repo_downloads repo_commits repo_releases repo_tags repo_branches repo_packages repo_deployments /DanCorley/IMDB_Movie_Analysis" data-pjax="#repo-content-pjax-container" data-turbo-frame="repo-content-turbo-frame" data-hotkey="g c" data-analytics-event="{&quot;category&quot;:&quot;Underline navbar&quot;,&quot;action&quot;:&quot;Click tab&quot;,&quot;label&quot;:&quot;Code&quot;,&quot;target&quot;:&quot;UNDERLINE_NAV.TAB&quot;}" data-view-component="true" class="UnderlineNav-item no-wrap js-responsive-underlinenav-item js-selected-navigation-item">
    
              <svg aria-hidden="true" height="16" viewBox="0 0 16 16" version="1.1" width="16" data-view-component="true" class="octicon octicon-code UnderlineNav-octicon d-none d-sm-inline">
    <path d="m11.28 3.22 4.25 4.25a.75.75 0 0 1 0 1.06l-4.25 4.25a.749.749 0 0 1-1.275-.326.749.749 0 0 1 .215-.734L13.94 8l-3.72-3.72a.749.749 0 0 1 .326-1.275.749.749 0 0 1 .734.215Zm-6.56 0a.751.751 0 0 1 1.042.018.751.751 0 0 1 .018 1.042L2.06 8l3.72 3.72a.749.749 0 0 1-.326 1.275.749.749 0 0 1-.734-.215L.47 8.53a.75.75 0 0 1 0-1.06Z"></path>
</svg>
        <span data-content="Code">Code</span>
          <span id="code-repo-tab-count" data-pjax-replace="" data-turbo-replace="" title="Not available" data-view-component="true" class="Counter"></span>


    
</a></li>
      <li data-view-component="true" class="d-inline-flex">
  <a id="issues-tab" href="/DanCorley/IMDB_Movie_Analysis/issues" data-tab-item="i1issues-tab" data-selected-links="repo_issues repo_labels repo_milestones /DanCorley/IMDB_Movie_Analysis/issues" data-pjax="#repo-content-pjax-container" data-turbo-frame="repo-content-turbo-frame" data-hotkey="g i" data-analytics-event="{&quot;category&quot;:&quot;Underline navbar&quot;,&quot;action&quot;:&quot;Click tab&quot;,&quot;label&quot;:&quot;Issues&quot;,&quot;target&quot;:&quot;UNDERLINE_NAV.TAB&quot;}" data-view-component="true" class="UnderlineNav-item no-wrap js-responsive-underlinenav-item js-selected-navigation-item">
    
              <svg aria-hidden="true" height="16" viewBox="0 0 16 16" version="1.1" width="16" data-view-component="true" class="octicon octicon-issue-opened UnderlineNav-octicon d-none d-sm-inline">
    <path d="M8 9.5a1.5 1.5 0 1 0 0-3 1.5 1.5 0 0 0 0 3Z"></path><path d="M8 0a8 8 0 1 1 0 16A8 8 0 0 1 8 0ZM1.5 8a6.5 6.5 0 1 0 13 0 6.5 6.5 0 0 0-13 0Z"></path>
</svg>
        <span data-content="Issues">Issues</span>
          <span id="issues-repo-tab-count" data-pjax-replace="" data-turbo-replace="" title="0" hidden="hidden" data-view-component="true" class="Counter">0</span>


    
</a></li>
      <li data-view-component="true" class="d-inline-flex">
  <a id="pull-requests-tab" href="/DanCorley/IMDB_Movie_Analysis/pulls" data-tab-item="i2pull-requests-tab" data-selected-links="repo_pulls checks /DanCorley/IMDB_Movie_Analysis/pulls" data-pjax="#repo-content-pjax-container" data-turbo-frame="repo-content-turbo-frame" data-hotkey="g p" data-analytics-event="{&quot;category&quot;:&quot;Underline navbar&quot;,&quot;action&quot;:&quot;Click tab&quot;,&quot;label&quot;:&quot;Pull requests&quot;,&quot;target&quot;:&quot;UNDERLINE_NAV.TAB&quot;}" data-view-component="true" class="UnderlineNav-item no-wrap js-responsive-underlinenav-item js-selected-navigation-item">
    
              <svg aria-hidden="true" height="16" viewBox="0 0 16 16" version="1.1" width="16" data-view-component="true" class="octicon octicon-git-pull-request UnderlineNav-octicon d-none d-sm-inline">
    <path d="M1.5 3.25a2.25 2.25 0 1 1 3 2.122v5.256a2.251 2.251 0 1 1-1.5 0V5.372A2.25 2.25 0 0 1 1.5 3.25Zm5.677-.177L9.573.677A.25.25 0 0 1 10 .854V2.5h1A2.5 2.5 0 0 1 13.5 5v5.628a2.251 2.251 0 1 1-1.5 0V5a1 1 0 0 0-1-1h-1v1.646a.25.25 0 0 1-.427.177L7.177 3.427a.25.25 0 0 1 0-.354ZM3.75 2.5a.75.75 0 1 0 0 1.5.75.75 0 0 0 0-1.5Zm0 9.5a.75.75 0 1 0 0 1.5.75.75 0 0 0 0-1.5Zm8.25.75a.75.75 0 1 0 1.5 0 .75.75 0 0 0-1.5 0Z"></path>
</svg>
        <span data-content="Pull requests">Pull requests</span>
          <span id="pull-requests-repo-tab-count" data-pjax-replace="" data-turbo-replace="" title="0" hidden="hidden" data-view-component="true" class="Counter">0</span>


    
</a></li>
      <li data-view-component="true" class="d-inline-flex">
  <a id="actions-tab" href="/DanCorley/IMDB_Movie_Analysis/actions" data-tab-item="i3actions-tab" data-selected-links="repo_actions /DanCorley/IMDB_Movie_Analysis/actions" data-pjax="#repo-content-pjax-container" data-turbo-frame="repo-content-turbo-frame" data-hotkey="g a" data-analytics-event="{&quot;category&quot;:&quot;Underline navbar&quot;,&quot;action&quot;:&quot;Click tab&quot;,&quot;label&quot;:&quot;Actions&quot;,&quot;target&quot;:&quot;UNDERLINE_NAV.TAB&quot;}" data-view-component="true" class="UnderlineNav-item no-wrap js-responsive-underlinenav-item js-selected-navigation-item">
    
              <svg aria-hidden="true" height="16" viewBox="0 0 16 16" version="1.1" width="16" data-view-component="true" class="octicon octicon-play UnderlineNav-octicon d-none d-sm-inline">
    <path d="M8 0a8 8 0 1 1 0 16A8 8 0 0 1 8 0ZM1.5 8a6.5 6.5 0 1 0 13 0 6.5 6.5 0 0 0-13 0Zm4.879-2.773 4.264 2.559a.25.25 0 0 1 0 .428l-4.264 2.559A.25.25 0 0 1 6 10.559V5.442a.25.25 0 0 1 .379-.215Z"></path>
</svg>
        <span data-content="Actions">Actions</span>
          <span id="actions-repo-tab-count" data-pjax-replace="" data-turbo-replace="" title="Not available" data-view-component="true" class="Counter"></span>


    
</a></li>
      <li data-view-component="true" class="d-inline-flex">
  <a id="projects-tab" href="/DanCorley/IMDB_Movie_Analysis/projects" data-tab-item="i4projects-tab" data-selected-links="repo_projects new_repo_project repo_project /DanCorley/IMDB_Movie_Analysis/projects" data-pjax="#repo-content-pjax-container" data-turbo-frame="repo-content-turbo-frame" data-hotkey="g b" data-analytics-event="{&quot;category&quot;:&quot;Underline navbar&quot;,&quot;action&quot;:&quot;Click tab&quot;,&quot;label&quot;:&quot;Projects&quot;,&quot;target&quot;:&quot;UNDERLINE_NAV.TAB&quot;}" data-view-component="true" class="UnderlineNav-item no-wrap js-responsive-underlinenav-item js-selected-navigation-item">
    
              <svg aria-hidden="true" height="16" viewBox="0 0 16 16" version="1.1" width="16" data-view-component="true" class="octicon octicon-table UnderlineNav-octicon d-none d-sm-inline">
    <path d="M0 1.75C0 .784.784 0 1.75 0h12.5C15.216 0 16 .784 16 1.75v12.5A1.75 1.75 0 0 1 14.25 16H1.75A1.75 1.75 0 0 1 0 14.25ZM6.5 6.5v8h7.75a.25.25 0 0 0 .25-.25V6.5Zm8-1.5V1.75a.25.25 0 0 0-.25-.25H6.5V5Zm-13 1.5v7.75c0 .138.112.25.25.25H5v-8ZM5 5V1.5H1.75a.25.25 0 0 0-.25.25V5Z"></path>
</svg>
        <span data-content="Projects">Projects</span>
          <span id="projects-repo-tab-count" data-pjax-replace="" data-turbo-replace="" title="0" hidden="hidden" data-view-component="true" class="Counter">0</span>


    
</a></li>
      <li data-view-component="true" class="d-inline-flex">
  <a id="security-tab" href="/DanCorley/IMDB_Movie_Analysis/security" data-tab-item="i5security-tab" data-selected-links="security overview alerts policy token_scanning code_scanning /DanCorley/IMDB_Movie_Analysis/security" data-pjax="#repo-content-pjax-container" data-turbo-frame="repo-content-turbo-frame" data-hotkey="g s" data-analytics-event="{&quot;category&quot;:&quot;Underline navbar&quot;,&quot;action&quot;:&quot;Click tab&quot;,&quot;label&quot;:&quot;Security&quot;,&quot;target&quot;:&quot;UNDERLINE_NAV.TAB&quot;}" data-view-component="true" class="UnderlineNav-item no-wrap js-responsive-underlinenav-item js-selected-navigation-item">
    
              <svg aria-hidden="true" height="16" viewBox="0 0 16 16" version="1.1" width="16" data-view-component="true" class="octicon octicon-shield UnderlineNav-octicon d-none d-sm-inline">
    <path d="M7.467.133a1.748 1.748 0 0 1 1.066 0l5.25 1.68A1.75 1.75 0 0 1 15 3.48V7c0 1.566-.32 3.182-1.303 4.682-.983 1.498-2.585 2.813-5.032 3.855a1.697 1.697 0 0 1-1.33 0c-2.447-1.042-4.049-2.357-5.032-3.855C1.32 10.182 1 8.566 1 7V3.48a1.75 1.75 0 0 1 1.217-1.667Zm.61 1.429a.25.25 0 0 0-.153 0l-5.25 1.68a.25.25 0 0 0-.174.238V7c0 1.358.275 2.666 1.057 3.86.784 1.194 2.121 2.34 4.366 3.297a.196.196 0 0 0 .154 0c2.245-.956 3.582-2.104 4.366-3.298C13.225 9.666 13.5 8.36 13.5 7V3.48a.251.251 0 0 0-.174-.237l-5.25-1.68ZM8.75 4.75v3a.75.75 0 0 1-1.5 0v-3a.75.75 0 0 1 1.5 0ZM9 10.5a1 1 0 1 1-2 0 1 1 0 0 1 2 0Z"></path>
</svg>
        <span data-content="Security">Security</span>
          <include-fragment src="/DanCorley/IMDB_Movie_Analysis/security/overall-count" accept="text/fragment+html"></include-fragment>

    
</a></li>
      <li data-view-component="true" class="d-inline-flex">
  <a id="insights-tab" href="/DanCorley/IMDB_Movie_Analysis/pulse" data-tab-item="i6insights-tab" data-selected-links="repo_graphs repo_contributors dependency_graph dependabot_updates pulse people community /DanCorley/IMDB_Movie_Analysis/pulse" data-pjax="#repo-content-pjax-container" data-turbo-frame="repo-content-turbo-frame" data-analytics-event="{&quot;category&quot;:&quot;Underline navbar&quot;,&quot;action&quot;:&quot;Click tab&quot;,&quot;label&quot;:&quot;Insights&quot;,&quot;target&quot;:&quot;UNDERLINE_NAV.TAB&quot;}" data-view-component="true" class="UnderlineNav-item no-wrap js-responsive-underlinenav-item js-selected-navigation-item">
    
              <svg aria-hidden="true" height="16" viewBox="0 0 16 16" version="1.1" width="16" data-view-component="true" class="octicon octicon-graph UnderlineNav-octicon d-none d-sm-inline">
    <path d="M1.5 1.75V13.5h13.75a.75.75 0 0 1 0 1.5H.75a.75.75 0 0 1-.75-.75V1.75a.75.75 0 0 1 1.5 0Zm14.28 2.53-5.25 5.25a.75.75 0 0 1-1.06 0L7 7.06 4.28 9.78a.751.751 0 0 1-1.042-.018.751.751 0 0 1-.018-1.042l3.25-3.25a.75.75 0 0 1 1.06 0L10 7.94l4.72-4.72a.751.751 0 0 1 1.042.018.751.751 0 0 1 .018 1.042Z"></path>
</svg>
        <span data-content="Insights">Insights</span>
          <span id="insights-repo-tab-count" data-pjax-replace="" data-turbo-replace="" title="Not available" data-view-component="true" class="Counter"></span>


    
</a></li>
</ul>
    <div style="visibility:hidden;" data-view-component="true" class="UnderlineNav-actions js-responsive-underlinenav-overflow position-absolute pr-3 pr-md-4 pr-lg-5 right-0">        <details data-view-component="true" class="details-overlay details-reset position-relative">
    <summary role="button" data-view-component="true">          <div class="UnderlineNav-item mr-0 border-0">
            <svg aria-hidden="true" height="16" viewBox="0 0 16 16" version="1.1" width="16" data-view-component="true" class="octicon octicon-kebab-horizontal">
    <path d="M8 9a1.5 1.5 0 1 0 0-3 1.5 1.5 0 0 0 0 3ZM1.5 9a1.5 1.5 0 1 0 0-3 1.5 1.5 0 0 0 0 3Zm13 0a1.5 1.5 0 1 0 0-3 1.5 1.5 0 0 0 0 3Z"></path>
</svg>
            <span class="sr-only">More</span>
          </div>
</summary>
    <details-menu role="menu" data-view-component="true" class="dropdown-menu dropdown-menu-sw">          <ul>
              <li data-menu-item="i0code-tab" hidden>
                <a role="menuitem" class="js-selected-navigation-item dropdown-item" data-selected-links="repo_source repo_downloads repo_commits repo_releases repo_tags repo_branches repo_packages repo_deployments /DanCorley/IMDB_Movie_Analysis" href="/DanCorley/IMDB_Movie_Analysis">
                  Code
</a>              </li>
              <li data-menu-item="i1issues-tab" hidden>
                <a role="menuitem" class="js-selected-navigation-item dropdown-item" data-selected-links="repo_issues repo_labels repo_milestones /DanCorley/IMDB_Movie_Analysis/issues" href="/DanCorley/IMDB_Movie_Analysis/issues">
                  Issues
</a>              </li>
              <li data-menu-item="i2pull-requests-tab" hidden>
                <a role="menuitem" class="js-selected-navigation-item dropdown-item" data-selected-links="repo_pulls checks /DanCorley/IMDB_Movie_Analysis/pulls" href="/DanCorley/IMDB_Movie_Analysis/pulls">
                  Pull requests
</a>              </li>
              <li data-menu-item="i3actions-tab" hidden>
                <a role="menuitem" class="js-selected-navigation-item dropdown-item" data-selected-links="repo_actions /DanCorley/IMDB_Movie_Analysis/actions" href="/DanCorley/IMDB_Movie_Analysis/actions">
                  Actions
</a>              </li>
              <li data-menu-item="i4projects-tab" hidden>
                <a role="menuitem" class="js-selected-navigation-item dropdown-item" data-selected-links="repo_projects new_repo_project repo_project /DanCorley/IMDB_Movie_Analysis/projects" href="/DanCorley/IMDB_Movie_Analysis/projects">
                  Projects
</a>              </li>
              <li data-menu-item="i5security-tab" hidden>
                <a role="menuitem" class="js-selected-navigation-item dropdown-item" data-selected-links="security overview alerts policy token_scanning code_scanning /DanCorley/IMDB_Movie_Analysis/security" href="/DanCorley/IMDB_Movie_Analysis/security">
                  Security
</a>              </li>
              <li data-menu-item="i6insights-tab" hidden>
                <a role="menuitem" class="js-selected-navigation-item dropdown-item" data-selected-links="repo_graphs repo_contributors dependency_graph dependabot_updates pulse people community /DanCorley/IMDB_Movie_Analysis/pulse" href="/DanCorley/IMDB_Movie_Analysis/pulse">
                  Insights
</a>              </li>
          </ul>
</details-menu>
</details></div>
</nav>
      </div>
</header>


      <div hidden="hidden" data-view-component="true" class="js-stale-session-flash flash flash-warn mb-3">
  
        <svg aria-hidden="true" height="16" viewBox="0 0 16 16" version="1.1" width="16" data-view-component="true" class="octicon octicon-alert">
    <path d="M6.457 1.047c.659-1.234 2.427-1.234 3.086 0l6.082 11.378A1.75 1.75 0 0 1 14.082 15H1.918a1.75 1.75 0 0 1-1.543-2.575Zm1.763.707a.25.25 0 0 0-.44 0L1.698 13.132a.25.25 0 0 0 .22.368h12.164a.25.25 0 0 0 .22-.368Zm.53 3.996v2.5a.75.75 0 0 1-1.5 0v-2.5a.75.75 0 0 1 1.5 0ZM9 11a1 1 0 1 1-2 0 1 1 0 0 1 2 0Z"></path>
</svg>
        <span class="js-stale-session-flash-signed-in" hidden>You signed in with another tab or window. <a href="">Reload</a> to refresh your session.</span>
        <span class="js-stale-session-flash-signed-out" hidden>You signed out in another tab or window. <a href="">Reload</a> to refresh your session.</span>
        <span class="js-stale-session-flash-switched" hidden>You switched accounts on another tab or window. <a href="">Reload</a> to refresh your session.</span>

    <button class="flash-close js-flash-close" type="button" aria-label="Close">
      <svg aria-hidden="true" height="16" viewBox="0 0 16 16" version="1.1" width="16" data-view-component="true" class="octicon octicon-x">
    <path d="M3.72 3.72a.75.75 0 0 1 1.06 0L8 6.94l3.22-3.22a.749.749 0 0 1 1.275.326.749.749 0 0 1-.215.734L9.06 8l3.22 3.22a.749.749 0 0 1-.326 1.275.749.749 0 0 1-.734-.215L8 9.06l-3.22 3.22a.751.751 0 0 1-1.042-.018.751.751 0 0 1-.018-1.042L6.94 8 3.72 4.78a.75.75 0 0 1 0-1.06Z"></path>
</svg>
    </button>

  
</div>
          
    </div>

  <div id="start-of-content" class="show-on-focus"></div>








    <div id="js-flash-container" data-turbo-replace>





  <template class="js-flash-template">
    
<div class="flash flash-full   {{ className }}">
  <div class="px-2" >
    <button autofocus class="flash-close js-flash-close" type="button" aria-label="Dismiss this message">
      <svg aria-hidden="true" height="16" viewBox="0 0 16 16" version="1.1" width="16" data-view-component="true" class="octicon octicon-x">
    <path d="M3.72 3.72a.75.75 0 0 1 1.06 0L8 6.94l3.22-3.22a.749.749 0 0 1 1.275.326.749.749 0 0 1-.215.734L9.06 8l3.22 3.22a.749.749 0 0 1-.326 1.275.749.749 0 0 1-.734-.215L8 9.06l-3.22 3.22a.751.751 0 0 1-1.042-.018.751.751 0 0 1-.018-1.042L6.94 8 3.72 4.78a.75.75 0 0 1 0-1.06Z"></path>
</svg>
    </button>
    <div aria-atomic="true" role="alert" class="js-flash-alert">
      
      <div>{{ message }}</div>

    </div>
  </div>
</div>
  </template>
</div>


    
    <notification-shelf-watcher data-base-url="https://github.com/notifications/beta/shelf" data-channel="eyJjIjoibm90aWZpY2F0aW9uLWNoYW5nZWQ6MTE1NzEyODAyIiwidCI6MTY4ODUyOTI3OH0=--c06a5b728ef17d55fb9ff153d9780d758a384fbc93d621f31a508e3b06fa94bd" data-view-component="true" class="js-socket-channel"></notification-shelf-watcher>
  <div hidden data-initial data-target="notification-shelf-watcher.placeholder"></div>






      <details
  class="details-reset details-overlay details-overlay-dark js-command-palette-dialog"
  id="command-palette-pjax-container"
  data-turbo-replace
>
  <summary aria-label="command palette trigger" tabindex="-1"></summary>
  <details-dialog class="command-palette-details-dialog d-flex flex-column flex-justify-center height-fit" aria-label="command palette">
    <command-palette
      class="command-palette color-bg-default rounded-3 border color-shadow-small"
      return-to=/DanCorley/IMDB_Movie_Analysis/blob/master/Movie_Project.ipynb
      user-id="115712802"
      activation-hotkey="Mod+k,Mod+Alt+k"
      command-mode-hotkey="Mod+Shift+k"
      data-action="
        command-palette-input-ready:command-palette#inputReady
        command-palette-page-stack-updated:command-palette#updateInputScope
        itemsUpdated:command-palette#itemsUpdated
        keydown:command-palette#onKeydown
        loadingStateChanged:command-palette#loadingStateChanged
        selectedItemChanged:command-palette#selectedItemChanged
        pageFetchError:command-palette#pageFetchError
      ">

        <command-palette-mode
          data-char="#"
            data-scope-types="[&quot;&quot;]"
            data-placeholder="Search issues and pull requests"
        ></command-palette-mode>
        <command-palette-mode
          data-char="#"
            data-scope-types="[&quot;owner&quot;,&quot;repository&quot;]"
            data-placeholder="Search issues, pull requests, discussions, and projects"
        ></command-palette-mode>
        <command-palette-mode
          data-char="!"
            data-scope-types="[&quot;owner&quot;,&quot;repository&quot;]"
            data-placeholder="Search projects"
        ></command-palette-mode>
        <command-palette-mode
          data-char="@"
            data-scope-types="[&quot;&quot;]"
            data-placeholder="Search or jump to a user, organization, or repository"
        ></command-palette-mode>
        <command-palette-mode
          data-char="@"
            data-scope-types="[&quot;owner&quot;]"
            data-placeholder="Search or jump to a repository"
        ></command-palette-mode>
        <command-palette-mode
          data-char="/"
            data-scope-types="[&quot;repository&quot;]"
            data-placeholder="Search files"
        ></command-palette-mode>
        <command-palette-mode
          data-char="?"
        ></command-palette-mode>
        <command-palette-mode
          data-char="&gt;"
            data-placeholder="Run a command"
        ></command-palette-mode>
        <command-palette-mode
          data-char=""
            data-scope-types="[&quot;&quot;]"
            data-placeholder="Search or jump to..."
        ></command-palette-mode>
        <command-palette-mode
          data-char=""
            data-scope-types="[&quot;owner&quot;]"
            data-placeholder="Search or jump to..."
        ></command-palette-mode>
      <command-palette-mode
        class="js-command-palette-default-mode"
        data-char=""
        data-placeholder="Search or jump to..."
      ></command-palette-mode>

      <command-palette-input placeholder="Search or jump to..."

        data-action="
          command-palette-input:command-palette#onInput
          command-palette-select:command-palette#onSelect
          command-palette-descope:command-palette#onDescope
          command-palette-cleared:command-palette#onInputClear
        "
      >
        <div class="js-search-icon d-flex flex-items-center mr-2" style="height: 26px">
          <svg aria-hidden="true" height="16" viewBox="0 0 16 16" version="1.1" width="16" data-view-component="true" class="octicon octicon-search color-fg-muted">
    <path d="M10.68 11.74a6 6 0 0 1-7.922-8.982 6 6 0 0 1 8.982 7.922l3.04 3.04a.749.749 0 0 1-.326 1.275.749.749 0 0 1-.734-.215ZM11.5 7a4.499 4.499 0 1 0-8.997 0A4.499 4.499 0 0 0 11.5 7Z"></path>
</svg>
        </div>
        <div class="js-spinner d-flex flex-items-center mr-2 color-fg-muted" hidden>
          <svg aria-label="Loading" class="anim-rotate" viewBox="0 0 16 16" fill="none" width="16" height="16">
            <circle
              cx="8"
              cy="8"
              r="7"
              stroke="currentColor"
              stroke-opacity="0.25"
              stroke-width="2"
              vector-effect="non-scaling-stroke"
            ></circle>
            <path
              d="M15 8a7.002 7.002 0 00-7-7"
              stroke="currentColor"
              stroke-width="2"
              stroke-linecap="round"
              vector-effect="non-scaling-stroke"
            ></path>
          </svg>
        </div>
        <command-palette-scope >
          <div data-target="command-palette-scope.placeholder" hidden class="color-fg-subtle">/&nbsp;&nbsp;<span class="text-semibold color-fg-default">...</span>&nbsp;&nbsp;/&nbsp;&nbsp;</div>
              <command-palette-token
                data-text="DanCorley"
                data-id="MDQ6VXNlcjI1MTI0MjQ1"
                data-type="owner"
                data-value="DanCorley"
                data-targets="command-palette-scope.tokens"
                class="color-fg-default text-semibold"
                style="white-space:nowrap;line-height:20px;"
                >DanCorley<span class="color-fg-subtle text-normal">&nbsp;&nbsp;/&nbsp;&nbsp;</span></command-palette-token>
              <command-palette-token
                data-text="IMDB_Movie_Analysis"
                data-id="MDEwOlJlcG9zaXRvcnkyMzA5NzI4Njg="
                data-type="repository"
                data-value="IMDB_Movie_Analysis"
                data-targets="command-palette-scope.tokens"
                class="color-fg-default text-semibold"
                style="white-space:nowrap;line-height:20px;"
                >IMDB_Movie_Analysis<span class="color-fg-subtle text-normal">&nbsp;&nbsp;/&nbsp;&nbsp;</span></command-palette-token>
        </command-palette-scope>
        <div class="command-palette-input-group flex-1 form-control border-0 box-shadow-none" style="z-index: 0">
          <div class="command-palette-typeahead position-absolute d-flex flex-items-center Truncate">
            <span class="typeahead-segment input-mirror" data-target="command-palette-input.mirror"></span>
            <span class="Truncate-text" data-target="command-palette-input.typeaheadText"></span>
            <span class="typeahead-segment" data-target="command-palette-input.typeaheadPlaceholder"></span>
          </div>
          <input
            class="js-overlay-input typeahead-input d-none"
            disabled
            tabindex="-1"
            aria-label="Hidden input for typeahead"
          >
          <input
            type="text"
            autocomplete="off"
            autocorrect="off"
            autocapitalize="off"
            spellcheck="false"
            class="js-input typeahead-input form-control border-0 box-shadow-none input-block width-full no-focus-indicator"
            aria-label="Command palette input"
            aria-haspopup="listbox"
            aria-expanded="false"
            aria-autocomplete="list"
            aria-controls="command-palette-page-stack"
            role="combobox"
            data-action="
              input:command-palette-input#onInput
              keydown:command-palette-input#onKeydown
            "
          >
        </div>
          <div data-view-component="true" class="position-relative d-inline-block">
    <button aria-keyshortcuts="Control+Backspace" data-action="click:command-palette-input#onClear keypress:command-palette-input#onClear" data-target="command-palette-input.clearButton" id="command-palette-clear-button" hidden="hidden" type="button" data-view-component="true" class="btn-octicon command-palette-input-clear-button">      <svg aria-hidden="true" height="16" viewBox="0 0 16 16" version="1.1" width="16" data-view-component="true" class="octicon octicon-x-circle-fill">
    <path d="M2.343 13.657A8 8 0 1 1 13.658 2.343 8 8 0 0 1 2.343 13.657ZM6.03 4.97a.751.751 0 0 0-1.042.018.751.751 0 0 0-.018 1.042L6.94 8 4.97 9.97a.749.749 0 0 0 .326 1.275.749.749 0 0 0 .734-.215L8 9.06l1.97 1.97a.749.749 0 0 0 1.275-.326.749.749 0 0 0-.215-.734L9.06 8l1.97-1.97a.749.749 0 0 0-.326-1.275.749.749 0 0 0-.734.215L8 6.94Z"></path>
</svg>
</button>    <tool-tip id="tooltip-4858e6bb-2268-4888-a21b-87b4f10316ab" for="command-palette-clear-button" data-direction="w" data-type="label" data-view-component="true" class="sr-only position-absolute">Clear Command Palette</tool-tip>
</div>
      </command-palette-input>

      <command-palette-page-stack
        data-default-scope-id="MDEwOlJlcG9zaXRvcnkyMzA5NzI4Njg="
        data-default-scope-type="Repository"
        data-action="command-palette-page-octicons-cached:command-palette-page-stack#cacheOcticons"
      >
          <command-palette-tip
            class="color-fg-muted f6 px-3 py-1 my-2"
              data-scope-types="[&quot;&quot;,&quot;owner&quot;,&quot;repository&quot;]"
            data-mode=""
            data-value="">
            <div class="d-flex flex-items-start flex-justify-between">
              <div>
                <span class="text-bold">Tip:</span>
                  Type <kbd class="hx_kbd">#</kbd> to search pull requests
              </div>
              <div class="ml-2 flex-shrink-0">
                Type <kbd class="hx_kbd">?</kbd> for help and tips
              </div>
            </div>
          </command-palette-tip>
          <command-palette-tip
            class="color-fg-muted f6 px-3 py-1 my-2"
              data-scope-types="[&quot;&quot;,&quot;owner&quot;,&quot;repository&quot;]"
            data-mode=""
            data-value="">
            <div class="d-flex flex-items-start flex-justify-between">
              <div>
                <span class="text-bold">Tip:</span>
                  Type <kbd class="hx_kbd">#</kbd> to search issues
              </div>
              <div class="ml-2 flex-shrink-0">
                Type <kbd class="hx_kbd">?</kbd> for help and tips
              </div>
            </div>
          </command-palette-tip>
          <command-palette-tip
            class="color-fg-muted f6 px-3 py-1 my-2"
              data-scope-types="[&quot;owner&quot;,&quot;repository&quot;]"
            data-mode=""
            data-value="">
            <div class="d-flex flex-items-start flex-justify-between">
              <div>
                <span class="text-bold">Tip:</span>
                  Type <kbd class="hx_kbd">#</kbd> to search discussions
              </div>
              <div class="ml-2 flex-shrink-0">
                Type <kbd class="hx_kbd">?</kbd> for help and tips
              </div>
            </div>
          </command-palette-tip>
          <command-palette-tip
            class="color-fg-muted f6 px-3 py-1 my-2"
              data-scope-types="[&quot;owner&quot;,&quot;repository&quot;]"
            data-mode=""
            data-value="">
            <div class="d-flex flex-items-start flex-justify-between">
              <div>
                <span class="text-bold">Tip:</span>
                  Type <kbd class="hx_kbd">!</kbd> to search projects
              </div>
              <div class="ml-2 flex-shrink-0">
                Type <kbd class="hx_kbd">?</kbd> for help and tips
              </div>
            </div>
          </command-palette-tip>
          <command-palette-tip
            class="color-fg-muted f6 px-3 py-1 my-2"
              data-scope-types="[&quot;owner&quot;]"
            data-mode=""
            data-value="">
            <div class="d-flex flex-items-start flex-justify-between">
              <div>
                <span class="text-bold">Tip:</span>
                  Type <kbd class="hx_kbd">@</kbd> to search teams
              </div>
              <div class="ml-2 flex-shrink-0">
                Type <kbd class="hx_kbd">?</kbd> for help and tips
              </div>
            </div>
          </command-palette-tip>
          <command-palette-tip
            class="color-fg-muted f6 px-3 py-1 my-2"
              data-scope-types="[&quot;&quot;]"
            data-mode=""
            data-value="">
            <div class="d-flex flex-items-start flex-justify-between">
              <div>
                <span class="text-bold">Tip:</span>
                  Type <kbd class="hx_kbd">@</kbd> to search people and organizations
              </div>
              <div class="ml-2 flex-shrink-0">
                Type <kbd class="hx_kbd">?</kbd> for help and tips
              </div>
            </div>
          </command-palette-tip>
          <command-palette-tip
            class="color-fg-muted f6 px-3 py-1 my-2"
              data-scope-types="[&quot;&quot;,&quot;owner&quot;,&quot;repository&quot;]"
            data-mode=""
            data-value="">
            <div class="d-flex flex-items-start flex-justify-between">
              <div>
                <span class="text-bold">Tip:</span>
                  Type <kbd class="hx_kbd">&gt;</kbd> to activate command mode
              </div>
              <div class="ml-2 flex-shrink-0">
                Type <kbd class="hx_kbd">?</kbd> for help and tips
              </div>
            </div>
          </command-palette-tip>
          <command-palette-tip
            class="color-fg-muted f6 px-3 py-1 my-2"
              data-scope-types="[&quot;&quot;,&quot;owner&quot;,&quot;repository&quot;]"
            data-mode=""
            data-value="">
            <div class="d-flex flex-items-start flex-justify-between">
              <div>
                <span class="text-bold">Tip:</span>
                  Go to your accessibility settings to change your keyboard shortcuts
              </div>
              <div class="ml-2 flex-shrink-0">
                Type <kbd class="hx_kbd">?</kbd> for help and tips
              </div>
            </div>
          </command-palette-tip>
          <command-palette-tip
            class="color-fg-muted f6 px-3 py-1 my-2"
              data-scope-types="[&quot;&quot;,&quot;owner&quot;,&quot;repository&quot;]"
            data-mode="#"
            data-value="">
            <div class="d-flex flex-items-start flex-justify-between">
              <div>
                <span class="text-bold">Tip:</span>
                  Type author:@me to search your content
              </div>
              <div class="ml-2 flex-shrink-0">
                Type <kbd class="hx_kbd">?</kbd> for help and tips
              </div>
            </div>
          </command-palette-tip>
          <command-palette-tip
            class="color-fg-muted f6 px-3 py-1 my-2"
              data-scope-types="[&quot;&quot;,&quot;owner&quot;,&quot;repository&quot;]"
            data-mode="#"
            data-value="">
            <div class="d-flex flex-items-start flex-justify-between">
              <div>
                <span class="text-bold">Tip:</span>
                  Type is:pr to filter to pull requests
              </div>
              <div class="ml-2 flex-shrink-0">
                Type <kbd class="hx_kbd">?</kbd> for help and tips
              </div>
            </div>
          </command-palette-tip>
          <command-palette-tip
            class="color-fg-muted f6 px-3 py-1 my-2"
              data-scope-types="[&quot;&quot;,&quot;owner&quot;,&quot;repository&quot;]"
            data-mode="#"
            data-value="">
            <div class="d-flex flex-items-start flex-justify-between">
              <div>
                <span class="text-bold">Tip:</span>
                  Type is:issue to filter to issues
              </div>
              <div class="ml-2 flex-shrink-0">
                Type <kbd class="hx_kbd">?</kbd> for help and tips
              </div>
            </div>
          </command-palette-tip>
          <command-palette-tip
            class="color-fg-muted f6 px-3 py-1 my-2"
              data-scope-types="[&quot;owner&quot;,&quot;repository&quot;]"
            data-mode="#"
            data-value="">
            <div class="d-flex flex-items-start flex-justify-between">
              <div>
                <span class="text-bold">Tip:</span>
                  Type is:project to filter to projects
              </div>
              <div class="ml-2 flex-shrink-0">
                Type <kbd class="hx_kbd">?</kbd> for help and tips
              </div>
            </div>
          </command-palette-tip>
          <command-palette-tip
            class="color-fg-muted f6 px-3 py-1 my-2"
              data-scope-types="[&quot;&quot;,&quot;owner&quot;,&quot;repository&quot;]"
            data-mode="#"
            data-value="">
            <div class="d-flex flex-items-start flex-justify-between">
              <div>
                <span class="text-bold">Tip:</span>
                  Type is:open to filter to open content
              </div>
              <div class="ml-2 flex-shrink-0">
                Type <kbd class="hx_kbd">?</kbd> for help and tips
              </div>
            </div>
          </command-palette-tip>
        <command-palette-tip class="mx-3 my-2 flash flash-error d-flex flex-items-center" data-scope-types="*" data-on-error>
          <div>
            <svg aria-hidden="true" height="16" viewBox="0 0 16 16" version="1.1" width="16" data-view-component="true" class="octicon octicon-alert">
    <path d="M6.457 1.047c.659-1.234 2.427-1.234 3.086 0l6.082 11.378A1.75 1.75 0 0 1 14.082 15H1.918a1.75 1.75 0 0 1-1.543-2.575Zm1.763.707a.25.25 0 0 0-.44 0L1.698 13.132a.25.25 0 0 0 .22.368h12.164a.25.25 0 0 0 .22-.368Zm.53 3.996v2.5a.75.75 0 0 1-1.5 0v-2.5a.75.75 0 0 1 1.5 0ZM9 11a1 1 0 1 1-2 0 1 1 0 0 1 2 0Z"></path>
</svg>
          </div>
          <div class="px-2">
            We’ve encountered an error and some results aren't available at this time. Type a new search or try again later.
          </div>
        </command-palette-tip>
        <command-palette-tip class="h4 color-fg-default pl-3 pb-2 pt-3" data-on-empty data-scope-types="*" data-match-mode="[^?]|^$">
          No results matched your search
        </command-palette-tip>

        <div hidden>

            <div data-targets="command-palette-page-stack.localOcticons" data-octicon-id="arrow-right-color-fg-muted">
              <svg height="16" class="octicon octicon-arrow-right color-fg-muted" viewBox="0 0 16 16" version="1.1" width="16" aria-hidden="true"><path d="M8.22 2.97a.75.75 0 0 1 1.06 0l4.25 4.25a.75.75 0 0 1 0 1.06l-4.25 4.25a.751.751 0 0 1-1.042-.018.751.751 0 0 1-.018-1.042l2.97-2.97H3.75a.75.75 0 0 1 0-1.5h7.44L8.22 4.03a.75.75 0 0 1 0-1.06Z"></path></svg>
            </div>
            <div data-targets="command-palette-page-stack.localOcticons" data-octicon-id="arrow-right-color-fg-default">
              <svg height="16" class="octicon octicon-arrow-right color-fg-default" viewBox="0 0 16 16" version="1.1" width="16" aria-hidden="true"><path d="M8.22 2.97a.75.75 0 0 1 1.06 0l4.25 4.25a.75.75 0 0 1 0 1.06l-4.25 4.25a.751.751 0 0 1-1.042-.018.751.751 0 0 1-.018-1.042l2.97-2.97H3.75a.75.75 0 0 1 0-1.5h7.44L8.22 4.03a.75.75 0 0 1 0-1.06Z"></path></svg>
            </div>
            <div data-targets="command-palette-page-stack.localOcticons" data-octicon-id="codespaces-color-fg-muted">
              <svg height="16" class="octicon octicon-codespaces color-fg-muted" viewBox="0 0 16 16" version="1.1" width="16" aria-hidden="true"><path d="M0 11.25c0-.966.784-1.75 1.75-1.75h12.5c.966 0 1.75.784 1.75 1.75v3A1.75 1.75 0 0 1 14.25 16H1.75A1.75 1.75 0 0 1 0 14.25Zm2-9.5C2 .784 2.784 0 3.75 0h8.5C13.216 0 14 .784 14 1.75v5a1.75 1.75 0 0 1-1.75 1.75h-8.5A1.75 1.75 0 0 1 2 6.75Zm1.75-.25a.25.25 0 0 0-.25.25v5c0 .138.112.25.25.25h8.5a.25.25 0 0 0 .25-.25v-5a.25.25 0 0 0-.25-.25Zm-2 9.5a.25.25 0 0 0-.25.25v3c0 .138.112.25.25.25h12.5a.25.25 0 0 0 .25-.25v-3a.25.25 0 0 0-.25-.25Z"></path><path d="M7 12.75a.75.75 0 0 1 .75-.75h4.5a.75.75 0 0 1 0 1.5h-4.5a.75.75 0 0 1-.75-.75Zm-4 0a.75.75 0 0 1 .75-.75h.5a.75.75 0 0 1 0 1.5h-.5a.75.75 0 0 1-.75-.75Z"></path></svg>
            </div>
            <div data-targets="command-palette-page-stack.localOcticons" data-octicon-id="copy-color-fg-muted">
              <svg height="16" class="octicon octicon-copy color-fg-muted" viewBox="0 0 16 16" version="1.1" width="16" aria-hidden="true"><path d="M0 6.75C0 5.784.784 5 1.75 5h1.5a.75.75 0 0 1 0 1.5h-1.5a.25.25 0 0 0-.25.25v7.5c0 .138.112.25.25.25h7.5a.25.25 0 0 0 .25-.25v-1.5a.75.75 0 0 1 1.5 0v1.5A1.75 1.75 0 0 1 9.25 16h-7.5A1.75 1.75 0 0 1 0 14.25Z"></path><path d="M5 1.75C5 .784 5.784 0 6.75 0h7.5C15.216 0 16 .784 16 1.75v7.5A1.75 1.75 0 0 1 14.25 11h-7.5A1.75 1.75 0 0 1 5 9.25Zm1.75-.25a.25.25 0 0 0-.25.25v7.5c0 .138.112.25.25.25h7.5a.25.25 0 0 0 .25-.25v-7.5a.25.25 0 0 0-.25-.25Z"></path></svg>
            </div>
            <div data-targets="command-palette-page-stack.localOcticons" data-octicon-id="dash-color-fg-muted">
              <svg height="16" class="octicon octicon-dash color-fg-muted" viewBox="0 0 16 16" version="1.1" width="16" aria-hidden="true"><path d="M2 7.75A.75.75 0 0 1 2.75 7h10a.75.75 0 0 1 0 1.5h-10A.75.75 0 0 1 2 7.75Z"></path></svg>
            </div>
            <div data-targets="command-palette-page-stack.localOcticons" data-octicon-id="file-color-fg-muted">
              <svg height="16" class="octicon octicon-file color-fg-muted" viewBox="0 0 16 16" version="1.1" width="16" aria-hidden="true"><path d="M2 1.75C2 .784 2.784 0 3.75 0h6.586c.464 0 .909.184 1.237.513l2.914 2.914c.329.328.513.773.513 1.237v9.586A1.75 1.75 0 0 1 13.25 16h-9.5A1.75 1.75 0 0 1 2 14.25Zm1.75-.25a.25.25 0 0 0-.25.25v12.5c0 .138.112.25.25.25h9.5a.25.25 0 0 0 .25-.25V6h-2.75A1.75 1.75 0 0 1 9 4.25V1.5Zm6.75.062V4.25c0 .138.112.25.25.25h2.688l-.011-.013-2.914-2.914-.013-.011Z"></path></svg>
            </div>
            <div data-targets="command-palette-page-stack.localOcticons" data-octicon-id="gear-color-fg-muted">
              <svg height="16" class="octicon octicon-gear color-fg-muted" viewBox="0 0 16 16" version="1.1" width="16" aria-hidden="true"><path d="M8 0a8.2 8.2 0 0 1 .701.031C9.444.095 9.99.645 10.16 1.29l.288 1.107c.018.066.079.158.212.224.231.114.454.243.668.386.123.082.233.09.299.071l1.103-.303c.644-.176 1.392.021 1.82.63.27.385.506.792.704 1.218.315.675.111 1.422-.364 1.891l-.814.806c-.049.048-.098.147-.088.294.016.257.016.515 0 .772-.01.147.038.246.088.294l.814.806c.475.469.679 1.216.364 1.891a7.977 7.977 0 0 1-.704 1.217c-.428.61-1.176.807-1.82.63l-1.102-.302c-.067-.019-.177-.011-.3.071a5.909 5.909 0 0 1-.668.386c-.133.066-.194.158-.211.224l-.29 1.106c-.168.646-.715 1.196-1.458 1.26a8.006 8.006 0 0 1-1.402 0c-.743-.064-1.289-.614-1.458-1.26l-.289-1.106c-.018-.066-.079-.158-.212-.224a5.738 5.738 0 0 1-.668-.386c-.123-.082-.233-.09-.299-.071l-1.103.303c-.644.176-1.392-.021-1.82-.63a8.12 8.12 0 0 1-.704-1.218c-.315-.675-.111-1.422.363-1.891l.815-.806c.05-.048.098-.147.088-.294a6.214 6.214 0 0 1 0-.772c.01-.147-.038-.246-.088-.294l-.815-.806C.635 6.045.431 5.298.746 4.623a7.92 7.92 0 0 1 .704-1.217c.428-.61 1.176-.807 1.82-.63l1.102.302c.067.019.177.011.3-.071.214-.143.437-.272.668-.386.133-.066.194-.158.211-.224l.29-1.106C6.009.645 6.556.095 7.299.03 7.53.01 7.764 0 8 0Zm-.571 1.525c-.036.003-.108.036-.137.146l-.289 1.105c-.147.561-.549.967-.998 1.189-.173.086-.34.183-.5.29-.417.278-.97.423-1.529.27l-1.103-.303c-.109-.03-.175.016-.195.045-.22.312-.412.644-.573.99-.014.031-.021.11.059.19l.815.806c.411.406.562.957.53 1.456a4.709 4.709 0 0 0 0 .582c.032.499-.119 1.05-.53 1.456l-.815.806c-.081.08-.073.159-.059.19.162.346.353.677.573.989.02.03.085.076.195.046l1.102-.303c.56-.153 1.113-.008 1.53.27.161.107.328.204.501.29.447.222.85.629.997 1.189l.289 1.105c.029.109.101.143.137.146a6.6 6.6 0 0 0 1.142 0c.036-.003.108-.036.137-.146l.289-1.105c.147-.561.549-.967.998-1.189.173-.086.34-.183.5-.29.417-.278.97-.423 1.529-.27l1.103.303c.109.029.175-.016.195-.045.22-.313.411-.644.573-.99.014-.031.021-.11-.059-.19l-.815-.806c-.411-.406-.562-.957-.53-1.456a4.709 4.709 0 0 0 0-.582c-.032-.499.119-1.05.53-1.456l.815-.806c.081-.08.073-.159.059-.19a6.464 6.464 0 0 0-.573-.989c-.02-.03-.085-.076-.195-.046l-1.102.303c-.56.153-1.113.008-1.53-.27a4.44 4.44 0 0 0-.501-.29c-.447-.222-.85-.629-.997-1.189l-.289-1.105c-.029-.11-.101-.143-.137-.146a6.6 6.6 0 0 0-1.142 0ZM11 8a3 3 0 1 1-6 0 3 3 0 0 1 6 0ZM9.5 8a1.5 1.5 0 1 0-3.001.001A1.5 1.5 0 0 0 9.5 8Z"></path></svg>
            </div>
            <div data-targets="command-palette-page-stack.localOcticons" data-octicon-id="lock-color-fg-muted">
              <svg height="16" class="octicon octicon-lock color-fg-muted" viewBox="0 0 16 16" version="1.1" width="16" aria-hidden="true"><path d="M4 4a4 4 0 0 1 8 0v2h.25c.966 0 1.75.784 1.75 1.75v5.5A1.75 1.75 0 0 1 12.25 15h-8.5A1.75 1.75 0 0 1 2 13.25v-5.5C2 6.784 2.784 6 3.75 6H4Zm8.25 3.5h-8.5a.25.25 0 0 0-.25.25v5.5c0 .138.112.25.25.25h8.5a.25.25 0 0 0 .25-.25v-5.5a.25.25 0 0 0-.25-.25ZM10.5 6V4a2.5 2.5 0 1 0-5 0v2Z"></path></svg>
            </div>
            <div data-targets="command-palette-page-stack.localOcticons" data-octicon-id="moon-color-fg-muted">
              <svg height="16" class="octicon octicon-moon color-fg-muted" viewBox="0 0 16 16" version="1.1" width="16" aria-hidden="true"><path d="M9.598 1.591a.749.749 0 0 1 .785-.175 7.001 7.001 0 1 1-8.967 8.967.75.75 0 0 1 .961-.96 5.5 5.5 0 0 0 7.046-7.046.75.75 0 0 1 .175-.786Zm1.616 1.945a7 7 0 0 1-7.678 7.678 5.499 5.499 0 1 0 7.678-7.678Z"></path></svg>
            </div>
            <div data-targets="command-palette-page-stack.localOcticons" data-octicon-id="person-color-fg-muted">
              <svg height="16" class="octicon octicon-person color-fg-muted" viewBox="0 0 16 16" version="1.1" width="16" aria-hidden="true"><path d="M10.561 8.073a6.005 6.005 0 0 1 3.432 5.142.75.75 0 1 1-1.498.07 4.5 4.5 0 0 0-8.99 0 .75.75 0 0 1-1.498-.07 6.004 6.004 0 0 1 3.431-5.142 3.999 3.999 0 1 1 5.123 0ZM10.5 5a2.5 2.5 0 1 0-5 0 2.5 2.5 0 0 0 5 0Z"></path></svg>
            </div>
            <div data-targets="command-palette-page-stack.localOcticons" data-octicon-id="pencil-color-fg-muted">
              <svg height="16" class="octicon octicon-pencil color-fg-muted" viewBox="0 0 16 16" version="1.1" width="16" aria-hidden="true"><path d="M11.013 1.427a1.75 1.75 0 0 1 2.474 0l1.086 1.086a1.75 1.75 0 0 1 0 2.474l-8.61 8.61c-.21.21-.47.364-.756.445l-3.251.93a.75.75 0 0 1-.927-.928l.929-3.25c.081-.286.235-.547.445-.758l8.61-8.61Zm.176 4.823L9.75 4.81l-6.286 6.287a.253.253 0 0 0-.064.108l-.558 1.953 1.953-.558a.253.253 0 0 0 .108-.064Zm1.238-3.763a.25.25 0 0 0-.354 0L10.811 3.75l1.439 1.44 1.263-1.263a.25.25 0 0 0 0-.354Z"></path></svg>
            </div>
            <div data-targets="command-palette-page-stack.localOcticons" data-octicon-id="issue-opened-open">
              <svg height="16" class="octicon octicon-issue-opened open" viewBox="0 0 16 16" version="1.1" width="16" aria-hidden="true"><path d="M8 9.5a1.5 1.5 0 1 0 0-3 1.5 1.5 0 0 0 0 3Z"></path><path d="M8 0a8 8 0 1 1 0 16A8 8 0 0 1 8 0ZM1.5 8a6.5 6.5 0 1 0 13 0 6.5 6.5 0 0 0-13 0Z"></path></svg>
            </div>
            <div data-targets="command-palette-page-stack.localOcticons" data-octicon-id="git-pull-request-draft-color-fg-muted">
              <svg height="16" class="octicon octicon-git-pull-request-draft color-fg-muted" viewBox="0 0 16 16" version="1.1" width="16" aria-hidden="true"><path d="M3.25 1A2.25 2.25 0 0 1 4 5.372v5.256a2.251 2.251 0 1 1-1.5 0V5.372A2.251 2.251 0 0 1 3.25 1Zm9.5 14a2.25 2.25 0 1 1 0-4.5 2.25 2.25 0 0 1 0 4.5ZM2.5 3.25a.75.75 0 1 0 1.5 0 .75.75 0 0 0-1.5 0ZM3.25 12a.75.75 0 1 0 0 1.5.75.75 0 0 0 0-1.5Zm9.5 0a.75.75 0 1 0 0 1.5.75.75 0 0 0 0-1.5ZM14 7.5a1.25 1.25 0 1 1-2.5 0 1.25 1.25 0 0 1 2.5 0Zm0-4.25a1.25 1.25 0 1 1-2.5 0 1.25 1.25 0 0 1 2.5 0Z"></path></svg>
            </div>
            <div data-targets="command-palette-page-stack.localOcticons" data-octicon-id="search-color-fg-muted">
              <svg height="16" class="octicon octicon-search color-fg-muted" viewBox="0 0 16 16" version="1.1" width="16" aria-hidden="true"><path d="M10.68 11.74a6 6 0 0 1-7.922-8.982 6 6 0 0 1 8.982 7.922l3.04 3.04a.749.749 0 0 1-.326 1.275.749.749 0 0 1-.734-.215ZM11.5 7a4.499 4.499 0 1 0-8.997 0A4.499 4.499 0 0 0 11.5 7Z"></path></svg>
            </div>
            <div data-targets="command-palette-page-stack.localOcticons" data-octicon-id="sun-color-fg-muted">
              <svg height="16" class="octicon octicon-sun color-fg-muted" viewBox="0 0 16 16" version="1.1" width="16" aria-hidden="true"><path d="M8 12a4 4 0 1 1 0-8 4 4 0 0 1 0 8Zm0-1.5a2.5 2.5 0 1 0 0-5 2.5 2.5 0 0 0 0 5Zm5.657-8.157a.75.75 0 0 1 0 1.061l-1.061 1.06a.749.749 0 0 1-1.275-.326.749.749 0 0 1 .215-.734l1.06-1.06a.75.75 0 0 1 1.06 0Zm-9.193 9.193a.75.75 0 0 1 0 1.06l-1.06 1.061a.75.75 0 1 1-1.061-1.06l1.06-1.061a.75.75 0 0 1 1.061 0ZM8 0a.75.75 0 0 1 .75.75v1.5a.75.75 0 0 1-1.5 0V.75A.75.75 0 0 1 8 0ZM3 8a.75.75 0 0 1-.75.75H.75a.75.75 0 0 1 0-1.5h1.5A.75.75 0 0 1 3 8Zm13 0a.75.75 0 0 1-.75.75h-1.5a.75.75 0 0 1 0-1.5h1.5A.75.75 0 0 1 16 8Zm-8 5a.75.75 0 0 1 .75.75v1.5a.75.75 0 0 1-1.5 0v-1.5A.75.75 0 0 1 8 13Zm3.536-1.464a.75.75 0 0 1 1.06 0l1.061 1.06a.75.75 0 0 1-1.06 1.061l-1.061-1.06a.75.75 0 0 1 0-1.061ZM2.343 2.343a.75.75 0 0 1 1.061 0l1.06 1.061a.751.751 0 0 1-.018 1.042.751.751 0 0 1-1.042.018l-1.06-1.06a.75.75 0 0 1 0-1.06Z"></path></svg>
            </div>
            <div data-targets="command-palette-page-stack.localOcticons" data-octicon-id="sync-color-fg-muted">
              <svg height="16" class="octicon octicon-sync color-fg-muted" viewBox="0 0 16 16" version="1.1" width="16" aria-hidden="true"><path d="M1.705 8.005a.75.75 0 0 1 .834.656 5.5 5.5 0 0 0 9.592 2.97l-1.204-1.204a.25.25 0 0 1 .177-.427h3.646a.25.25 0 0 1 .25.25v3.646a.25.25 0 0 1-.427.177l-1.38-1.38A7.002 7.002 0 0 1 1.05 8.84a.75.75 0 0 1 .656-.834ZM8 2.5a5.487 5.487 0 0 0-4.131 1.869l1.204 1.204A.25.25 0 0 1 4.896 6H1.25A.25.25 0 0 1 1 5.75V2.104a.25.25 0 0 1 .427-.177l1.38 1.38A7.002 7.002 0 0 1 14.95 7.16a.75.75 0 0 1-1.49.178A5.5 5.5 0 0 0 8 2.5Z"></path></svg>
            </div>
            <div data-targets="command-palette-page-stack.localOcticons" data-octicon-id="trash-color-fg-muted">
              <svg height="16" class="octicon octicon-trash color-fg-muted" viewBox="0 0 16 16" version="1.1" width="16" aria-hidden="true"><path d="M11 1.75V3h2.25a.75.75 0 0 1 0 1.5H2.75a.75.75 0 0 1 0-1.5H5V1.75C5 .784 5.784 0 6.75 0h2.5C10.216 0 11 .784 11 1.75ZM4.496 6.675l.66 6.6a.25.25 0 0 0 .249.225h5.19a.25.25 0 0 0 .249-.225l.66-6.6a.75.75 0 0 1 1.492.149l-.66 6.6A1.748 1.748 0 0 1 10.595 15h-5.19a1.75 1.75 0 0 1-1.741-1.575l-.66-6.6a.75.75 0 1 1 1.492-.15ZM6.5 1.75V3h3V1.75a.25.25 0 0 0-.25-.25h-2.5a.25.25 0 0 0-.25.25Z"></path></svg>
            </div>
            <div data-targets="command-palette-page-stack.localOcticons" data-octicon-id="key-color-fg-muted">
              <svg height="16" class="octicon octicon-key color-fg-muted" viewBox="0 0 16 16" version="1.1" width="16" aria-hidden="true"><path d="M10.5 0a5.499 5.499 0 1 1-1.288 10.848l-.932.932a.749.749 0 0 1-.53.22H7v.75a.749.749 0 0 1-.22.53l-.5.5a.749.749 0 0 1-.53.22H5v.75a.749.749 0 0 1-.22.53l-.5.5a.749.749 0 0 1-.53.22h-2A1.75 1.75 0 0 1 0 14.25v-2c0-.199.079-.389.22-.53l4.932-4.932A5.5 5.5 0 0 1 10.5 0Zm-4 5.5c-.001.431.069.86.205 1.269a.75.75 0 0 1-.181.768L1.5 12.56v1.69c0 .138.112.25.25.25h1.69l.06-.06v-1.19a.75.75 0 0 1 .75-.75h1.19l.06-.06v-1.19a.75.75 0 0 1 .75-.75h1.19l1.023-1.025a.75.75 0 0 1 .768-.18A4 4 0 1 0 6.5 5.5ZM11 6a1 1 0 1 1 0-2 1 1 0 0 1 0 2Z"></path></svg>
            </div>
            <div data-targets="command-palette-page-stack.localOcticons" data-octicon-id="comment-discussion-color-fg-muted">
              <svg height="16" class="octicon octicon-comment-discussion color-fg-muted" viewBox="0 0 16 16" version="1.1" width="16" aria-hidden="true"><path d="M1.75 1h8.5c.966 0 1.75.784 1.75 1.75v5.5A1.75 1.75 0 0 1 10.25 10H7.061l-2.574 2.573A1.458 1.458 0 0 1 2 11.543V10h-.25A1.75 1.75 0 0 1 0 8.25v-5.5C0 1.784.784 1 1.75 1ZM1.5 2.75v5.5c0 .138.112.25.25.25h1a.75.75 0 0 1 .75.75v2.19l2.72-2.72a.749.749 0 0 1 .53-.22h3.5a.25.25 0 0 0 .25-.25v-5.5a.25.25 0 0 0-.25-.25h-8.5a.25.25 0 0 0-.25.25Zm13 2a.25.25 0 0 0-.25-.25h-.5a.75.75 0 0 1 0-1.5h.5c.966 0 1.75.784 1.75 1.75v5.5A1.75 1.75 0 0 1 14.25 12H14v1.543a1.458 1.458 0 0 1-2.487 1.03L9.22 12.28a.749.749 0 0 1 .326-1.275.749.749 0 0 1 .734.215l2.22 2.22v-2.19a.75.75 0 0 1 .75-.75h1a.25.25 0 0 0 .25-.25Z"></path></svg>
            </div>
            <div data-targets="command-palette-page-stack.localOcticons" data-octicon-id="bell-color-fg-muted">
              <svg height="16" class="octicon octicon-bell color-fg-muted" viewBox="0 0 16 16" version="1.1" width="16" aria-hidden="true"><path d="M8 16a2 2 0 0 0 1.985-1.75c.017-.137-.097-.25-.235-.25h-3.5c-.138 0-.252.113-.235.25A2 2 0 0 0 8 16ZM3 5a5 5 0 0 1 10 0v2.947c0 .05.015.098.042.139l1.703 2.555A1.519 1.519 0 0 1 13.482 13H2.518a1.516 1.516 0 0 1-1.263-2.36l1.703-2.554A.255.255 0 0 0 3 7.947Zm5-3.5A3.5 3.5 0 0 0 4.5 5v2.947c0 .346-.102.683-.294.97l-1.703 2.556a.017.017 0 0 0-.003.01l.001.006c0 .002.002.004.004.006l.006.004.007.001h10.964l.007-.001.006-.004.004-.006.001-.007a.017.017 0 0 0-.003-.01l-1.703-2.554a1.745 1.745 0 0 1-.294-.97V5A3.5 3.5 0 0 0 8 1.5Z"></path></svg>
            </div>
            <div data-targets="command-palette-page-stack.localOcticons" data-octicon-id="bell-slash-color-fg-muted">
              <svg height="16" class="octicon octicon-bell-slash color-fg-muted" viewBox="0 0 16 16" version="1.1" width="16" aria-hidden="true"><path d="m4.182 4.31.016.011 10.104 7.316.013.01 1.375.996a.75.75 0 1 1-.88 1.214L13.626 13H2.518a1.516 1.516 0 0 1-1.263-2.36l1.703-2.554A.255.255 0 0 0 3 7.947V5.305L.31 3.357a.75.75 0 1 1 .88-1.214Zm7.373 7.19L4.5 6.391v1.556c0 .346-.102.683-.294.97l-1.703 2.556a.017.017 0 0 0-.003.01c0 .005.002.009.005.012l.006.004.007.001ZM8 1.5c-.997 0-1.895.416-2.534 1.086A.75.75 0 1 1 4.38 1.55 5 5 0 0 1 13 5v2.373a.75.75 0 0 1-1.5 0V5A3.5 3.5 0 0 0 8 1.5ZM8 16a2 2 0 0 1-1.985-1.75c-.017-.137.097-.25.235-.25h3.5c.138 0 .252.113.235.25A2 2 0 0 1 8 16Z"></path></svg>
            </div>
            <div data-targets="command-palette-page-stack.localOcticons" data-octicon-id="paintbrush-color-fg-muted">
              <svg height="16" class="octicon octicon-paintbrush color-fg-muted" viewBox="0 0 16 16" version="1.1" width="16" aria-hidden="true"><path d="M11.134 1.535c.7-.509 1.416-.942 2.076-1.155.649-.21 1.463-.267 2.069.34.603.601.568 1.411.368 2.07-.202.668-.624 1.39-1.125 2.096-1.011 1.424-2.496 2.987-3.775 4.249-1.098 1.084-2.132 1.839-3.04 2.3a3.744 3.744 0 0 1-1.055 3.217c-.431.431-1.065.691-1.657.861-.614.177-1.294.287-1.914.357A21.151 21.151 0 0 1 .797 16H.743l.007-.75H.749L.742 16a.75.75 0 0 1-.743-.742l.743-.008-.742.007v-.054a21.25 21.25 0 0 1 .13-2.284c.067-.647.187-1.287.358-1.914.17-.591.43-1.226.86-1.657a3.746 3.746 0 0 1 3.227-1.054c.466-.893 1.225-1.907 2.314-2.982 1.271-1.255 2.833-2.75 4.245-3.777ZM1.62 13.089c-.051.464-.086.929-.104 1.395.466-.018.932-.053 1.396-.104a10.511 10.511 0 0 0 1.668-.309c.526-.151.856-.325 1.011-.48a2.25 2.25 0 1 0-3.182-3.182c-.155.155-.329.485-.48 1.01a10.515 10.515 0 0 0-.309 1.67Zm10.396-10.34c-1.224.89-2.605 2.189-3.822 3.384l1.718 1.718c1.21-1.205 2.51-2.597 3.387-3.833.47-.662.78-1.227.912-1.662.134-.444.032-.551.009-.575h-.001V1.78c-.014-.014-.113-.113-.548.027-.432.14-.995.462-1.655.942Zm-4.832 7.266-.001.001a9.859 9.859 0 0 0 1.63-1.142L7.155 7.216a9.7 9.7 0 0 0-1.161 1.607c.482.302.889.71 1.19 1.192Z"></path></svg>
            </div>

            <command-palette-item-group
              data-group-id="top"
              data-group-title="Top result"
              data-group-hint=""
              data-group-limits="{}"
              data-default-priority="0"
            >
            </command-palette-item-group>
            <command-palette-item-group
              data-group-id="commands"
              data-group-title="Commands"
              data-group-hint="Type &gt; to filter"
              data-group-limits="{&quot;static_items_page&quot;:50,&quot;issue&quot;:50,&quot;pull_request&quot;:50,&quot;discussion&quot;:50}"
              data-default-priority="1"
            >
            </command-palette-item-group>
            <command-palette-item-group
              data-group-id="global_commands"
              data-group-title="Global Commands"
              data-group-hint="Type &gt; to filter"
              data-group-limits="{&quot;issue&quot;:0,&quot;pull_request&quot;:0,&quot;discussion&quot;:0}"
              data-default-priority="2"
            >
            </command-palette-item-group>
            <command-palette-item-group
              data-group-id="this_page"
              data-group-title="This Page"
              data-group-hint=""
              data-group-limits="{}"
              data-default-priority="3"
            >
            </command-palette-item-group>
            <command-palette-item-group
              data-group-id="files"
              data-group-title="Files"
              data-group-hint=""
              data-group-limits="{}"
              data-default-priority="4"
            >
            </command-palette-item-group>
            <command-palette-item-group
              data-group-id="default"
              data-group-title="Default"
              data-group-hint=""
              data-group-limits="{&quot;static_items_page&quot;:50}"
              data-default-priority="5"
            >
            </command-palette-item-group>
            <command-palette-item-group
              data-group-id="pages"
              data-group-title="Pages"
              data-group-hint=""
              data-group-limits="{&quot;repository&quot;:10}"
              data-default-priority="6"
            >
            </command-palette-item-group>
            <command-palette-item-group
              data-group-id="access_policies"
              data-group-title="Access Policies"
              data-group-hint=""
              data-group-limits="{}"
              data-default-priority="7"
            >
            </command-palette-item-group>
            <command-palette-item-group
              data-group-id="organizations"
              data-group-title="Organizations"
              data-group-hint=""
              data-group-limits="{}"
              data-default-priority="8"
            >
            </command-palette-item-group>
            <command-palette-item-group
              data-group-id="repositories"
              data-group-title="Repositories"
              data-group-hint=""
              data-group-limits="{}"
              data-default-priority="9"
            >
            </command-palette-item-group>
            <command-palette-item-group
              data-group-id="references"
              data-group-title="Issues, pull requests, and discussions"
              data-group-hint="Type # to filter"
              data-group-limits="{}"
              data-default-priority="10"
            >
            </command-palette-item-group>
            <command-palette-item-group
              data-group-id="teams"
              data-group-title="Teams"
              data-group-hint=""
              data-group-limits="{}"
              data-default-priority="11"
            >
            </command-palette-item-group>
            <command-palette-item-group
              data-group-id="users"
              data-group-title="Users"
              data-group-hint=""
              data-group-limits="{}"
              data-default-priority="12"
            >
            </command-palette-item-group>
            <command-palette-item-group
              data-group-id="memex_projects"
              data-group-title="Projects"
              data-group-hint=""
              data-group-limits="{}"
              data-default-priority="13"
            >
            </command-palette-item-group>
            <command-palette-item-group
              data-group-id="projects"
              data-group-title="Projects (classic)"
              data-group-hint=""
              data-group-limits="{}"
              data-default-priority="14"
            >
            </command-palette-item-group>
            <command-palette-item-group
              data-group-id="footer"
              data-group-title="Footer"
              data-group-hint=""
              data-group-limits="{}"
              data-default-priority="15"
            >
            </command-palette-item-group>
            <command-palette-item-group
              data-group-id="modes_help"
              data-group-title="Modes"
              data-group-hint=""
              data-group-limits="{}"
              data-default-priority="16"
            >
            </command-palette-item-group>
            <command-palette-item-group
              data-group-id="filters_help"
              data-group-title="Use filters in issues, pull requests, discussions, and projects"
              data-group-hint=""
              data-group-limits="{}"
              data-default-priority="17"
            >
            </command-palette-item-group>

            <command-palette-page
              data-page-title="DanCorley"
              data-scope-id="MDQ6VXNlcjI1MTI0MjQ1"
              data-scope-type="owner"
              data-targets="command-palette-page-stack.defaultPages"
              hidden
            >
            </command-palette-page>
            <command-palette-page
              data-page-title="IMDB_Movie_Analysis"
              data-scope-id="MDEwOlJlcG9zaXRvcnkyMzA5NzI4Njg="
              data-scope-type="repository"
              data-targets="command-palette-page-stack.defaultPages"
              hidden
            >
            </command-palette-page>
        </div>

        <command-palette-page data-is-root>
        </command-palette-page>
          <command-palette-page
            data-page-title="DanCorley"
            data-scope-id="MDQ6VXNlcjI1MTI0MjQ1"
            data-scope-type="owner"
          >
          </command-palette-page>
          <command-palette-page
            data-page-title="IMDB_Movie_Analysis"
            data-scope-id="MDEwOlJlcG9zaXRvcnkyMzA5NzI4Njg="
            data-scope-type="repository"
          >
          </command-palette-page>
      </command-palette-page-stack>

      <server-defined-provider data-type="search-links" data-targets="command-palette.serverDefinedProviderElements"></server-defined-provider>
      <server-defined-provider data-type="help" data-targets="command-palette.serverDefinedProviderElements">
          <command-palette-help
            data-group="modes_help"
              data-prefix="#"
              data-scope-types="[&quot;&quot;]"
          >
            <span data-target="command-palette-help.titleElement">Search for <strong>issues</strong> and <strong>pull requests</strong></span>
              <span data-target="command-palette-help.hintElement">
                <kbd class="hx_kbd">#</kbd>
              </span>
          </command-palette-help>
          <command-palette-help
            data-group="modes_help"
              data-prefix="#"
              data-scope-types="[&quot;owner&quot;,&quot;repository&quot;]"
          >
            <span data-target="command-palette-help.titleElement">Search for <strong>issues, pull requests, discussions,</strong> and <strong>projects</strong></span>
              <span data-target="command-palette-help.hintElement">
                <kbd class="hx_kbd">#</kbd>
              </span>
          </command-palette-help>
          <command-palette-help
            data-group="modes_help"
              data-prefix="@"
              data-scope-types="[&quot;&quot;]"
          >
            <span data-target="command-palette-help.titleElement">Search for <strong>organizations, repositories,</strong> and <strong>users</strong></span>
              <span data-target="command-palette-help.hintElement">
                <kbd class="hx_kbd">@</kbd>
              </span>
          </command-palette-help>
          <command-palette-help
            data-group="modes_help"
              data-prefix="!"
              data-scope-types="[&quot;owner&quot;,&quot;repository&quot;]"
          >
            <span data-target="command-palette-help.titleElement">Search for <strong>projects</strong></span>
              <span data-target="command-palette-help.hintElement">
                <kbd class="hx_kbd">!</kbd>
              </span>
          </command-palette-help>
          <command-palette-help
            data-group="modes_help"
              data-prefix="/"
              data-scope-types="[&quot;repository&quot;]"
          >
            <span data-target="command-palette-help.titleElement">Search for <strong>files</strong></span>
              <span data-target="command-palette-help.hintElement">
                <kbd class="hx_kbd">/</kbd>
              </span>
          </command-palette-help>
          <command-palette-help
            data-group="modes_help"
              data-prefix="&gt;"
          >
            <span data-target="command-palette-help.titleElement">Activate <strong>command mode</strong></span>
              <span data-target="command-palette-help.hintElement">
                <kbd class="hx_kbd">&gt;</kbd>
              </span>
          </command-palette-help>
          <command-palette-help
            data-group="filters_help"
              data-prefix="# author:@me"
          >
            <span data-target="command-palette-help.titleElement">Search your issues, pull requests, and discussions</span>
              <span data-target="command-palette-help.hintElement">
                <kbd class="hx_kbd"># author:@me</kbd>
              </span>
          </command-palette-help>
          <command-palette-help
            data-group="filters_help"
              data-prefix="# author:@me"
          >
            <span data-target="command-palette-help.titleElement">Search your issues, pull requests, and discussions</span>
              <span data-target="command-palette-help.hintElement">
                <kbd class="hx_kbd"># author:@me</kbd>
              </span>
          </command-palette-help>
          <command-palette-help
            data-group="filters_help"
              data-prefix="# is:pr"
          >
            <span data-target="command-palette-help.titleElement">Filter to pull requests</span>
              <span data-target="command-palette-help.hintElement">
                <kbd class="hx_kbd"># is:pr</kbd>
              </span>
          </command-palette-help>
          <command-palette-help
            data-group="filters_help"
              data-prefix="# is:issue"
          >
            <span data-target="command-palette-help.titleElement">Filter to issues</span>
              <span data-target="command-palette-help.hintElement">
                <kbd class="hx_kbd"># is:issue</kbd>
              </span>
          </command-palette-help>
          <command-palette-help
            data-group="filters_help"
              data-prefix="# is:discussion"
              data-scope-types="[&quot;owner&quot;,&quot;repository&quot;]"
          >
            <span data-target="command-palette-help.titleElement">Filter to discussions</span>
              <span data-target="command-palette-help.hintElement">
                <kbd class="hx_kbd"># is:discussion</kbd>
              </span>
          </command-palette-help>
          <command-palette-help
            data-group="filters_help"
              data-prefix="# is:project"
              data-scope-types="[&quot;owner&quot;,&quot;repository&quot;]"
          >
            <span data-target="command-palette-help.titleElement">Filter to projects</span>
              <span data-target="command-palette-help.hintElement">
                <kbd class="hx_kbd"># is:project</kbd>
              </span>
          </command-palette-help>
          <command-palette-help
            data-group="filters_help"
              data-prefix="# is:open"
          >
            <span data-target="command-palette-help.titleElement">Filter to open issues, pull requests, and discussions</span>
              <span data-target="command-palette-help.hintElement">
                <kbd class="hx_kbd"># is:open</kbd>
              </span>
          </command-palette-help>
      </server-defined-provider>

        <server-defined-provider
          data-type="commands"
          data-fetch-debounce="0"
            data-src="/command_palette/commands"
          data-supported-modes="[]"
            data-supports-commands
          
          data-targets="command-palette.serverDefinedProviderElements"
          ></server-defined-provider>
        <server-defined-provider
          data-type="prefetched"
          data-fetch-debounce="0"
            data-src="/command_palette/jump_to_page_navigation"
          data-supported-modes="[&quot;&quot;]"
            data-supported-scope-types="[&quot;&quot;,&quot;owner&quot;,&quot;repository&quot;]"
          
          data-targets="command-palette.serverDefinedProviderElements"
          ></server-defined-provider>
        <server-defined-provider
          data-type="remote"
          data-fetch-debounce="200"
            data-src="/command_palette/issues"
          data-supported-modes="[&quot;#&quot;,&quot;#&quot;]"
            data-supported-scope-types="[&quot;owner&quot;,&quot;repository&quot;,&quot;&quot;]"
          
          data-targets="command-palette.serverDefinedProviderElements"
          ></server-defined-provider>
        <server-defined-provider
          data-type="remote"
          data-fetch-debounce="200"
            data-src="/command_palette/jump_to"
          data-supported-modes="[&quot;@&quot;,&quot;@&quot;]"
            data-supported-scope-types="[&quot;&quot;,&quot;owner&quot;]"
          
          data-targets="command-palette.serverDefinedProviderElements"
          ></server-defined-provider>
        <server-defined-provider
          data-type="remote"
          data-fetch-debounce="200"
            data-src="/command_palette/jump_to_members_only"
          data-supported-modes="[&quot;@&quot;,&quot;@&quot;,&quot;&quot;,&quot;&quot;]"
            data-supported-scope-types="[&quot;&quot;,&quot;owner&quot;]"
          
          data-targets="command-palette.serverDefinedProviderElements"
          ></server-defined-provider>
        <server-defined-provider
          data-type="prefetched"
          data-fetch-debounce="0"
            data-src="/command_palette/jump_to_members_only_prefetched"
          data-supported-modes="[&quot;@&quot;,&quot;@&quot;,&quot;&quot;,&quot;&quot;]"
            data-supported-scope-types="[&quot;&quot;,&quot;owner&quot;]"
          
          data-targets="command-palette.serverDefinedProviderElements"
          ></server-defined-provider>
        <server-defined-provider
          data-type="files"
          data-fetch-debounce="0"
            data-src="/command_palette/files"
          data-supported-modes="[&quot;/&quot;]"
            data-supported-scope-types="[&quot;repository&quot;]"
          
          data-targets="command-palette.serverDefinedProviderElements"
          ></server-defined-provider>
        <server-defined-provider
          data-type="remote"
          data-fetch-debounce="200"
            data-src="/command_palette/discussions"
          data-supported-modes="[&quot;#&quot;]"
            data-supported-scope-types="[&quot;owner&quot;,&quot;repository&quot;]"
          
          data-targets="command-palette.serverDefinedProviderElements"
          ></server-defined-provider>
        <server-defined-provider
          data-type="remote"
          data-fetch-debounce="200"
            data-src="/command_palette/projects"
          data-supported-modes="[&quot;#&quot;,&quot;!&quot;]"
            data-supported-scope-types="[&quot;owner&quot;,&quot;repository&quot;]"
          
          data-targets="command-palette.serverDefinedProviderElements"
          ></server-defined-provider>
        <server-defined-provider
          data-type="prefetched"
          data-fetch-debounce="0"
            data-src="/command_palette/recent_issues"
          data-supported-modes="[&quot;#&quot;,&quot;#&quot;]"
            data-supported-scope-types="[&quot;owner&quot;,&quot;repository&quot;,&quot;&quot;]"
          
          data-targets="command-palette.serverDefinedProviderElements"
          ></server-defined-provider>
        <server-defined-provider
          data-type="remote"
          data-fetch-debounce="200"
            data-src="/command_palette/teams"
          data-supported-modes="[&quot;@&quot;,&quot;&quot;]"
            data-supported-scope-types="[&quot;owner&quot;]"
          
          data-targets="command-palette.serverDefinedProviderElements"
          ></server-defined-provider>
        <server-defined-provider
          data-type="remote"
          data-fetch-debounce="200"
            data-src="/command_palette/name_with_owner_repository"
          data-supported-modes="[&quot;@&quot;,&quot;@&quot;,&quot;&quot;,&quot;&quot;]"
            data-supported-scope-types="[&quot;&quot;,&quot;owner&quot;]"
          
          data-targets="command-palette.serverDefinedProviderElements"
          ></server-defined-provider>
    </command-palette>
  </details-dialog>
</details>

<div class="position-fixed bottom-0 left-0 ml-5 mb-5 js-command-palette-toasts" style="z-index: 1000">
  <div hidden class="Toast Toast--loading">
    <span class="Toast-icon">
      <svg class="Toast--spinner" viewBox="0 0 32 32" width="18" height="18" aria-hidden="true">
        <path
          fill="#959da5"
          d="M16 0 A16 16 0 0 0 16 32 A16 16 0 0 0 16 0 M16 4 A12 12 0 0 1 16 28 A12 12 0 0 1 16 4"
        />
        <path fill="#ffffff" d="M16 0 A16 16 0 0 1 32 16 L28 16 A12 12 0 0 0 16 4z"></path>
      </svg>
    </span>
    <span class="Toast-content"></span>
  </div>

  <div hidden class="anim-fade-in fast Toast Toast--error">
    <span class="Toast-icon">
      <svg aria-hidden="true" height="16" viewBox="0 0 16 16" version="1.1" width="16" data-view-component="true" class="octicon octicon-stop">
    <path d="M4.47.22A.749.749 0 0 1 5 0h6c.199 0 .389.079.53.22l4.25 4.25c.141.14.22.331.22.53v6a.749.749 0 0 1-.22.53l-4.25 4.25A.749.749 0 0 1 11 16H5a.749.749 0 0 1-.53-.22L.22 11.53A.749.749 0 0 1 0 11V5c0-.199.079-.389.22-.53Zm.84 1.28L1.5 5.31v5.38l3.81 3.81h5.38l3.81-3.81V5.31L10.69 1.5ZM8 4a.75.75 0 0 1 .75.75v3.5a.75.75 0 0 1-1.5 0v-3.5A.75.75 0 0 1 8 4Zm0 8a1 1 0 1 1 0-2 1 1 0 0 1 0 2Z"></path>
</svg>
    </span>
    <span class="Toast-content"></span>
  </div>

  <div hidden class="anim-fade-in fast Toast Toast--warning">
    <span class="Toast-icon">
      <svg aria-hidden="true" height="16" viewBox="0 0 16 16" version="1.1" width="16" data-view-component="true" class="octicon octicon-alert">
    <path d="M6.457 1.047c.659-1.234 2.427-1.234 3.086 0l6.082 11.378A1.75 1.75 0 0 1 14.082 15H1.918a1.75 1.75 0 0 1-1.543-2.575Zm1.763.707a.25.25 0 0 0-.44 0L1.698 13.132a.25.25 0 0 0 .22.368h12.164a.25.25 0 0 0 .22-.368Zm.53 3.996v2.5a.75.75 0 0 1-1.5 0v-2.5a.75.75 0 0 1 1.5 0ZM9 11a1 1 0 1 1-2 0 1 1 0 0 1 2 0Z"></path>
</svg>
    </span>
    <span class="Toast-content"></span>
  </div>


  <div hidden class="anim-fade-in fast Toast Toast--success">
    <span class="Toast-icon">
      <svg aria-hidden="true" height="16" viewBox="0 0 16 16" version="1.1" width="16" data-view-component="true" class="octicon octicon-check">
    <path d="M13.78 4.22a.75.75 0 0 1 0 1.06l-7.25 7.25a.75.75 0 0 1-1.06 0L2.22 9.28a.751.751 0 0 1 .018-1.042.751.751 0 0 1 1.042-.018L6 10.94l6.72-6.72a.75.75 0 0 1 1.06 0Z"></path>
</svg>
    </span>
    <span class="Toast-content"></span>
  </div>

  <div hidden class="anim-fade-in fast Toast">
    <span class="Toast-icon">
      <svg aria-hidden="true" height="16" viewBox="0 0 16 16" version="1.1" width="16" data-view-component="true" class="octicon octicon-info">
    <path d="M0 8a8 8 0 1 1 16 0A8 8 0 0 1 0 8Zm8-6.5a6.5 6.5 0 1 0 0 13 6.5 6.5 0 0 0 0-13ZM6.5 7.75A.75.75 0 0 1 7.25 7h1a.75.75 0 0 1 .75.75v2.75h.25a.75.75 0 0 1 0 1.5h-2a.75.75 0 0 1 0-1.5h.25v-2h-.25a.75.75 0 0 1-.75-.75ZM8 6a1 1 0 1 1 0-2 1 1 0 0 1 0 2Z"></path>
</svg>
    </span>
    <span class="Toast-content"></span>
  </div>
</div>


  <div
    class="application-main "
    data-commit-hovercards-enabled
    data-discussion-hovercards-enabled
    data-issue-and-pr-hovercards-enabled
  >
        <div itemscope itemtype="http://schema.org/SoftwareSourceCode" class="">
    <main id="js-repo-pjax-container" >
      
      






    
  <div id="repository-container-header" data-turbo-replace hidden></div>




<turbo-frame id="repo-content-turbo-frame" target="_top" data-turbo-action="advance" class="">
    <div id="repo-content-pjax-container" class="repository-content " >
      <a href="https://github.dev/" class="d-none js-github-dev-shortcut" data-hotkey=".">Open in github.dev</a>
  <a href="https://github.dev/" class="d-none js-github-dev-new-tab-shortcut" data-hotkey="Shift+.,Shift+&gt;,&gt;" target="_blank">Open in a new github.dev tab</a>
    <a class="d-none" data-hotkey="," target="_blank" href="/codespaces/new/DanCorley/IMDB_Movie_Analysis/tree/master?resume=1">Open in codespace</a>



    
      
    





<react-app
  app-name="react-code-view"
  initial-path="/DanCorley/IMDB_Movie_Analysis/blob/master/Movie_Project.ipynb"
  style="min-height: calc(100vh - 62px)"
  data-ssr="false"
  data-lazy="false"
  data-alternate="false"
>
  
  <script type="application/json" data-target="react-app.embeddedData">{"payload":{"allShortcutsEnabled":true,"fileTree":{"":{"items":[{"name":".gitattributes","path":".gitattributes","contentType":"file"},{"name":".gitignore","path":".gitignore","contentType":"file"},{"name":"Movie_Project.ipynb","path":"Movie_Project.ipynb","contentType":"file"},{"name":"README.md","path":"README.md","contentType":"file"}],"totalCount":4}},"fileTreeProcessingTime":3.66094,"foldersToFetch":[],"reducedMotionEnabled":"system","repo":{"id":230972868,"defaultBranch":"master","name":"IMDB_Movie_Analysis","ownerLogin":"DanCorley","currentUserCanPush":false,"isFork":false,"isEmpty":false,"createdAt":"2019-12-31T01:33:02.000+05:30","ownerAvatar":"https://avatars.githubusercontent.com/u/25124245?v=4","public":true,"private":false,"isOrgOwned":false},"refInfo":{"name":"master","listCacheKey":"v0:1577736187.0","canEdit":true,"refType":"branch","currentOid":"9742696027be3b8aefd71d3a5e14112420f6f17a"},"path":"Movie_Project.ipynb","currentUser":{"id":115712802,"login":"Varshavasundhara","userEmail":"varshavasundhara.dm@gmail.com"},"blob":{"rawBlob":"{\n \"cells\": [\n  {\n   \"cell_type\": \"code\",\n   \"execution_count\": 1,\n   \"metadata\": {},\n   \"outputs\": [],\n   \"source\": [\n    \"# importing the neccesarry libraries\\n\",\n    \"import pandas as pd\\n\",\n    \"import numpy as np\\n\",\n    \"import seaborn as sns\\n\",\n    \"import matplotlib.pyplot as plt\\n\",\n    \"%matplotlib inline\"\n   ]\n  },\n  {\n   \"cell_type\": \"code\",\n   \"execution_count\": 2,\n   \"metadata\": {},\n   \"outputs\": [],\n   \"source\": [\n    \"# read csv\\n\",\n    \"imdb_basics = pd.read_csv('Expanded CSVs/imdb.title.basics.csv')\\n\",\n    \"imdb_ratings = pd.read_csv('Expanded CSVs/imdb.title.ratings.csv')\\n\",\n    \"imdb_crew = pd.read_csv('Expanded CSVs/imdb.title.crew.csv')\\n\",\n    \"imdb_name = pd.read_csv('Expanded CSVs/imdb.name.basics.csv')\\n\",\n    \"tn = pd.read_csv('Expanded CSVs/tn.movie_budgets.csv')\\n\",\n    \"bom = pd.read_csv('Expanded CSVs/bom.movie_gross.csv')\\n\",\n    \"rt = pd.read_csv('Expanded CSVs/rt.movie_info.tsv', sep='\\\\t')\"\n   ]\n  },\n  {\n   \"cell_type\": \"code\",\n   \"execution_count\": 3,\n   \"metadata\": {},\n   \"outputs\": [],\n   \"source\": [\n    \"# fill na directors\\n\",\n    \"imdb_crew['directors'] = imdb_crew['directors'].fillna('unknown')\\n\",\n    \"\\n\",\n    \"# split the director column by the |\\n\",\n    \"imdb_crew['directors'] = [director.split(',') for director in imdb_crew['directors']]\\n\",\n    \"\\n\",\n    \"# select the first instance in the list of directors\\n\",\n    \"imdb_crew['directors'] = [director[0] for director in imdb_crew['directors']]\"\n   ]\n  },\n  {\n   \"cell_type\": \"code\",\n   \"execution_count\": 4,\n   \"metadata\": {},\n   \"outputs\": [],\n   \"source\": [\n    \"#merge dataframes\\n\",\n    \"imdb_title_ratings = pd.merge(imdb_basics,imdb_ratings,on=\\\"tconst\\\")\\n\",\n    \"imdb_tn = pd.merge(imdb_title_ratings, tn, left_on='primary_title', right_on='movie')\\n\",\n    \"imdb_bom = pd.merge(imdb_title_ratings, bom, left_on='primary_title', right_on='title')\\n\",\n    \"imdb_crew_name = pd.merge(imdb_crew, imdb_name, left_on='directors', right_on='nconst')\"\n   ]\n  },\n  {\n   \"cell_type\": \"code\",\n   \"execution_count\": 5,\n   \"metadata\": {},\n   \"outputs\": [],\n   \"source\": [\n    \"# drop unnecessary columns in crew\\n\",\n    \"imdb_crew_name.drop(labels=['directors',\\n\",\n    \"                            'writers', 'nconst',\\n\",\n    \"                            'birth_year', 'death_year', \\n\",\n    \"                            'primary_profession', 'known_for_titles'],\\n\",\n    \"                   axis=1, inplace=True)\"\n   ]\n  },\n  {\n   \"cell_type\": \"code\",\n   \"execution_count\": 6,\n   \"metadata\": {},\n   \"outputs\": [],\n   \"source\": [\n    \"# merge crew and imdb dataframes to add director names\\n\",\n    \"\\n\",\n    \"imdb_tn = pd.merge(imdb_tn,imdb_crew_name, on='tconst')\\n\",\n    \"imdb_tn.rename(columns={\\\"primary_name\\\": \\\"director\\\"}, inplace=True)\"\n   ]\n  },\n  {\n   \"cell_type\": \"code\",\n   \"execution_count\": 7,\n   \"metadata\": {},\n   \"outputs\": [],\n   \"source\": [\n    \"# sort dataframes by the number of votes, and drop the ones with least amounts\\n\",\n    \"imdb_tn.sort_values(by='numvotes', axis=0, ascending=False, inplace=True)\\n\",\n    \"imdb_tn.drop_duplicates(subset='primary_title', keep='first', inplace=True)\\n\",\n    \"imdb_bom.sort_values(by='numvotes', axis=0, ascending=False, inplace=True)\\n\",\n    \"imdb_bom.drop_duplicates(subset='primary_title', keep='first', inplace=True)\"\n   ]\n  },\n  {\n   \"cell_type\": \"code\",\n   \"execution_count\": 8,\n   \"metadata\": {},\n   \"outputs\": [],\n   \"source\": [\n    \"# fill null values\\n\",\n    \"imdb_tn.production_budget.fillna(0, inplace=True)\\n\",\n    \"imdb_tn.domestic_gross.fillna(0, inplace=True)\\n\",\n    \"imdb_tn.fillna(0, inplace=True)\\n\",\n    \"imdb_bom['domestic_gross'].fillna(0,inplace=True)\\n\",\n    \"imdb_bom['foreign_gross'].fillna(0,inplace=True)\"\n   ]\n  },\n  {\n   \"cell_type\": \"code\",\n   \"execution_count\": 9,\n   \"metadata\": {},\n   \"outputs\": [],\n   \"source\": [\n    \"# change $ amounts to integer, removing $ and ,\\n\",\n    \"imdb_tn['production_budget'] = imdb_tn['production_budget'].replace('[\\\\$,]','',regex=True).astype('int64')\\n\",\n    \"imdb_tn['domestic_gross'] = imdb_tn['domestic_gross'].replace('[\\\\$,]','',regex=True).astype('int64')\\n\",\n    \"imdb_tn['worldwide_gross'] = imdb_tn['worldwide_gross'].replace('[\\\\$,]','',regex=True).astype('int64')\"\n   ]\n  },\n  {\n   \"cell_type\": \"code\",\n   \"execution_count\": 10,\n   \"metadata\": {},\n   \"outputs\": [\n    {\n     \"data\": {\n      \"text/html\": [\n       \"\u003cdiv\u003e\\n\",\n       \"\u003cstyle scoped\u003e\\n\",\n       \"    .dataframe tbody tr th:only-of-type {\\n\",\n       \"        vertical-align: middle;\\n\",\n       \"    }\\n\",\n       \"\\n\",\n       \"    .dataframe tbody tr th {\\n\",\n       \"        vertical-align: top;\\n\",\n       \"    }\\n\",\n       \"\\n\",\n       \"    .dataframe thead th {\\n\",\n       \"        text-align: right;\\n\",\n       \"    }\\n\",\n       \"\u003c/style\u003e\\n\",\n       \"\u003ctable border=\\\"1\\\" class=\\\"dataframe\\\"\u003e\\n\",\n       \"  \u003cthead\u003e\\n\",\n       \"    \u003ctr style=\\\"text-align: right;\\\"\u003e\\n\",\n       \"      \u003cth\u003e\u003c/th\u003e\\n\",\n       \"      \u003cth\u003etconst\u003c/th\u003e\\n\",\n       \"      \u003cth\u003eprimary_title\u003c/th\u003e\\n\",\n       \"      \u003cth\u003eoriginal_title\u003c/th\u003e\\n\",\n       \"      \u003cth\u003estart_year\u003c/th\u003e\\n\",\n       \"      \u003cth\u003eruntime_minutes\u003c/th\u003e\\n\",\n       \"      \u003cth\u003egenres\u003c/th\u003e\\n\",\n       \"      \u003cth\u003eaveragerating\u003c/th\u003e\\n\",\n       \"      \u003cth\u003enumvotes\u003c/th\u003e\\n\",\n       \"      \u003cth\u003eid\u003c/th\u003e\\n\",\n       \"      \u003cth\u003erelease_date\u003c/th\u003e\\n\",\n       \"      \u003cth\u003emovie\u003c/th\u003e\\n\",\n       \"      \u003cth\u003eproduction_budget\u003c/th\u003e\\n\",\n       \"      \u003cth\u003edomestic_gross\u003c/th\u003e\\n\",\n       \"      \u003cth\u003eworldwide_gross\u003c/th\u003e\\n\",\n       \"      \u003cth\u003edirector\u003c/th\u003e\\n\",\n       \"    \u003c/tr\u003e\\n\",\n       \"  \u003c/thead\u003e\\n\",\n       \"  \u003ctbody\u003e\\n\",\n       \"    \u003ctr\u003e\\n\",\n       \"      \u003ctd\u003e1808\u003c/td\u003e\\n\",\n       \"      \u003ctd\u003ett3149360\u003c/td\u003e\\n\",\n       \"      \u003ctd\u003eLucky Dog\u003c/td\u003e\\n\",\n       \"      \u003ctd\u003eLucky Dog\u003c/td\u003e\\n\",\n       \"      \u003ctd\u003e2014\u003c/td\u003e\\n\",\n       \"      \u003ctd\u003e88.0\u003c/td\u003e\\n\",\n       \"      \u003ctd\u003eFamily\u003c/td\u003e\\n\",\n       \"      \u003ctd\u003e5.4\u003c/td\u003e\\n\",\n       \"      \u003ctd\u003e49\u003c/td\u003e\\n\",\n       \"      \u003ctd\u003e92\u003c/td\u003e\\n\",\n       \"      \u003ctd\u003eDec 31, 2014\u003c/td\u003e\\n\",\n       \"      \u003ctd\u003eLucky Dog\u003c/td\u003e\\n\",\n       \"      \u003ctd\u003e2000000\u003c/td\u003e\\n\",\n       \"      \u003ctd\u003e0\u003c/td\u003e\\n\",\n       \"      \u003ctd\u003e0\u003c/td\u003e\\n\",\n       \"      \u003ctd\u003eMichael Feifer\u003c/td\u003e\\n\",\n       \"    \u003c/tr\u003e\\n\",\n       \"    \u003ctr\u003e\\n\",\n       \"      \u003ctd\u003e2657\u003c/td\u003e\\n\",\n       \"      \u003ctd\u003ett4925292\u003c/td\u003e\\n\",\n       \"      \u003ctd\u003eLady Bird\u003c/td\u003e\\n\",\n       \"      \u003ctd\u003eLady Bird\u003c/td\u003e\\n\",\n       \"      \u003ctd\u003e2017\u003c/td\u003e\\n\",\n       \"      \u003ctd\u003e94.0\u003c/td\u003e\\n\",\n       \"      \u003ctd\u003eComedy,Drama\u003c/td\u003e\\n\",\n       \"      \u003ctd\u003e7.4\u003c/td\u003e\\n\",\n       \"      \u003ctd\u003e177677\u003c/td\u003e\\n\",\n       \"      \u003ctd\u003e53\u003c/td\u003e\\n\",\n       \"      \u003ctd\u003eNov 3, 2017\u003c/td\u003e\\n\",\n       \"      \u003ctd\u003eLady Bird\u003c/td\u003e\\n\",\n       \"      \u003ctd\u003e10000000\u003c/td\u003e\\n\",\n       \"      \u003ctd\u003e48958273\u003c/td\u003e\\n\",\n       \"      \u003ctd\u003e78610769\u003c/td\u003e\\n\",\n       \"      \u003ctd\u003eGreta Gerwig\u003c/td\u003e\\n\",\n       \"    \u003c/tr\u003e\\n\",\n       \"  \u003c/tbody\u003e\\n\",\n       \"\u003c/table\u003e\\n\",\n       \"\u003c/div\u003e\"\n      ],\n      \"text/plain\": [\n       \"         tconst primary_title original_title  start_year  runtime_minutes  \\\\\\n\",\n       \"1808  tt3149360     Lucky Dog      Lucky Dog        2014             88.0   \\n\",\n       \"2657  tt4925292     Lady Bird      Lady Bird        2017             94.0   \\n\",\n       \"\\n\",\n       \"            genres  averagerating  numvotes  id  release_date      movie  \\\\\\n\",\n       \"1808        Family            5.4        49  92  Dec 31, 2014  Lucky Dog   \\n\",\n       \"2657  Comedy,Drama            7.4    177677  53   Nov 3, 2017  Lady Bird   \\n\",\n       \"\\n\",\n       \"      production_budget  domestic_gross  worldwide_gross        director  \\n\",\n       \"1808            2000000               0                0  Michael Feifer  \\n\",\n       \"2657           10000000        48958273         78610769    Greta Gerwig  \"\n      ]\n     },\n     \"execution_count\": 10,\n     \"metadata\": {},\n     \"output_type\": \"execute_result\"\n    }\n   ],\n   \"source\": [\n    \"# look at the dataset before dummy variable creation\\n\",\n    \"\\n\",\n    \"imdb_tn.sample(2)\"\n   ]\n  },\n  {\n   \"cell_type\": \"code\",\n   \"execution_count\": 11,\n   \"metadata\": {},\n   \"outputs\": [],\n   \"source\": [\n    \"# split all of the multiple values in 'genre' and 'directors'\\n\",\n    \"\\n\",\n    \"genres = list(set([y for x in [a.split(',') for a in imdb_tn['genres']] for y in x]))\\n\",\n    \"\\n\",\n    \"\\n\",\n    \"# original way of creating dummy variables - outdated\\n\",\n    \"# # iterate through series to show if 'genres' column contains genre\\n\",\n    \"# def genre_finder(genre, cell):\\n\",\n    \"#     if genre in cell:\\n\",\n    \"#         return 1\\n\",\n    \"#     return 0\\n\",\n    \"\\n\",\n    \"# # iterate through set_of_lists and create a new column for each genre\\n\",\n    \"# def column_creator(genres):\\n\",\n    \"#     '''Use this to split the imdb_tn dataframe and add dummy vairables for genre'''\\n\",\n    \"#     for genre in genres:\\n\",\n    \"#         imdb_tn[genre] = imdb_tn['genres'].map(lambda cell: genre_finder(genre, cell))\\n\",\n    \"        \\n\",\n    \"# column_creator(genres)\"\n   ]\n  },\n  {\n   \"cell_type\": \"code\",\n   \"execution_count\": 12,\n   \"metadata\": {},\n   \"outputs\": [],\n   \"source\": [\n    \"# MUCH EASIER WAY TO CREATE DUMMY VARIABLES\\n\",\n    \"imdb_tn = imdb_tn.join(imdb_tn.genres.str.get_dummies(','))\"\n   ]\n  },\n  {\n   \"cell_type\": \"code\",\n   \"execution_count\": 13,\n   \"metadata\": {},\n   \"outputs\": [],\n   \"source\": [\n    \"# drop unnecessary columns\\n\",\n    \"imdb_tn = imdb_tn.drop(labels=['tconst', 'original_title', 'runtime_minutes', 'averagerating', 'numvotes', 'id', 'movie'], axis=1)\"\n   ]\n  },\n  {\n   \"cell_type\": \"code\",\n   \"execution_count\": 14,\n   \"metadata\": {},\n   \"outputs\": [\n    {\n     \"data\": {\n      \"text/html\": [\n       \"\u003cdiv\u003e\\n\",\n       \"\u003cstyle scoped\u003e\\n\",\n       \"    .dataframe tbody tr th:only-of-type {\\n\",\n       \"        vertical-align: middle;\\n\",\n       \"    }\\n\",\n       \"\\n\",\n       \"    .dataframe tbody tr th {\\n\",\n       \"        vertical-align: top;\\n\",\n       \"    }\\n\",\n       \"\\n\",\n       \"    .dataframe thead th {\\n\",\n       \"        text-align: right;\\n\",\n       \"    }\\n\",\n       \"\u003c/style\u003e\\n\",\n       \"\u003ctable border=\\\"1\\\" class=\\\"dataframe\\\"\u003e\\n\",\n       \"  \u003cthead\u003e\\n\",\n       \"    \u003ctr style=\\\"text-align: right;\\\"\u003e\\n\",\n       \"      \u003cth\u003e\u003c/th\u003e\\n\",\n       \"      \u003cth\u003eprimary_title\u003c/th\u003e\\n\",\n       \"      \u003cth\u003estart_year\u003c/th\u003e\\n\",\n       \"      \u003cth\u003egenres\u003c/th\u003e\\n\",\n       \"      \u003cth\u003erelease_date\u003c/th\u003e\\n\",\n       \"      \u003cth\u003eproduction_budget\u003c/th\u003e\\n\",\n       \"      \u003cth\u003edomestic_gross\u003c/th\u003e\\n\",\n       \"      \u003cth\u003eworldwide_gross\u003c/th\u003e\\n\",\n       \"      \u003cth\u003edirector\u003c/th\u003e\\n\",\n       \"      \u003cth\u003eAction\u003c/th\u003e\\n\",\n       \"      \u003cth\u003eAdventure\u003c/th\u003e\\n\",\n       \"      \u003cth\u003e...\u003c/th\u003e\\n\",\n       \"      \u003cth\u003eMusic\u003c/th\u003e\\n\",\n       \"      \u003cth\u003eMusical\u003c/th\u003e\\n\",\n       \"      \u003cth\u003eMystery\u003c/th\u003e\\n\",\n       \"      \u003cth\u003eNews\u003c/th\u003e\\n\",\n       \"      \u003cth\u003eRomance\u003c/th\u003e\\n\",\n       \"      \u003cth\u003eSci-Fi\u003c/th\u003e\\n\",\n       \"      \u003cth\u003eSport\u003c/th\u003e\\n\",\n       \"      \u003cth\u003eThriller\u003c/th\u003e\\n\",\n       \"      \u003cth\u003eWar\u003c/th\u003e\\n\",\n       \"      \u003cth\u003eWestern\u003c/th\u003e\\n\",\n       \"    \u003c/tr\u003e\\n\",\n       \"  \u003c/thead\u003e\\n\",\n       \"  \u003ctbody\u003e\\n\",\n       \"    \u003ctr\u003e\\n\",\n       \"      \u003ctd\u003e1452\u003c/td\u003e\\n\",\n       \"      \u003ctd\u003eX-Men: Days of Future Past\u003c/td\u003e\\n\",\n       \"      \u003ctd\u003e2014\u003c/td\u003e\\n\",\n       \"      \u003ctd\u003eAction,Adventure,Sci-Fi\u003c/td\u003e\\n\",\n       \"      \u003ctd\u003eMay 23, 2014\u003c/td\u003e\\n\",\n       \"      \u003ctd\u003e200000000\u003c/td\u003e\\n\",\n       \"      \u003ctd\u003e233921534\u003c/td\u003e\\n\",\n       \"      \u003ctd\u003e747862775\u003c/td\u003e\\n\",\n       \"      \u003ctd\u003eBryan Singer\u003c/td\u003e\\n\",\n       \"      \u003ctd\u003e1\u003c/td\u003e\\n\",\n       \"      \u003ctd\u003e1\u003c/td\u003e\\n\",\n       \"      \u003ctd\u003e...\u003c/td\u003e\\n\",\n       \"      \u003ctd\u003e0\u003c/td\u003e\\n\",\n       \"      \u003ctd\u003e0\u003c/td\u003e\\n\",\n       \"      \u003ctd\u003e0\u003c/td\u003e\\n\",\n       \"      \u003ctd\u003e0\u003c/td\u003e\\n\",\n       \"      \u003ctd\u003e0\u003c/td\u003e\\n\",\n       \"      \u003ctd\u003e1\u003c/td\u003e\\n\",\n       \"      \u003ctd\u003e0\u003c/td\u003e\\n\",\n       \"      \u003ctd\u003e0\u003c/td\u003e\\n\",\n       \"      \u003ctd\u003e0\u003c/td\u003e\\n\",\n       \"      \u003ctd\u003e0\u003c/td\u003e\\n\",\n       \"    \u003c/tr\u003e\\n\",\n       \"    \u003ctr\u003e\\n\",\n       \"      \u003ctd\u003e12\u003c/td\u003e\\n\",\n       \"      \u003ctd\u003eTangled\u003c/td\u003e\\n\",\n       \"      \u003ctd\u003e2010\u003c/td\u003e\\n\",\n       \"      \u003ctd\u003eAdventure,Animation,Comedy\u003c/td\u003e\\n\",\n       \"      \u003ctd\u003eNov 24, 2010\u003c/td\u003e\\n\",\n       \"      \u003ctd\u003e260000000\u003c/td\u003e\\n\",\n       \"      \u003ctd\u003e200821936\u003c/td\u003e\\n\",\n       \"      \u003ctd\u003e586477240\u003c/td\u003e\\n\",\n       \"      \u003ctd\u003eNathan Greno\u003c/td\u003e\\n\",\n       \"      \u003ctd\u003e0\u003c/td\u003e\\n\",\n       \"      \u003ctd\u003e1\u003c/td\u003e\\n\",\n       \"      \u003ctd\u003e...\u003c/td\u003e\\n\",\n       \"      \u003ctd\u003e0\u003c/td\u003e\\n\",\n       \"      \u003ctd\u003e0\u003c/td\u003e\\n\",\n       \"      \u003ctd\u003e0\u003c/td\u003e\\n\",\n       \"      \u003ctd\u003e0\u003c/td\u003e\\n\",\n       \"      \u003ctd\u003e0\u003c/td\u003e\\n\",\n       \"      \u003ctd\u003e0\u003c/td\u003e\\n\",\n       \"      \u003ctd\u003e0\u003c/td\u003e\\n\",\n       \"      \u003ctd\u003e0\u003c/td\u003e\\n\",\n       \"      \u003ctd\u003e0\u003c/td\u003e\\n\",\n       \"      \u003ctd\u003e0\u003c/td\u003e\\n\",\n       \"    \u003c/tr\u003e\\n\",\n       \"  \u003c/tbody\u003e\\n\",\n       \"\u003c/table\u003e\\n\",\n       \"\u003cp\u003e2 rows × 30 columns\u003c/p\u003e\\n\",\n       \"\u003c/div\u003e\"\n      ],\n      \"text/plain\": [\n       \"                   primary_title  start_year                      genres  \\\\\\n\",\n       \"1452  X-Men: Days of Future Past        2014     Action,Adventure,Sci-Fi   \\n\",\n       \"12                       Tangled        2010  Adventure,Animation,Comedy   \\n\",\n       \"\\n\",\n       \"      release_date  production_budget  domestic_gross  worldwide_gross  \\\\\\n\",\n       \"1452  May 23, 2014          200000000       233921534        747862775   \\n\",\n       \"12    Nov 24, 2010          260000000       200821936        586477240   \\n\",\n       \"\\n\",\n       \"          director  Action  Adventure  ...  Music  Musical  Mystery  News  \\\\\\n\",\n       \"1452  Bryan Singer       1          1  ...      0        0        0     0   \\n\",\n       \"12    Nathan Greno       0          1  ...      0        0        0     0   \\n\",\n       \"\\n\",\n       \"      Romance  Sci-Fi  Sport  Thriller  War  Western  \\n\",\n       \"1452        0       1      0         0    0        0  \\n\",\n       \"12          0       0      0         0    0        0  \\n\",\n       \"\\n\",\n       \"[2 rows x 30 columns]\"\n      ]\n     },\n     \"execution_count\": 14,\n     \"metadata\": {},\n     \"output_type\": \"execute_result\"\n    }\n   ],\n   \"source\": [\n    \"# a look after the dummy columns and dropping unnecessary columns\\n\",\n    \"imdb_tn.sample(2)\"\n   ]\n  },\n  {\n   \"cell_type\": \"code\",\n   \"execution_count\": 15,\n   \"metadata\": {},\n   \"outputs\": [],\n   \"source\": [\n    \"# create profit column (revenue - production_budget)\\n\",\n    \"imdb_tn['profit'] = imdb_tn['worldwide_gross'] - imdb_tn['production_budget']\"\n   ]\n  },\n  {\n   \"cell_type\": \"code\",\n   \"execution_count\": 16,\n   \"metadata\": {},\n   \"outputs\": [],\n   \"source\": [\n    \"# create values for box_office revenue\\n\",\n    \"box_office_mean = []\\n\",\n    \"\\n\",\n    \"for genre in genres:\\n\",\n    \"    box_office_mean.append(round(imdb_tn[(imdb_tn[genre]==1) \u0026 (imdb_tn['worldwide_gross']\u003e1_000_000)].worldwide_gross.mean(),0))\\n\",\n    \"    \\n\"\n   ]\n  },\n  {\n   \"cell_type\": \"code\",\n   \"execution_count\": 17,\n   \"metadata\": {},\n   \"outputs\": [],\n   \"source\": [\n    \"# creating a dataframe with descending average revenue bye genre\\n\",\n    \"genre_group_df = pd.DataFrame(list(zip(genres, box_office_mean)),\\n\",\n    \"                              columns=['Genre', 'box_office_mean']).sort_values('box_office_mean',\\n\",\n    \"                                                                                ascending=False)\"\n   ]\n  },\n  {\n   \"cell_type\": \"code\",\n   \"execution_count\": 18,\n   \"metadata\": {},\n   \"outputs\": [\n    {\n     \"data\": {\n      \"image/png\": \"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\\n\",\n      \"text/plain\": [\n       \"\u003cFigure size 864x504 with 1 Axes\u003e\"\n      ]\n     },\n     \"metadata\": {\n      \"needs_background\": \"light\"\n     },\n     \"output_type\": \"display_data\"\n    }\n   ],\n   \"source\": [\n    \"fig, ax = plt.subplots(figsize = (12,7))\\n\",\n    \"bars = sns.barplot(x=genre_group_df['Genre'], y=genre_group_df['box_office_mean'], color='blue');\\n\",\n    \"\\n\",\n    \"ax.set_xlabel('Genres')\\n\",\n    \"ax.set_ylabel('Average Revnue (Millions)')\\n\",\n    \"ax.set_title('Average Revenue per Genre')\\n\",\n    \"ax.set_xticklabels(ax.get_xticklabels(), rotation=45, horizontalalignment='right');\\n\",\n    \"ax.set_yticklabels(labels=[0,.5,1,1.5,2,2.5,3,3.5]);\\n\",\n    \"plt.show()\"\n   ]\n  },\n  {\n   \"cell_type\": \"code\",\n   \"execution_count\": 19,\n   \"metadata\": {},\n   \"outputs\": [],\n   \"source\": [\n    \"profit_mean = []\\n\",\n    \"\\n\",\n    \"for genre in ['Animation', 'Adventure', 'Sci-Fi', 'Action']:\\n\",\n    \"    profit_mean.append(round(imdb_tn[(imdb_tn[genre]==1) \u0026 (imdb_tn['worldwide_gross']\u003e10_000_000)].profit.mean(),0))\\n\"\n   ]\n  },\n  {\n   \"cell_type\": \"code\",\n   \"execution_count\": 20,\n   \"metadata\": {},\n   \"outputs\": [],\n   \"source\": [\n    \"# create subsets of the dataframes for the top three genres\\n\",\n    \"\\n\",\n    \"scifi_imdb_tn = imdb_tn[(imdb_tn['Sci-Fi'] == 1) \u0026 (imdb_tn['profit'] \u003e 10_000_000)]\\n\",\n    \"animation_imdb_tn = imdb_tn[(imdb_tn['Animation'] == 1) \u0026 (imdb_tn['profit'] \u003e 10_000_000)]\\n\",\n    \"adv_imdb_tn = imdb_tn[(imdb_tn['Adventure'] == 1) \u0026 (imdb_tn['profit'] \u003e 1_000_000)]\"\n   ]\n  },\n  {\n   \"cell_type\": \"code\",\n   \"execution_count\": 21,\n   \"metadata\": {},\n   \"outputs\": [],\n   \"source\": [\n    \"# create dataframes of the top movies per top three genres\\n\",\n    \"\\n\",\n    \"scifi_top_movies = scifi_imdb_tn.groupby('primary_title').agg({'profit': 'mean', 'worldwide_gross': 'mean', 'production_budget': 'mean'}).sort_values('worldwide_gross', ascending=False)\\n\",\n    \"animation_top_movies = animation_imdb_tn.groupby('primary_title').agg({'profit': 'mean', 'worldwide_gross':'mean','production_budget':'mean'}).sort_values('profit', ascending=False).head(10)\\n\",\n    \"adv_top_movies = adv_imdb_tn.groupby('primary_title').agg({'profit': 'mean', 'worldwide_gross': 'mean', 'production_budget':'mean'}).sort_values('worldwide_gross', ascending=False)\"\n   ]\n  },\n  {\n   \"cell_type\": \"code\",\n   \"execution_count\": 22,\n   \"metadata\": {},\n   \"outputs\": [\n    {\n     \"data\": {\n      \"image/png\": \"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\\n\",\n      \"text/plain\": [\n       \"\u003cFigure size 720x360 with 1 Axes\u003e\"\n      ]\n     },\n     \"metadata\": {\n      \"needs_background\": \"light\"\n     },\n     \"output_type\": \"display_data\"\n    }\n   ],\n   \"source\": [\n    \"# create a scatter plot to show the profit vs production value\\n\",\n    \"\\n\",\n    \"fig, ax = plt.subplots(figsize = (10,5))\\n\",\n    \"\\n\",\n    \"# creating three different datasets for our three most profitable genres\\n\",\n    \"sns.scatterplot(adv_top_movies.production_budget,\\n\",\n    \"                adv_top_movies.worldwide_gross,\\n\",\n    \"                s=100,\\n\",\n    \"                label='Adventure',\\n\",\n    \"               alpha=1)\\n\",\n    \"sns.scatterplot(animation_top_movies.production_budget,\\n\",\n    \"                animation_top_movies.worldwide_gross,\\n\",\n    \"                s=100,\\n\",\n    \"                label='Animation',\\n\",\n    \"               alpha=1)\\n\",\n    \"sns.scatterplot(scifi_top_movies.production_budget,\\n\",\n    \"                scifi_top_movies.worldwide_gross,\\n\",\n    \"                s=100,\\n\",\n    \"               label='Sci-Fi', alpha=1)\\n\",\n    \"\\n\",\n    \"\\n\",\n    \"plt.legend(loc=[1.01,0.4])\\n\",\n    \"plt.xlabel('Production Budget')\\n\",\n    \"plt.ylabel('Average Revenue (millions)')\\n\",\n    \"plt.title('Revenue to Production Value per Genre');\\n\",\n    \"ax.set_yticklabels(labels=[0,.5,1,1.5,2,2.5]);\\n\",\n    \"ax.set_xticklabels(labels=[0,1,2,3,4,5]);\\n\",\n    \"plt.show()\\n\"\n   ]\n  },\n  {\n   \"cell_type\": \"code\",\n   \"execution_count\": 23,\n   \"metadata\": {},\n   \"outputs\": [],\n   \"source\": [\n    \"# create neccessary sci-fi dataframes\\n\",\n    \"\\n\",\n    \"scifi_top_directors = scifi_imdb_tn.groupby('director').agg({'profit': 'mean', 'worldwide_gross': 'mean', 'production_budget': 'mean'}).sort_values('worldwide_gross', ascending=False).head(10)\\n\",\n    \"scifi_directors = scifi_imdb_tn.groupby('director').agg({'profit': 'mean', 'worldwide_gross': 'mean', 'production_budget': 'mean'}).sort_values('worldwide_gross', ascending=False)\\n\",\n    \"scifi_top_movies = scifi_imdb_tn.groupby('primary_title').agg({'profit': 'mean', 'worldwide_gross': 'mean', 'production_budget': 'mean'}).sort_values('worldwide_gross', ascending=False)\\n\"\n   ]\n  },\n  {\n   \"cell_type\": \"code\",\n   \"execution_count\": 24,\n   \"metadata\": {},\n   \"outputs\": [],\n   \"source\": [\n    \"# dataframe with the top adventure movies by worldwide revenue\\n\",\n    \"adv_top_movies = adv_imdb_tn.groupby('primary_title').agg({'profit': 'mean', 'worldwide_gross': 'mean', 'production_budget':'mean'}).sort_values('worldwide_gross', ascending=False)\"\n   ]\n  },\n  {\n   \"cell_type\": \"code\",\n   \"execution_count\": 25,\n   \"metadata\": {},\n   \"outputs\": [\n    {\n     \"data\": {\n      \"image/png\": \"iVBORw0KGgoAAAANSUhEUgAAAtAAAAHwCAYAAACPE1g3AAAABHNCSVQICAgIfAhkiAAAAAlwSFlzAAALEgAACxIB0t1+/AAAADh0RVh0U29mdHdhcmUAbWF0cGxvdGxpYiB2ZXJzaW9uMy4xLjEsIGh0dHA6Ly9tYXRwbG90bGliLm9yZy8QZhcZAAAgAElEQVR4nOzdeXxU1f3/8deHbCQQICwBQhJkEdkEhZC6YlAUV0QqEArWXfy2Vvtr69KvFS22tlqt9atVQQXcIOCGoBb3iHVLwr66RUzCFnYDAbKd3x8zDAmQZAYyTBLez8cjj2TOPffcz51c9JMzn3uuOecQERERERH/NAl1ACIiIiIiDYkSaBERERGRACiBFhEREREJgBJoEREREZEAKIEWEREREQmAEmgRERERkQAogRYROQpmlmlmNwRh3P81s2fretyjZWbTzewvoY7DX2aWbGa7zCzsCPZ92szuCcWxRaR+UwIt0sCZ2Voz2+P9H/VGb4LTPNRx1RUzSzOzgqPY/xozK/e+Pz+Z2RIzu7QuYzxahztH59wDzrk6TczN7HQz221msYfZttjMbqnL49U1M7vezNaYWZGZbTKztw93LpU55/Kcc82dc+XVjFn5+tj/9YR335udc/f7ud8PZjbNzHr4e+yj4f13P7SuxxUR/yiBFmkcLnPONQdOAU4F/hjieOqbL7zvTyvgOWC2mbU+uJOZhR/zyI4h59wXQAHw88rtZtYX6A3MDEVc/jCzc4AHgLHOuVigFzC7job/wpvo7v/y9w+J/ddVS2AosAdY6H0/a2QeIfl/cGO/zkWOBSXQIo2Ic24j8C6eRBoAM4sys4fNLM87a/e0mUV7t62uPBtrZuFmtsXMBnhfn2Zmn5vZDjNbamZplfpmmtn9ZvaZd0bwPTNr6912yIxq5RkzM2tiZneZ2fdmttXMqktomwH/ARIqzfQleM/pX2a23vv1LzOL8uP9qQCmAtFA1/1xmtmdZrYRmOY97o1m9p2ZbTOzuWaWUCmm872zoDu9M5VWadt9ZvZSpdcnmJnbn7CYWWvvLOV6M9tuZnNqOMeDxxpuZiu9v4tMM+t10Hv7BzNb5o1rlpk1reZteB745UFtvwTeds5t9Y73ink+zdhpZgvMrM/hBvLOwv73oDZnZt29P1d77R2BQXgS1sUAzrltzrnnnXNF3mNFm9kjZvajN+7/etuq/A4CYX6Wqzjnyp1z3zvnfgV8Atzn3f/g33+mmf3VzD4DivFcgy3N7Dkz22Bm68zsL1ap5MN7La72/htbZWYDzOxFIBmY571e7vD2re0audPMlgG7zfNv/U7vMYvM7GszOy/Q90jkeKUEWqQRMbNE4CLgu0rNDwI98CTV3YFOwETvtpnA2Ep9hwFbnHOLzKwT8DbwF6A18AfgNTNrV6n/L4BrgXgg0tvHH7cCI4BzgARgO/Dvgzs553Z7z2d9pdnB9cDdwGnec+oPpAJ/qu2g3kTmBmAX8K23uYP3/DoDN5nZucDfgNFAR+BHIMO7f1vgNe+x2gLfA2f6ec4ALwIxQB8879mjNZxj5bh74Pld/RZoB7yDJ3mKrNRtNHAh0AXoB1xTQwxnm1myd+wmeH6PL1Tq8x/gRG+Mi4CXAzjHymq69gL1FTDMzP5sZmce5g+mh4GBwBl4fp93ABVHeKyj8Tpwdg3brwJuAmLxXFvPA2V43p9TgQvwXKOY2Sg8yfgvgRbAcGCrc+4qIA/vJ0/OuYf8vEbGApfg+SSmG3ALMMg7oz8MWHuU5y5y3FACLdI4zDGzIiAfKATuBc/HxMCNwP/zztgV4fkYPN273wxguJnFeF//wtsGMB54xzn3jnOuwjn3PpADXFzpuNOcc9845/bg+Tj9FPwzAbjbOVfgnNuHJ0m4MoBZwnHAJOdcoXNuM/BnPIlJdU4zsx3ARjxJxBXOuZ3ebRXAvc65fd7zGAdMdc4t8sb2R+B0MzsBz7mvcs696pwrBf7lHbNWZtYRT6J8s3Nuu3Ou1Dn3iZ/nOwbPDPH73uM+jGcW/YxKff7PObfeObcNmEc1vwvnXD6eWdLx3qbzgKZ4/lja32eqc66o0u+mv5m19DNWwK9rLyDOuU+BkcAAb6xbzeyfZhbm/SPgOuA259w674zw5974/XGad9Z2/9dpRxKj13o8CXx1pjvnVjrnyrz9LgJ+65zb7ZwrBB7lwHt0A/CQcy7beXznnPuxmnH9vUbyvdd5ORAF9DazCOfcWufc90d60iLHGyXQIo3DCO8sUhrQE8/sKHhmomLw1GXu8CaR873tOOe+A1YDl3mT6OEcSKA7A6MqJxbAWXhmZfernDwWA/7evNgZeKPSuKvx/A+9vZ/7J+CZvdvvR29bdb50zrVyzrV1zp3mnPug0rbNzrm91Y3tnNsFbMUze5qA54+U/dtc5de1SAK2Oee2+9m/soNjqvAet1OlPoH8LiqXcVwFzPAmXXgT0r+bp7zmJw7MSrY9dJga1XjtHcxberC/hOWwM7jOuf845y7Dk3hejmeW/QZvbE3xfCJQLTM7u9IxVlbatP/62P/1ZYDnWlknYFsN2ytfL52BCGBDpfdoMp6Zf/BcM/4mtf5cI5Wv3e/wzFbfBxSaWYZVKlUSkZopgRZpRLwzmtPxzD4BbMFzY1OfSslBS++NT/vtL+O4HM/s6v7yj3zgxYMSi2bOub/7EcpuPMkT4EnKqJo45QMXHTR2U+fcusOd1mHa1uNJPvZL9rYdiYPHrzK2eWqU2wDrgA14kpr926zyaw46bzzlIfvlA63NrJUfMRzs4Jj2H/dw75c/Xgc6mdkQPLO6lcs3foHnWhiK5+a4E/Yf9jDjHPx7rny+/lx7Ps65PpVKWD6tKXjvJyIfAh8Bfb3H2ounLKGm/T6tdIzD1nXXgSuAmuKv/LvOB/YBbSu9Ry0qxZZP9edU23V7uGukyj7OuRnOubO8+zk8JTci4gcl0CKNz7+A883sFO8s1DPAo2YWD2BmncxsWKX+GXjqLv+HA7PPAC/hmZke5p2VbGqem+4S/YjhG6CpmV1iZhF4aoYr16w+DfzVzDp7Y2pnZpdXM9YmoM1BJQQzgT9592uLp672pcPuHbgZwLVmdoq3zvYB4Cvn3Fo8pQN9zGykt9zkVqomyUuAweZZ/7cllVZDcc5twFNb/KSZxZlZhJkNruEcK5sNXGJm53nfz9/jSbw+P5IT9NZdv4rnpskfnXM5lTbHesfeiic5fqCGoZbieT9OMc9Ni/dVOoY/157fzOxyM0v3vndmZql4aui/dAduDv2neW7ADDPPkn213lhaF7zH62Jmj+P5FOjP/uznvSbeAx4xsxbmubm2m3lWHAF4FviDmQ30nnP3/f9m8FwzXSsNF9A1YmYnmdm53vdoL54/dup8uT2RxkoJtEgj460JfgHY/wCIO/HcVPil9yP5D4CTKvXfAHyBp1ZyVqX2fDwzkf8LbMYzG3Y7fvx3w1tf/Cs8CcA6PDOVlVfleAyYC7znrd3+EvhZNWOtwZMw53o/5k7Ac2NjDrAMWI7nRrc6ebiHd2bzHjw3C27AMwOY7t22BRgF/B1Pgnki8Fmlfd/H8x4uAxYCbx00/FVAKbAGT636b2s4x8oxfY2nZvlxPLOtl+G5gazkKE71eTwzjy8c1P4CnlKAdcAqPL+bw3LOfQNMwnNNfQv896AuNV57AdqOp6b6W+AnPH8w/cM5t/8Gxz/guRay8ZRQPEjw/x93upnt8saTiedGv0HOueUBjPFLPDfgrsJzjq/iLZNyzr0C/BXPH3VFwBwO1Ff/Dc8fkTvM7A9HcI1E4bmOt+Ap/4nH829dRPxgnhI+ERERERHxh2agRUREREQCELQE2symmlmhma2oZntLM5tnnoczrDSza4MVi4iIiIhIXQnmDPR0PIv6V+fXeO7474/npotHrOqC7yIiIiIi9U7QEmjn3AJqXgvTAbHepXaae/uWBSseEREREZG64O9Tv4LhCTx34a/Hs2zSGO9SRCIiIiIi9VYoE+hheNZMPRfPMlHvm9mnzrmfDu5oZjcBNwE0a9ZsYM+ePY9poCIiIiJy/Fm4cOEW59whT1ANZQJ9LfB376NwvzOzH/A8gjjr4I7OuSnAFICUlBSXk5NzcBcRERERkTplZj8erj2Uy9jlAecBmFl7PIvr54YwHhERERGRWgVtBtrMZuJZXaOtmRUA9wIRAM65p4H7gelmthww4E7vU75EREREROqtoCXQzrmxtWxfD1wQrOOLiIiIiASDnkQoIiIiIhIAJdAiIiIiIgFQAi0iIiIiEgAl0CIiIiIiAVACLSIiIiISACXQIiIiIiIBUAItIiIiIhIAJdAiIiIiIgFQAi0iIiIiEgAl0CIiIiIiAVACLSIiIiISACXQIiIiIiIBUAItIiIiIhIAJdAiIiIiIgFQAi0iIiIiEgAl0CIiIiIiAVACLSIiIiISACXQIiIiIiIBUAItIiIiIhIAJdAiIiIiIgFQAi0iIiIiEgAl0CIiIiIiAVACLSIiIiISACXQIiIiIiIBUAItIiIiIhIAJdAiIiJyXJk+fTrNmzev9rVIbZRAi4iISIOxadMmbrvtNrp160ZUVBSdOnXioosu4p133jniMceMGUNubu4R7z99+nTMrMavzMzMIx5f6p/wUAcgIiIi4o+1a9dy5plnEhsby9/+9jf69+9PRUUFH374ITfffDN5eXlHNG50dDTR0dFHHNeYMWO48MILfa+vuuoqWrduzWOPPeZra9269SH7lZaWEhERccTHPRoVFRU45wgLC6vSXlJSQmRkZEhiakg0Ay0iIiIhlbmmkLFTvuSsBz9i7JQvyVxTeNh+v/rVr3DOkZOTw+jRoznppJPo1asXt9xyC0uXLvX1y8vL44orriA2NpbY2FhGjhxJQUFBtcc/uITjvvvuo2/fvmRkZNCtWzdiY2MZMWIEW7ZsOez+0dHRdOjQwfcVFRV1SFtkZCR33XUXKSkpTJkyhS5duhAVFUVZWRkVFRX89a9/pUuXLkRHR9OvXz9mz57tG//UU0/l7rvvrnLMrVu3EhkZyX/+8x8AtmzZwrhx44iLiyMmJoZhw4bx9ddf+/o//fTTtG3bljfffJPevXsTGRnJDz/8QHp6OldeeSX3338/CQkJdOvWrdbxKioqaN26NW+++aZv/IEDB9KmTRsqKioAWL58OU2aNKn2PWvolECLiIhIyGSuKWTi3JUUFu2lVXQEhUV7mTh35SFJ9LZt25g/fz633HLLYeuV4+LiAHDOMWLECDZt2sRHH33Exx9/zPr16xkxYgTOOb/jWrt2LbNmzeKNN97gvffeY/HixYcksUdizZo1vPnmm7z++ussWbKEsLAwbr/9dmbMmMHkyZNZtWoVv//977n66qv54IMPABg/fjwzZsyoEv/s2bOJi4vj/PPPB2DcuHEsXbqUefPm8cUXX2BmXHTRRezbt8+3T1FREf/4xz947rnnWLlyJR07dgTg3XffJTc3l/fff9+XkNc0XpMmTTj77LP5+OOPAdi5cyfLly/HOceyZcsAyMzMpE+fPrRt2/ao37P6SCUcIiIiEjKTF+QSEWbERHpSkpjIcIpLypi8IJe0nvG+ft999x3OOXr16lXjeB988AFLly7l+++/54QTTgBgxowZdO/enQ8//JChQ4f6FVdZWRnTp0+nZcuWANx0001MmzbtCM7w0HFffPFFX0nHjh07ePzxx/nss88YNGgQAF26dOGLL77gySefZOjQofziF7/gjjvu4PPPP+fMM88E4OWXXyY9PZ3w8HCWL1/Oe++9x1dffUVqaqpve3JyMq+88grjx48HPOUZkydPpk+fPlViatGiBVOmTPGVk/gzXlpaGtOnTwdgwYIF9OnThx49evDxxx9zyimnkJmZSVpa2lG/X/WVZqBFREQkZPK3FxMdUbUONzoijILtxVXa/J09Xr16NQkJCb7kGaBr164kJCSwatUqv+Pq3LmzL3kGSEhIoLDw8KUlgejSpUuVeujly5dTWlrKkCFDaN68ue9r2rRpfP/99wB07NiRc889l5dffhnwzI5//vnnvsR49erVREZG+hJwgDZt2tCrV68q5xwdHX1I8gzQr1+/KrXY/oyXlpbG8uXL2bp1K5mZmQwZMoS0tDQyMzNxzrFgwQIl0CIiIiLBkBQXw57S8ipte0rLSYyLqdJ24oknYmasXr26xvGcc5jZYbdV1344B9/cZ2a++t6j0axZsyqv9485f/58lixZ4vtauXIl8+bN8/UbP348s2fPprS0lBkzZnDiiSf6Etya/riofM4xMTGH7XNwTP6M179/f1q1asUnn3xSJYFesGABy5YtY+vWrZxzzjnVjtPQKYEWERGRkJkwuCul5Y7ikjKc83wvLXdMGNy1Sr/WrVszbNgwnnjiCXbt2nXIODt27ACgd+/erFu3jrVr1/q25ebmsn79enr37h3UczkSJ598MuHh4eTn59O9e/cqX8nJyb5+P//5z9mzZw/vvvsuL7/8sm/2GTznXFJSQnZ2tq9t69atrF69+ojO2Z/x9tdBz5kzh+XLlzN48GB69epFVFQUjz76aKOufwYl0CIiIhJCaT3jmTS8D/GxTdm5p5T42KZMGt6nSv3zfk8++STOOVJSUnjllVf4+uuvWbNmDU899RT9+vUDYOjQofTv359x48axcOFCcnJyGDduHAMGDODcc8891qdXq9atW3Pbbbdx22238cILL/D999+zePFi/v3vfzN16lRfv+bNmzN8+HD+9Kc/sWrVKsaNG+fbdvLJJzNs2DCuv/56PvvsM5YuXcr48eNp3749o0aNCjgmf8dLS0tjxowZ9OvXz1fucs455/DSSy816vIN0E2EIiIiEmJpPeMPmzAfrEuXLixatIgHHniAO++8k3Xr1tGmTRv69+/P5MmTAU+JwZw5c7j11lt9SdzQoUN5/PHHAyrhOJYeeughEhISeOCBB8jNzaVVq1aceuqp3HXXXVX6XXXVVVxyySWcccYZdO1adYb+pZde4rbbbuOSSy6hpKSEs88+m//85z9HvKazP+MNGTKE8vLyKsnykCFDmD17dqNPoC2QJV3qg5SUFJeTkxPqMERERESkkTOzhc65lIPbVcIhIiIiIhIAJdAiIiIiIgFQAi0iIiIiEoCgJdBmNtXMCs1sRQ190sxsiZmtNLNPghWLiIiIiEhdCeYM9HTgwuo2mlkr4ElguHOuDxD4OisiIiIiIsdY0BJo59wCYFsNXX4BvO6cy/P2P/rnY4qIiIiIBFkoa6B7AHFmlmlmC83sl9V1NLObzCzHzHI2b958DEMUEREREakqlAl0ODAQuAQYBtxjZj0O19E5N8U5l+KcS2nXrt2xjFFEREREpIpQPomwANjinNsN7DazBUB/4JsQxiQiIiIiUqNQzkC/CZxtZuFmFgP8DFgdwnhERERERGoVtBloM5sJpAFtzawAuBeIAHDOPe2cW21m84FlQAXwrHOu2iXvRERERETqg6Al0M65sX70+Qfwj2DFICIiIiJS1/QkQhERERGRACiBFhEREREJgBJoEREREZEAKIEWEREREQmAEmgRERERkQAogRYRERERCYASaBERERGRACiBFhEREREJgBJoEREREZEAKIEWEREREQmAEmgRERERkQAogRYRERERCYASaBERERGRACiBFhEREREJgBJoEREREZEAKIEWEREREQmAEmgRERERkQAogRYRERERCYASaBERERGRACiBFhEREREJgBJoEREREZEAKIEWEREREQmAEmgRERERkQAogRYRERERCYASaBERERGRAISHOgARERERkbqSuaaQyQtyyd9eTFJcDBMGdyWtZ3ydHkMz0CIiIiLSKGSuKWTi3JUUFu2lVXQEhUV7mTh3JZlrCuv0OEqgRURERKRRmLwgl4gwIyYyHDPP94gwY/KC3Do9jhJoEREREWkU8rcXEx0RVqUtOiKMgu3FdXocJdAiIiIi0igkxcWwp7S8Stue0nIS42Lq9DhKoEVERESkUZgwuCul5Y7ikjKc83wvLXdMGNy1To+jBFpEREREGoW0nvFMGt6H+Nim7NxTSnxsUyYN71Pnq3BoGTsRERERaTTSesbXecJ8MM1Ai4iIiIgEQAm0iIiIiEgAlECLiIiIiARACbSIiIiISACUQIuIiIiIBEAJtIiIiIhIAIKWQJvZVDMrNLMVtfQbZGblZnZlsGIREREREakrwZyBng5cWFMHMwsDHgTeDWIcIiIiIiJ1JmgJtHNuAbCtlm6/AV4DCoMVh4iIiIhIXQpZDbSZdQKuAJ4OVQwiIiIiIoEK5U2E/wLudM6V19bRzG4ysxwzy9m8efMxCE1ERERE5PDCQ3jsFCDDzADaAhebWZlzbs7BHZ1zU4ApACkpKe6YRikiIiIiUknIEmjnXJf9P5vZdOCtwyXPIiIiIiL1SdASaDObCaQBbc2sALgXiABwzqnuWUREREQapKAl0M65sQH0vSZYcYiIiIiI1CU9iVBEREREJABKoEVEREREAqAEWkREREQkAEqgRUREREQCEMp1oEVERCREMtcUMnlBLvnbi0mKi2HC4K6k9YwPdVgiDYJmoEVERI4zmWsKmTh3JYVFe2kVHUFh0V4mzl1J5prCUIcm0iAogRYRETnOTF6QS0SYERMZjpnne0SYMXlBbqhDE2kQlECLiIgcZ/K3FxMdEValLToijILtxSGKSKRhUQItIiJynEmKi2FPaXmVtj2l5STGxYQoIpGGRQm0iIjIcWbC4K6UljuKS8pwzvO9tNwxYXDXUIcm0iAogRYRETnOpPWMZ9LwPsTHNmXnnlLiY5syaXgfrcIh4ictYyciInIcSusZr4RZ5AhpBlpEpJ665ppruPTSS2vtd+uttxIWFsYzzzxzRMeZPn06Zub7io2NJTU1lbfffvuIxhMRaeyUQIuINGD79u3j5Zdf5q677uLZZ5894nFiYmLYsGEDGzZsYOHChZxxxhmMHDmSvLy8OoxWRKRxUAItItKAvf7665xwwgncfffdrF69mhUrVhzROGZGhw4d6NChAz169OAvf/kLJSUlrFy50tfnpZdeYtCgQcTGxhIfH8+oUaNYt24dAM45unfvzsMPP1xl3G+//RYzY9GiRQDk5eVxxRVXEBsbS2xsLCNHjqSgoMDX/7777qNv375kZGTQrVs3YmNjGTFiBFu2bPH1yc7O5oILLqBt27a0aNGCs846iy+++KLac8tcU8jYKV9y1oMfMXbKl3pYiIgcNSXQIiIN2LPPPsv48eOJiYlh5MiRRzULvV9ZWRnTpk2jadOm9O/f39deUlLCn//8Z5YuXcpbb73Fli1bGDt2LOBJwK+//nqmTp1aZaypU6dyyimnMGDAAJxzjBgxgk2bNvHRRx/x8ccfs379ekaMGIFzzrfP2rVrmTVrFm+88Qbvvfceixcv5u677/ZtLyoq4qqrruLTTz8lKyuLU045hYsvvrhKkr2fnrgnIsGgmwhFRBqo3NxcPv30U15++WUAfvnLXzJ69GgefPBBoqKiAhpr9+7dNG/eHIA9e/YQFRXFtGnTSEhI8PW57rrrfD937dqVp556il69elFQUEBiYiLXXnstEydO5Msvv+S0006jvLycF154gT/+8Y8AfPDBByxdupTvv/+eE044AYAZM2bQvXt3PvzwQ4YOHQp4Evjp06fTsmVLAG666SamTZvmO/a5555bJfbHH3+c1157jfnz5zN+/Pgq2yo/cQ8gJjKc4pIyJi/I1Q10EhKZawqZvCCX/O3FJMXFMGFwV12LDZBmoEVEGqipU6dy3nnn0aFDBwDS0tKIiYlhzpw5AY8VExPDkiVLWLJkCYsXL+Yvf/kL1157Le+8846vz6JFi7j88svp3LkzsbGxpKSkAPjqpDt06MCll17qm4WeP38+W7duZdy4cQCsXr2ahIQEX/IMnkQ8ISGBVatW+do6d+7sS54BEhISKCw8MGNcWFjIhAkT6NGjBy1btiQ2NpbCwsLD1mvriXtSn+gTkcZDCbSISANUXl7O9OnTeffddwkPDyc8PJzIyEgKCgqOqIzDzOjevTvdu3enX79+/O53v+Occ87hb3/7G+CZoR42bBgxMTG8+OKLZGdnM3/+fMBT2rHfDTfcwKxZsyguLmbq1KmMHDmSuLg4wFMnbWbVHn+/iIiIQ7ZVVFT4Xl999dVkZ2fz6KOP8vnnn7NkyRISExOrxLGfnrgn9UnlT0TMPN8jwozJC3JDHZoESCUcIiIN0P7Z3ZycHCIjI33teXl5XHrppaxdu7bKTO+RCAsLo7jYM1O7Zs0atmzZwgMPPECXLl0Azw2MB7vwwgtp0aIFTz/9NPPmzasyg927d2/WrVtXJbbc3FzWr19P7969/Y7rv//9L//3f//HJZdcAsCmTZvYsGHDYftOGNyViXNXUlxSRnREGHtKy/XEPQmZ/O3FtIqu+geiPhFpmDQDLSLSALzxxhv07NnTt+rFs88+y0UXXcSAAQPo27ev7+viiy/mpJNO8pVRZGVl0bNnT7Kysmoc3znHxo0b2bhxIz/88ANTpkzh3Xff5fLLLwcgOTmZqKgonnjiCXJzc3n77be55557DhknLCyM6667jj/+8Y906tSJ8847z7dt6NCh9O/fn3HjxrFw4UJycnIYN24cAwYMOKSuuSY9evTgpZdeYtWqVWRnZ5Oenl7lj4jK9MQ9qU/0iUjjoQRaRKSeqqioIDzc80Hhzp07+frrryktLWXTpk289dZbXHnllYfdb9SoUUybNo2KigqKi4v5+uuvfTPJ1SkuLqZjx4507NiRXr168cgjjzBp0iTf6hft2rXj+eefZ86cOfTu3Zs///nP/POf/zzsWNdddx0lJSVce+21VUozzIw5c+bQrl070tLSGDJkCB06dGDOnDnVlnYcztSpU9m1axcDBw4kPT2d6667rsbZ9rSe8cy86TQ+vfNcZt50mpJnCZkJg7tSWu4oLinDOc93fSLSMFnlpYMagpSUFJeTkxPqMEREgu6CCy6gW7duPPXUU6EOJSBfffUVZ555Jrm5uSQnJ4c6HJF6Zf8qHAXbi0nUKhz1npktdM6lHMmLREgAACAASURBVNyuGmgRkXpmy5YtfPbZZ3zyySfcfPPNoQ7Hb/v27SM/P58//elPXHHFFUqeRQ4jrWe8EuZGQCUcIiL1zOjRo7nlllu44447uOKKK0Idjt9mzpzJSSedxNatW6st7xARaQxUwiEiIiIichjVlXBoBlpEREREJABKoEVEREREAqAEWkREREQkAEqgRUREREQCoARaRERERCQASqBFRERERAKgBFpEREREJABKoEVEREREAqAEWkREREQkAEqgRUREREQCoARaRERERCQASqBFRERERAKgBFpEREREJABBS6DNbKqZFZrZimq2jzOzZd6vz82sf7BiERERERGpK8GcgZ4OXFjD9h+Ac5xz/YD7gSlBjEVEREREpE6EB2tg59wCMzuhhu2fV3r5JZAYrFhEREREROpKfamBvh74T6iDEBERERGpjd8z0GYWByQAe4C1zrmKugjAzIbgSaDPqqHPTcBNAMnJyXVxWBERERGRI1JjAm1mLYFfA2OBSGAz0BRob2ZfAk865z4+0oObWT/gWeAi59zW6vo556bgrZFOSUlxR3o8EREREZGjVdsM9KvAC8DZzrkdlTeY2UDgKjPr6px7LtADm1ky8DpwlXPum0D3FxEREREJhRoTaOfc+TVsWwgsrG67mc0E0oC2ZlYA3AtEePd9GpgItAGeNDOAMudcSoDxi4iIiIgcU37VQJvZmcAS59xuMxsPDAAec879WN0+zrmxNY3pnLsBuCGQYEVEREREQs3fVTieAoq9Dzu5A/gRT2mHiIiIiMhxxd8Eusw554DL8cw8PwbEBi8sEREREZH6yd9l7IrM7I/AeGCwmYXhrWcWERERETme+DsDPQbYB1zvnNsIdAL+EbSoRERERETqKb9moL1J8z8rvc5DNdAiIiIichzyawbazEaa2bdmttPMfjKzIjP7KdjBiYiIiIjUN/7WQD8EXOacWx3MYERERERE6jt/a6A3KXkWEREREfF/BjrHzGYBc/DcTAiAc+71oEQlIiIiIlJP+ZtAtwCKgQsqtTlACbSIiIiIHFf8XYXj2mAHIiIiEmqZawqZvCCX/O3FJMXFMGFwV9J6xoc6LBGpZ/xdhSPRzN4ws0Iz22Rmr5lZYrCDExEROVYy1xQyce5KCov20io6gsKivUycu5LMNYWhDk1E6hl/byKcBswFEvA8RGWet01ERKRRmLwgl4gwIyYyHDPP94gwY/KC3FCHJiL1jL8JdDvn3DTnXJn3azrQLohxiYiIHFP524uJjgir0hYdEUbB9uIQRSQi9ZW/CfQWMxtvZmHer/HA1mAGJiIiciwlxcWwp7S8Stue0nIS42JCFJGI1Ff+JtDXAaOBjcAG4Epvm4iISKMwYXBXSssdxSVlOOf5XlrumDC4a6hDE5F6xt9VOPKA4UGORUREJGTSesYzCU8tdMH2YhK1CoeIVKPGBNrM7nDOPWRmj+NZ97kK59ytQYtMRETkGEvrGa+EWURqVdsM9P7Hd+cEOxARERERkfqiaG9ptdtqTKCdc/O835+v45hEREREROoV5xyL8naQkZXHW8s2VNuvthKOeRymdKPSQVQXLSIiIiIN2o7iEl5ftI6M7Dy+2bSr1v61lXA8XDdhiYiIiIjUH845vszdxqzsPN5ZsZGSsgrftj4JLUhPTeaXDx5+39pKOD6p00hFREREREJoy659vLawgIzsfH7YstvX3jwqnOGnJDB2UDInJ7YE4JfVjFFbCcdyai7h6Bd42CIiIiIix05FheO/320hIzuP91dtorT8QHp7SlIrxqYmcWm/BJpF+bXCc60lHJceRawiIiIiIiGzcedeXsnJZ1ZOPgXb9/jaWzQNZ+SARNJTk+jZoUXA49ZWwvFj4KGKiIiIiIRGWXkFmV9vJiM7j4/WFFJRqZYitUtrxqYmcVHfjjSNCDviY9RWwvFf59xZZlZE1VIOA5xzLvCUXURERESkjuVvK2Z2Tj6v5BSw8ae9vvbWzSL5+YBOjBmUTPf45nVyrNpmoM/yfo+tk6OJiIiIiNSR0vIKPli1iZnZ+Xz67WZcpenes7q3JT01ifN7tycq/Mhnmw/Hv0ppwMzigKTK+zjnFtVpNCIiIiIitfhhy24ysvN4bWEBW3aV+NrjY6MYlZLImJRkktvEBO34fiXQZnY/cA2QC+xfJM8B5wYnLBERERGRA/aWlvPuyo1kZOXzRe5WX3sTg7ST4kkflMS5PeMJD2sS9Fj8nYEeDXRzzpXU2lNEREREpI58u6mImVn5vL64gB3Fpb72Tq2iGZ2SxKiURBJaRR/TmPxNoFcArYDCIMYiIiIiIsKeknLeWraejOx8Fv643dce3sQY2qs96alJnH1iO8KaWEji8zeB/huw2MxWAPv2NzrnhgclKhERERE57qxcv5OMrHzmLF5H0b4yX3vnNjGMGZTElQMTiY9tGsIIPfxNoJ8HHgSWc6AGWkRERETkqOzaV8bcJevJyM5jWcFOX3tkWBOG9e3A2EFJnNa1DU1CNNt8OP4m0Fucc/8X1EhERERE5LjgnGNJ/g4ysvKZt2w9xSXlvm3d2jVjbGoyIwck0rpZZAijrJ6/CfRCM/sbMJeqJRxaxk5ERERE/LKzuJQ3FheQkZ3Pmo1Fvvao8CZc0q8jY1OTSekch1n9mW0+HH8T6FO930+r1KZl7ERERESkRs45sn7YRkZ2Pu8s38C+sgPVwL06tmBsahKXn9KJltERIYwyMH4l0M65IcEOREREREQaj6279vH6onXMzM4jd/NuX3tMZBjD+ycwNjWZfokt6/1s8+HUmECb2XhghnPusDcOmlk3oKNz7r/BCE5EREREGo6KCsfn329lZnYe763cSGn5gWdr909sSXpqMpf1T6B5lN8Pw66Xaou+DZ7l6xYCC4HNQFOgO3AOsAW462gCMLOpwKVAoXOu79GMJSIiIiLHXuFPe3llYQGzsvPJ21bsa49tGs4Vp3YifVAyvRNahDDCulVjAu2ce8zMnsBT63wm0A/YA6wGrnLO5dVBDNOBJ4AX6mAsERGR49p9993Hq6++yooVK/zqb2a88sorXHnllUGNKy0tjb59+/LEE08E9Thy7JRXOBZ8s5mZWXl8uKaQ8ooDs82DTogjfVAyF5/ckejIsBBGGRy1PizcOVfunHvfOXefc26Cc+63zrnJdZQ845xbAGyri7FEREQam2uuuQYz44Ybbjhk2x133IGZcemll/ra/vCHP/DJJ58cyxDrRGZmJmbm+4qJiaFfv3688ILm1+qbdTv28Oj733D2gx9x7fRs3lu1ifIKR1xMBDec1YUPfjeYV24+g58PTGyUyTP4vwqHiIiIhEhSUhKzZs3iscceo1mzZgCUlZXx4osvkpycXKVv8+bNad68eSjCrBMrV66kdevWFBcX88orr3DNNdfQo0cPTjvttNp3lqApLa/gw9WFZGTn8ck3m3EHJps5o1sb0lOTGdanPVHhjTNhPlitM9D1gZndZGY5ZpazefPmUIcjIiJyTPXr148TTzyR2bNn+9refvttmjZtSlpaWpW+9913H337Vr2l6Pnnn+fkk08mKiqK9u3bc80111TZvm3bNkaNGkWzZs3o2rUrL730UpXtd911FyeddBLR0dGccMIJ3HHHHezdu7dKn3nz5jFw4ECaNm1Kly5duPvuuykpKQn4XOPj4+nQoQNdu3blzjvvpHXr1ixevNi3ff78+Zx99tnExcXRunVrhg0bxurVq33bzz33XG655ZYqY/7000/ExMTw+uuvBxzP8e7Hrbt5aP4azvj7R9z80kIyv/Ykz22bR/E/ad345PY0Ztx4GsP7Jxw3yTM0kATaOTfFOZfinEtp165dqMMRERE55q6//nqmTp3qez116lSuvfbaWpcAmzx5MhMmTODaa69l2bJlvPPOO/Tp06dKn0mTJnH55ZezdOlSxowZw3XXXcePP/7o296sWTOmTp3K6tWrefLJJ8nIyOCvf/2rb/u7777LuHHjuOWWW1i5ciVTp07l1Vdf5X//93+P+HwrKiqYM2cOO3bsYNCgQb723bt389vf/pasrCwyMzNp2bIll112mS9Zv/HGG5kxYwb79vme+8bMmTNp3rw5l1122RHHczzZV1bOvKXrGffsl5zzj0yezPyezUX7MIO0k9rx9PiBfPHHc7nzwp50btMs1OGGhnOu1i+gPfAc8B/v697A9f7s6+f4JwAr/Ok7cOBAJyIicry4+uqr3SWXXOK2bdvmmjZt6r755hu3YcMGFxkZ6X788Uff9v3uvfde16dPH9/rTp06uTvvvLPa8QF31113+V6Xlpa66Oho9+KLL1a7z1NPPeW6devme3322We7SZMmVenzxhtvuGbNmrmKigrnnHPnnHOO+/Wvf13tmB9//LEDXLNmzVyzZs1ceHi4CwsLc4888ki1+zjn3K5du1yTJk3cp59+6pxzbu/eva5NmzZu5syZvj6pqanu97//fY3jiHPfbipy989b6U6d9J7rfOdbvq/THvjAPfLe1y5/2+5Qh3jMATnuMPmovzXQ04FpwN3e198As7xJ9VExs5lAGtDWzAqAe51zRz2uiIhIYxIXF8cVV1zB1KlTadWqFWlpaYfUPx+ssLCQdevWcd5559XYr1+/fr6fw8PDadeuHYWFhb62V199lX/9619899137Nq1i/LycsrLy33bFy5cSFZWFg8++KCvraKigj179rBx40Y6duzo93l+/PHHxMXFsW/fPrKysvjNb35DbGwsN954IwDff/8999xzD1999RWbN2+moqKCiooK8vI8axtERUVx1VVXMXXqVNLT01m1ahVZWVlMmzbN7xiOJ3tLy3ln+QZmZuWRvXa7rz2siXFuz3jGpiZxTo94wpo0vIedBJO/CXRb59xsM/sjgHOuzMzKa9vJH865sXUxjoiISGN33XXXcfXVV9O8eXMmTZpUa39X+U6vGkREVH2EsplRUeF5htqXX35Jeno69957L48++iitWrVi7ty5/OEPf/D1r6io4N5772XUqFGHjB1o6WWXLl1o27YtAH369OGrr75i0qRJvgT6sssuo1OnTkyePJlOnToRHh5O7969q9Rb33DDDfTr14+8vDyee+45Tj/9dHr37h1QHI3d6g0/kZGVxxuL1/HT3jJfe1LraNIHJXPlwETat2gawgjrN38T6N1m1gZwAGZ2GrAzaFGJiIjIIc477zwiIyPZsmULI0aMqLV/+/bt6dSpEx9++CHnn3/+ER3zs88+o1OnTtxzzz2+tsr10QADBgxgzZo1dO/e/YiOUZOwsDCKiz0P5ti6dSurV6/m3//+N0OGDAFg0aJFlJWVVdmnT58+/OxnP+OZZ57hpZdeqlKvfTzbva+MeUvXMzM7n6X5O3ztEWHGBb07kJ6axJnd2tJEs8218jeB/h0wF+hmZp8B7YDgrrguIiIiVZgZy5YtwzlHVFSUX/vcfffd/L//9/9o3749l1xyCcXFxXz44Yf8/ve/92v/Hj16sG7dOl5++WVOP/103n33XWbOnFmlz8SJE7n00kvp3Lkzo0ePJjw8nBUrVpCVlcVDDz0U0DkWFhZSVlbmK+F48cUXfQ95iYuLo23btjzzzDMkJSWxbt06br/9dsLDD01nbrzxRm6++WYiIiIYM2ZMQDE0Js45lhXsJCM7j7lL1rO75EABQde2zUhPTWLkgETaNvfvehIPvxJo59wiMzsHOAkw4GvnXGlQIxMREZFDxMbGBtT/f/7nf4iMjOSRRx7xLQt38cUX+73/ZZddxu23385vf/tb9uzZwwUXXMCkSZP41a9+5eszbNgw3n77be6//34efvhhwsPD6dGjxyHL5flj/woh4eHhJCUlMWHCBO677z4AmjRpwqxZs7j11lvp27cv3bt355FHHuHnP//5IeOMGTOGW2+9lVGjRgX8njUGP+0t5c3F65iRlc/qDT/52qPCm3DxyR1JH5REapfWta7iIodn/tRHmdkvD9funDvmjwdKSUlxOTk5x/qwIiIi0oCsX7+e5ORkPvnkE84888xQh3NMOOdY+ON2Zmbl8/by9ewtrfBt69khlvRBSVxxaiItYyJqGEUqM7OFzrmUg9v9LeEYVOnnpsB5wCJAz9cUERGReqO0tJQNGzZw9913c+qppx4XyfP23SW8vngdGVl5fFu4y9ceHRHG8P4JpKcmcUpSK8021yF/Szh+U/m1mbUEXgxKRCIiIiJH6LPPPmPIkCGHPLmxsXHO8UXuVjKy8pm/YiMl5Qdmm0/u1JL01CSG908gtqlmm4PB3xnogxUDJ9ZlICIiItKwZK4pZPKCXPK3F5MUF8OEwV1J6xkf0pjS0tL8Xr6vIdpctI9XFxYwKzuPtVuLfe2xUeFcfmoC6YOS6dupZQgjPD74lUCb2Ty8S9jhefx3b6Dx/lknIiIiNcpcU8jEuSuJCDNaRUdQWLSXiXNXMglCnkQ3NuUVjk+/3UxGVj4frN5EWcWBPxAGdo4jfVASl/TrSEzkkc6LSqD8facfrvRzGfCjc64gCPGIiIhIAzB5QS4RYeZL2mIiwykuKWPyglwl0HVkw849zM4uYHZOPut27PG1t4yOYOSAToxNTaZH++NvhZH6wN8a6E+CHYiIiIg0HPnbi2kVXbW+NjoijILtxdXsIf4oK6/gozWFZGTnk/l1IZUmm/lZl9b84mfJDOvTgaYRYaELUvwu4RgJPAjE41kH2gDnnGsRxNhERESknkqKi6GwaG+VsoE9peUkxsWEMKqGK39bMbOy83llYT6bftrna2/TLJIrByYyZlASXds1D2GEUpm/JRwPAZc551YHMxgRERFpGCYM7srEuSspLikjOiKMPaXllJY7JgzuGurQGoySsgreX7WJjOw8Pv12i6/dDM7q3paxqckM7dWeyPAmIYxSDsffBHqTkmcRERHZL61nPJPw1EIXbC8msZ6swtEQ5G7eRUZ2Pq8tLGDr7hJfe/sWUYxOSWJ0ShJJrTWTX5/5m0DnmNksYA7g+1zBOfd6UKISERGRei+tZ7wSZj/tLS1n/oqNzMzK46sftvnamxic2zOe9EHJpJ3UjvAwzTY3BP4m0C3wrP18QaU2ByiBFhEREanG1xuLmJmVxxuL17FzT6mvvVOraNIHJTEqJYkOLZuGMEI5Ev6uwnFtsAMRERERaQyKS8p4a9kGMrLyWJS3w9ce3sQ4v3d70lOTObt7W5o00aO1Gyp/V+HoATwFtHfO9TWzfsBw59xfghqdiIiISAOxYt1OZmblMXfJeor2lfnau7RtxphBSfx8QCLtYqNCGKHUFX9LOJ4BbgcmAzjnlpnZDEAJtIiIiBy3ivaW8uaS9WRk57Fi3U++9sjwJlzUtwPpg5I5rWtrzDTb3Jj4m0DHOOeyDvrll1XXWURERKSxcs6xKG8HGVl5vLVsA3tKy33berRvTvqgZK44tRNxzSJDGKUEk78J9BYz64bnxkHM7EpgQ9CiEhEREalndhSX8PqidczKzufrTUW+9qYRTbi0XwJjU5MYkByn2ebjgL8J9K+BKUBPM1sH/ACMC1pUIiIiIvWAc46vfthGRlYe76zYSElZhW9b744tGPuzZC4/JYEWTSNqGEUaG38T6B+dc0PNrBnQxDlXVOseIiIiDUzmmkImL8glf3sxSXowyHFty659vLawgFnZ+eRu2e1rbxYZxvBTOjE2NYmTO7XUbPNxyt8E+gczmw/MAj4KYjwiIiIhkbmmkIlzVxIRZrSKjqCwaC8T565kEiiJPk5UVDj++90WMrLzeH/VJkrLnW/bKUmtGJuaxKX9EmgW5W/6JI2Vv1fAScBleEo5njOzt4AM59x/gxaZiIjIMTR5QS4RYUZMpOd/jTGR4RSXlDF5Qa4S6EZu4869vJKTz6ycfAq27/G1t2gazsgBiYwZlESvji1CGKHUN/4+SGUPMBuYbWZxwGPAJ0BYEGMTERE5ZvK3F9Mqumoda3REGAXbi0MUkQRTWXkFn3yzmZlZeXy0ppCKA5PNpJ7QmrE/S+Kivh1pGqFURw7l92cQZnYOMAa4CMgGRgcrKBERkWMtKS6GwqK9vhlogD2l5STGxYQwKqlrBduLmZ2dz+ycAjb+tNfX3rpZJD8f0Ikxg5LpHt88hBFKQ+Dvkwh/AJbgmYW+3Tm3u5ZdREREGpQJg7syce5KikvKiI4IY09pOaXljgmDu4Y6NDlKpeUVfLh6EzOy8vn02824SrPNZ3VvS3pqEuf3bk9UuGabxT/+zkD3d879VHs3ERGRhimtZzyT8NRCF2wvJlGrcDR4a7fsJiM7n1cXFrBl1z5fe3xsFKNSEhmTkkxyG33CIIHzN4HuYGZvAO2dc33NrB8w3DmnR3mLiEijkdYzXglzA7evrJz5KzaSkZXPF7lbfe1NDNJOiid9UBLn9ownPKxJCKOUhs7fBPoZ4HZgMoBzbpmZzQCUQIuIiEjIfVdYxMysfF5fVMD24lJfe0LLpowelMTolCQSWkWHMEJpTPxNoGOcc1kHLRZeFoR4RERERPyyp6Sct5dvICMrj5wft/vaw5oYQ3vFk56azOAT2xHWRA87kbrlbwK9xcy6AQ7AzK4ENgQtKhEREZFqrFy/k4ysfOYsWUfR3gPzecmtY0hPTeLKgYnExzYNYYTS2PmbQP8amAL0NLN1wA/A+KBFJSIiIlLJrn1lzF2ynozsPJYV7PS1R4Y14YI+7RmbmszpXdvQRLPNcgz4+yCVXGComTUDmjjnioIbloiIiBzvnHMsyd9BRlY+85atp7ik3LetW7tmjE1NZuSARFo3iwxhlHI8qjWBNrMwIM45t8U5t9vMIs3sRuB3zrlewQ9RREREjic7i0t5Y3EBGdn5rNl4YM4uKrwJl5zckbE/SyalcxwH3ZslcszUmECbWTqelTd2m9m3wH3Ai3ieRDgu6NGJiIjIccE5R/ba7WRk5fH28g3sK6vwbevZIZaxqcmMOKUTLWMiahhF5NiobQb6T8BA59x3ZjYA+AJId869EfzQREREpLHbtruE1xYWkJGdx/ebDzzoOCYyjOH9E0hPTaZ/YkvNNku9UlsCXeKc+w7AObfIzH5Q8iwiIiJHo6LC8UXuVmZm5fHuyo2Ulh94tnb/xJakpyZzWf8Emkf5u9aByLFV25UZb2a/q/S6eeXXzrl/BicsERERaWwKi/by6sICZmXn8+PWYl97bNNwrji1E2MGJdEnoWUIIxTxT20J9DNAbA2vRURERKpVXuFY8O1mMrLy+HB1IWUVB2abB50QR/qgZC4+uSPRkWEhjFIkMDUm0M65Px/N4GZ2IfAYEAY865z7+0Hbk4HngVbePnc55945mmOKiIhI6K3fsYfZOfm8klPAuh17fO1xMRGMHJBI+qAkTmyvOTlpmIJWXORd/u7fwPlAAZBtZnOdc6sqdfsTMNs595SZ9QbeAU4IVkwiIiISPKXlFXy0ppCMrDw++WYzlSabOaNbG9JTkxnWpz1R4ZptloYtmNX5qcB33oewYGYZwOVA5QTaAS28P7cE1gcxHhEREQmCvK3FZGTn8crCAjYX7fO1t20exaiURMakJHFC22YhjFCkbgUzge4E5Fd6XQD87KA+9wHvmdlvgGbA0CDGIyIiUqcy1xQyeUEu+duLSYqLYcLgrqT1jA91WMfEvrJy3lu5iYzsPD77bquv3QwGn9iOsalJnNerPRFhTUIYpUhw+JVAm1l74AEgwTl3kbfc4nTn3HM17XaYNnfQ67HAdOfcI2Z2OvCimfV1zlVU7mRmNwE3ASQnJ/sTsoiISFBlrilk4tyVRIQZraIjKCzay8S5K5kEjTqJ/q5wF7Oy83ht0Tq27S7xtXdo0ZTRKYmMHpREYlxMCCMUCT5/Z6CnA9OAu72vvwFmATUl0AVAUqXXiRxaonE9cCGAc+4LM2sKtOX/t3fn8W3f953nXx+ApyjqFnWQgG3ZsuVD1kXCzuUjiRPHTuxatiUwne5kZ1qn2Wa67Uyy6bHNdp2ZXTfp7Ey3Tdu4mbSdTpeQJduJ7PjKYcdxEwegJMuyDtuybAOkDuqixJsE8N0/CEEQzVMiiOv9fDz8MPEF8MMHACl88Pl9v58vdGTeyDn3KPAoQGNj48gkXEREZMZ95+VDlHuNWRXDH6WzKsroHYzznZcPFV0C3T+U4Jk9R2gJR4m8dzo97vUYt19TR3PAx61XL6ZM1WYpEZNNoBc55x4zsz8EcM7FzSwxwX0iwEozuwJoB4LA50fcJgp8AvgHM7sWqAKOTzp6ERGRHImd7mVe9YXbSleXe2k73TvGPQrP/iNnCYWjPLmrnbP98fR4w/xqgk0+Hmz0sWROVQ4jFMmNySbQPWa2kNQUDDO7GTgz3h1SSfaXgecZblH3PefcXjN7GGh1zm0H/gPwd2b2+6ljf8E5pwqziIjkPd/8WXR09acr0AB9Q4mCn77QMxDnqd2HaYnE2B3rTI+Xe41PXbeUYMDHR65chMejrbWldE02gf73wHbgSjP7F2Ax8MBEd0r1dH5mxNjXM37eB3xk0tGKiIjkiS/esoKvb99L72Cc6nIvfUMJhhKOL96yItehTZlzjj3tZ2gJx9j+Wjs9g+dPMq9YVEMw4GPj+gYWza7MYZQi+WNSCbRzbqeZ3Qpcw/DiwDedc0NZjUxERCSP3baqjocZngvddrqXhgLswnG2f4gf7GqnJRxj35Gz6fGKMg933bCU5oCfwBULMFO1WSTTZLtw/A7wz865vanL882s2Tn311mNTkRERlXK7dPyyW2r6grudXfOsTN6mpZwjKdfP0z/0PnGV9csqSUY8HHfunrmzarIYZQi+W2yUzh+yzn37XMXnHOnzey3ACXQIiIzrFTbp8mlOd0zyBO72gmFo7zd0Z0ery738rk1ywgG/KzzzVO1WWQSJptAe8zMzi3wS23Tra+mIiI5UCrtALssngAAIABJREFU01Rlv3TOOX556CShcIzn9h5lMH6+2ry6fi7BgI971iyntqp8nKOIyEiTTaCfBx4zs79luFvGbwPPZS0qEREZUym0T1OV/dIc7xpg2442tkSivHfy/O9FbWUZ965bTrDJzw31c3MYoUhhm2wC/TXgi8CXGF5E+ALw3WwFJSIiYyvW9mmZSqXKPp2SScfPD54gFI7yo33HiCfPd4XdcNl8gk0+7r5x2QW/NyJycSbbhSMJ/E3qPxERyaFiap82llKosk+Xo2f6eaw1xpZIjPbOvvT43OpyNq6vpzng5+oltTmMUKT4jJtAm9ljzrlNZraH1CYqmZxzN2YtMhERGVUxtE+bSClU2S9FPJHkxTePEwpHefHNDjKKzdy8YgHNAT+fvn4pVeXe3AUpUsQmqkD/Xur/n812ICIiMnmF2D5tKkqhyn4xYqd62RKJsXVHjGNnB9LjC2sqeGBDA5ubfKxYPDuHEZ6nRaBSzCZKoJ8G1gP/0Tn3GzMQj4iISElU2SdrMJ7kR/uOEYpEeeXgCVyq2mwGH71qEc0BP5+8dgkVZZ7cBppBi0Cl2E2UQFeY2b8GPmxmG0de6Zx7IjthiYhIqSv2KvtEDh3vZkskxrYdbZzsGUyPL5lTyaZGH5saffgW5OeUFi0ClWI3UQL928CvA/OAz424zgFKoEVERKZJ/1CC5944Sks4yq/ePZUe9xjcfk0dwYCf269ZTJk3f6rNo9EiUCl2EyXQy5xzXzKzXc65R2ckIhERkRLz1rEuWsJRntzVTmfvUHq8fl41m5t8PNjYwLK51TmMcGq0CFSK3UQJ9B8CWxmuRCuBFhERmSa9g3Gefv0IoXCUndHO9HiZx7jjuiUEA34+etUivJ7C21pbi0Cl2E2UQJ80sxeBK8xs+8grnXP3ZCcsERGR4vRG+xlawlG2v3aYroF4evzyhbMIBvzcv76BxbWVOYzw0mkRqBS7iRLouxnuwvFPwH/OfjgiIiLFp6t/iB+8dphQJMob7WfT4xVeD59ZvZRgk5+bVyzArPCqzWMp9UWgUtzGTaCdc4PAq2b2IaB/eMj1zEhkIiIiBcw5x65YJ6FwlKd2H6FvKJG+bmXdbIIBPxvX1TO/piKHUYrIxZhwK28z+xLDc6Frhi9aF/Bnzrm/znZwIiIjaXMGyXedvYM8uaudUDjGm8e60uNV5R4+e+NymgM+1vvnF1W1WaTUTLSV9/8OfBi4zTl3KDW2AvgLM1vgnPuPMxCjiAigzRkkfznn+NW7pwiFozzzxlEG48n0ddctm0PzTX7uXbucOVXl4xxFRArFRBXo3wDWOOf6zw045w6Z2SZgN6AEWkRmjDZnuHSq4E+vE90DPL6jjS2RGIdOnJ/hWFPh5Z619TQHfKyun6tqs0iRmXAKR2bynDHWZ2bJ0W4vIpIt2pzh0qiCPz2SSce/vHOCUDjGC/uOMpRw6evW+uYRbPLxuTXLqamc8CNWRArURH/dbWb2CefcTzIHzezjwJHshSVS2lQlHJ02Z7g0quBfmmNn+9naGmNLa4zYqb70+JyqMu5bV08w4OfaZXNyGKGIzJSJEujfBX5gZq8AOxjevrsJ+Ahwb5ZjEylJqhKOTZszXBpV8KcukXS89GYHLeEYL77ZQSJ5vtocuHwBwYCPu1Yvo6rcm8MoRWSmTdTGbq+Z3QB8HrgeMOBl4IujTe0QkUunKuHYtDnDpVEFf/LaO/vYEomxtTXGkTPnP+4W1FRw//p6Njf5uapudg4jlKnQWT2ZbpOdA/29GYhFRFCVcCLanOHiqYI/vqFEkp/sP0ZLOMbLbx/HnS8289GrFhEM+LjjuiVUlqnaXEh0Vk+yQSscRPKMqoSSLargj+69Ez2EIjG27WjjRPdAenxxbSWbGhvY3OjHv1B/f4VKZ/UkG5RAi+QZVQklm1TBHzYQT/D83mOEwlF+8c7J9LjH4NarFxMM+Pn4qjrKvZ4cRinTQWf1JBsmlUCbWZ1zrmPE2DXOuTezE5ZI6VKVUCR7DnZ00RKO8cTONk73DqXHl8+tYlOTj02NPpbPq85hhDLddFZPsmGyFeifm9mfOOceAzCz/wD8W+C6rEUmUsJUJRSZPn2DCX645wihcJTW90+nx70e45PX1hEM+Lll5WK8Hm12Uox0Vk+yYbIJ9G3Ao2b2ILAE2A8EshWUiIjIpdp3+Cwt4Sjff62drv54ety/YBbBgI8HNjRQV1uVwwhHp44R00tn9SQbJpVAO+eOmNlzwB8CSeAPnXPdWY1MRERkiroH4mx/7TChSJTX286kx8u9xqevX0pzwM+HVizEk6fVZnWMyA6d1ZPpNtk50D9ieOfBG4AG4Htm9rJz7ivZDE5ERGQizjl2t50hFI6yffdhegcT6etWLK6hucnPxvX1LJxdmcMoJ0cdI0QKw2SncHzbOff91M+dZvZhhqvRIiIiOXGmb4jv72qnJRzlwNGu9HhlmYe7Vy8jGPDTdPl8zPKz2jwadYwQKQyTncLxfTNbwvA23gBh59w3sheWiIjIBznniLx3mlA4yg/3HGEgnkxft2ppLc0BP7+2tp65s8rHOUr+UscIkcIw2Skcm4BvAS8xvJ33X5rZV51z27IYm4iICACnegZ5fEcboUiUd473pMdnVXi5Z81yggE/axrmFlS1eTTqGCFSGCY7heOPgaZzvaDNbDHwY0AJtIiIZEUy6fjloZO0hKM8v/coQ4nze2uvaZhLMODnc2uWM7ty/I+yQupqoY4RIoVhsgm0Z8RGKicBbc8kIiLTrqOrn62tbWyJxIieOj/3t7aqjPvW1RNs8nPd8jmTOlYhdrVQxwiR/DfZBPo5M3seaEld3gw8k52QRESk1CSSjpffPk4oHOUn+zuIJ89Xmxsvm08w4Ofu1cuorvBO6bjqaiEi2TDZRYRfNbONwEcZngP9qHPuyaxGJiJS5AppakG2HO7s47HWGFtb22jv7EuPz59Vzsb1DQSbfKxcUnvRx1dXCxHJhslWoHHOPQE8YWaLGJ7CMSEzuxP4C8ALfNc598got9kE/CnggN3Ouc9PNiYRkUJViFMLpstQIslPD3QQCkf52VvHySg28+ErFxIM+Pn09UuoLJtatXk06mohItkwbgJtZjcDjwCngG8A/wQsAjxm9j85554b575e4NvAHUAbEDGz7c65fRm3WclwP+mPOOdOm1lxf2qIiKSU4tSC6MleQpEoW3e0cbxrID2+aHYlD2wYrjZfvqhmWh9TXS1EJBsmqkD/FfBHwFzgp8BnnHOvmtkqhudDj5lAAwHgoHPuEICZhYB7gX0Zt/kthjdpOQ0wYqGiiEjRKpWpBQPxBC/sPcaWSIxXDp5Ij5vBLSsX0xzw8Ylrl1Duzc66dHW1EJFsmCiBLnPOvQBgZg87514FcM4dmESvzXoglnG5DbhpxG2uTh37Xxie5vGn41W1RUSKRbFPLTjY0c2WSJTHd7ZzqmcwPb50ThWbGhvY1OSbseeqrhYiMt0mSqCTGT/3jbjOMb7RMuyR9ykDVgK3AQ3Az83sBudc5wUHMnsIeAjA7/dP8LAiIvmvGKcW9A8leGbPEULhGOH3TqXHvR7j9mvqaA74uPXqxZRlqdosIjJTJkqg15jZWYaT4erUz6QuV01w3zbAl3G5ATg8ym1edc4NAe+a2ZsMJ9SRzBs55x4FHgVobGycKHEXEcl7xTS1YP+Rs4TCUZ7c1c7Z/nh6vGF+NcEmHw82+lgyZ6KPDBGRwjFuAu2cu5Ql0BFgpZldAbQDQWBkh43vA83AP6S6e1wNHLqExxQRKRiFNLVgZMu9f/2hy+jsG6IlEmN37PxJw3Kvccd1S2gO+PnIlYvweAp7a20RkdFMuo3dVDnn4mb2ZeB5huc3f885t9fMHgZanXPbU9d9ysz2AQngq865SbXIExGRmXGu5V6ZByq9HvYePsOX/nnnBXPyViyqIRjwsXF9A4tmV+YsVhGRmWDOFdaMiMbGRtfa2prrMERESsaDf/sL3j3RQ/dAnP6h80tjzODeNcsJBvzcdMUCJrG4XESkoJjZDudc48jxrFWgRUSkcDnn2Bk9TUs4Rut7py+oNleWeVgwqxwz478G1+UsRhGRXFECLSIiaad7BnliVzuhcJS3O7rT4wbMm1XOgpqKdNeQulotDBSR0qQEWkSkxDnn+OWhk4TCMZ7be5TB+PlpGqvr57LeP4+fHOigssxTNC33REQuhRJoEZESdbxrgMd3trElEuPdEz3p8dmVZdy7djnNAT831M8F4PZrOoqi5Z6IyHRQAi0iUkKSScfPD54gFI7yo33HiCfPz25e759HMODnszcuu2CHRCislnsiItmmBFpEpAQcPdPPY60xtkRitHee31h2bnU5962rpzng55qltTmMUESkcCiBFhEpUvFEkhffPE4oHOXFNzvIKDZz0xULCAZ8fOaGZVSVX8qeWSIipUcJtIhIkYmd6mVLJMbWHTGOnR1Ijy+sqeCBDQ1sbvKxYvHsHEYoIlLYlECLiBSBwXiSH+07RigS5ZWDJ8jcI+tjKxfRHPDzyWuXUFHmyV2QIiJFQgm0iEgBO3S8my2RGNt2tHGyZzA9XldbyaZGH5ubfPgWzMphhMXjpQPDnUhip3vxqROJSElTAi0iUmD6hxI898ZRWsJRfvXuqfS4x+D2a+oIBvzcfs1iyryqNk+Xlw508PXteyn3GvOqy+no6ufr2/fyMCiJFilBSqBFRArEW8e6aAlHeXJXO529Q+nx+nnVbG7y8WBjA8vmVucwwuL1nZcPUe61dHu/WRVl9A7G+c7Lh5RAi5QgJdAiIiPk06n6vsEET79+mJZwlJ3RzvR4mce447olbG7y8bGVi/F6LCfxlYrY6V7mVZdfMFZd7qXtdG+OIhKRXFICLSKSIV9O1b/RfoZQJMoPdh2mayCeHr984SyCAT/3r29gcW3ljMVT6nzzZ9HR1X/BBjN9Qwka5mt+uUgpUgItIpIhl6fqu/qH2L77MKFwjD3tZ9LjFV4Pd96wlGDAx4dWLMRM1eaZ9sVbVvD17XvpHYxTXe6lbyjBUMLxxVtW5Do0EckBJdAiIhlm+lS9c45dsU5C4ShP7T5C31Aifd3KutkEA342rqtnfk1FVh5fJue2VXU8zPAXrLbTvTSoC4dISVMCLSKSYaZO1Xf2DvLkrnZC4RhvHutKj1eVe7h79XI+f5OP9f75qjbnkdtW1SlhFhFACbSIyAWyeareOcev3j1FKBzlmTeOMhhPpq+7dtkcPh/wcc/aeuaOqICLiEh+UQItIpIhG6fqT3YP8PjONkKRGIeO96THayq83LN2OcEmPzc2zFW1WUSkQCiBFhEZYTpO1SeTjn955wShcIwX9h1lKHF+b+01vnk0N/n43Jrl1FTqn2ERkUKjf7lFRKbRsbP9bG2NsaU1RuxUX3p8TlUZ962rJxjwc+2yOTmMUERELpUSaBGRS5RIOl56s4OWcIwX3+wgkTxfbQ5cvoBgwMddq5dRVe7NYZQiIjJdlECLiFyk9s4+tkRibG2NceRMf3p8QU0F96+vZ3OTn6vqZucwQhERyQYl0CJygXzaxjofDSWS/GT/MVrCMV5++zjufLGZj1y1kGCTn09dv4TKMlWbRUSKlRJoEUnL1jbWxZCUv3+yh1AkxtbWNk50D6THF9dW8uCGBjY3+bhsYU0OIxQRkZmiBFpE0rKxjXW2kvKZMBBP8PzeY4TCUX7xzsn0uMfg1qsXEwz4+fiqOsq9nhxGKSIiM00JtIyrGCqHMnnZ2MY6G0l5th3s6KIlHOOJnW2c7h1Kjy+fW8WmJh+bGn0sn1edwwhFRCSXlEDLmAq5cigXJxvbWGcjKc+GvsEEz+w5QigSJfLe6fS412N8YlUdzTf5uWXlYrwebXYiIlLqlEDLmAqxciiXJhvbWGcjKZ9O+w6fJRSJ8uSudrr64+lx/4JZbG7y8eCGBurmVOUwQhERyTdKoGVMhVI5lOmTjW2ss5GUX6rugThP7T5MKBxld9uZ9Hi51/jU9UtpbvLz4SsX4lG1WURERqEEWsaU75VDyY7p2MZ65PGmOym/GM45dredIRSO8tTuw/QMJtLXrVhcQ3OTn43r61k4u3JG4xIRkcKjBFrGlI+VQylM052UT8WZviG+v6udlnCUA0e70uOVZR7uXr2MYMBP0+XzMVO1WUREJkcJtIwpXyqHIpkm0xnGOUfr+6dp+VWUH+45wkA8mb5u1dJagk0+7lvXwNxZ5SMPLyIiMiEl0DKuXFYORUaaqDPMqZ5BntjZRks4yjvHe9L3m1Xh5XM3LicY8LHWN2/MarPaNoqIyGQogRaRgjFaZ5iegSG++fybbNvZxgt7jzGYOF9tvrFhLsEmP/esXc7syvH/uVPbRhERmSwl0CJSMDI7wwwlkpzuHeR0zyCDCce+I2cBqK0s49fW1RMM+Lh++dxJH1ttG0VEZLKUQItIwWiYV817J3voHUxwNqNnM0DjZfMJBvzcvXoZ1RXeKR9bbRtFRGSylECLSN473NnHY60x3u7o5mTPYHrcY1BTUcYffGYVv37zZZf0GGrbKCIik6UEWkTyUjyR5KcHOghFYrz0ZgdJd/66OVVllHuNq+pq+dKtV07LFAu1bZR8pIWtIvkpqwm0md0J/AXgBb7rnHtkjNs9AGwFmpxzrdmMSUTyW/RkL1tao2xtbaOjayA9vmh2BQ9s8LG5yccVi2qm/XHVtrF4FWoSqoWtIvkrawm0mXmBbwN3AG1AxMy2O+f2jbhdLfC7wK+yFYuI5LfBeJIX9h0lFI7xysET6XEz+NjKxTQ3+fjEtUuoKPNkNQ61bSw+hZyEamGrSP7KZgU6ABx0zh0CMLMQcC+wb8TtvgF8E/hKFmMRkTz0zvFuQuEoj+9s51TG3Oalc6rY1NjAg40+fAs0B1kuXiEnoVrYKpK/splA1wOxjMttwE2ZNzCzdYDPOfe0mSmBFikB/UMJntlzhFA4Rvi9U+lxr8e4/Zo6mgM+br16MWXe7FabpTQUchKqha0i+SubCfRoW32llwGZmQf4L8AXJjyQ2UPAQwB+v3+awhORmXTg6FlC4RhP7Gy7oAVdw/xqNjf6eLDRx9K5VTmMUIpRISehWtgqkr+ymUC3Ab6Myw3A4YzLtcANwEupbXWXAtvN7J6RCwmdc48CjwI0NjY6RKQg9AzEefr1w7SEY7wW60yPl3uNO65bQnPAz0euXITHM/rW2iKjmcqiwEJOQrWwVSR/mXPZyUfNrAx4C/gE0A5EgM875/aOcfuXgK9M1IWjsbHRtbaqUYdIPtvTdob/Lxzlqd2H6R44X22+YlENwSYf929oYNHsyhxGKIUqc1FgZkL88D3Xj5lYnku4lYSKyFSZ2Q7nXOPI8axVoJ1zcTP7MvA8w23svuec22tmDwOtzrnt2XpskYtRqK2u8sXZ/iF+8NphQuEoew+fTY9XlHm464albG7yc/OKBaTOOMk0K5Xf34tZFKjuKiIy3bLaB9o59wzwzIixr49x29uyGYvIeAq51VUuOefYGT1NSzjGD18/Qt9QIn3dNUtqCQZ83LeunnmzKnIYZfF76UAHX9m2m+6BOImk40T3AF/Ztps/f2DNtP3+5kuCnstFgfnyGohI7mknQhEKu9VVLpzuGeSJXe1siUR561h3ery63Mtnb1xG801+1vnmqdo8Qx55dj+dvUN4zfCa4ZLQ2TvEI8/un5bf33z6gpmrRYH59BqISO4pgRahsFtdzRTnHK8eOkUoEuXZN44yGE+mr7uhfg7BJj/3rF3OnKrycY6S3wq1wvjuyV48Rnoxphm4pOPdk9Pz+5tPXzBztSgwn14DEck9JdAiFHarq2w73jXA4zvb2BKJ8e6JnvT47Moy7l27nOaAnxvq5+YwwumhCuPY8ukLZq46U+TTayAiuacEWoTCbnWVDcmk4+cHTxAKR/nRvmPEk+e79azzz6O5yc/dNy6jprJ4/gkp5ArjikU1vN3RjTk3XH12kHSwcnHNtBw/218wp1r5z8WiQH3JFpFMxfPpJ3IJ1G912NEz/WxtjRGKxGjv7EuPz6kqY+P6BoIBH6uWzslhhNlTyBXGr925iq9u201Xf5x4IkmZx8P8WeV87c5V03L8bH7BLJTKv75ki0gmJdAiKaXa6iqeSPLSm8cJRaL89EAHGcVmbrpiAcGAj8/csIyqcm/ugpwBhVxhvG1VHd96YE3WvgBm8wtmoVT+9SVbRDIpgRYpUbFTvTzWGuOx1hjHzg6kxxfWVHD/hgY2N/m4cvHsHEY4swq9wpjtL4DZOn4hVf5L9Uu2iHyQEmiREjIYT/Lj/cdoCUd55eAJMjci/djKRQSb/Nxx3RIqyjy5CzJHVGHMjUKu/ItI6VICPU0Ktf2VlIZ3T/QQikR5fEcbJ7oH0+N1tZVsavSxucmHb4ESFlUYZ16hV/6nSp8VIsXBXGYJqgA0Nja61tbWXIdxgcxFMJkfAA/fc73+YUzRh8bM6x9K8Pzeo7SEo7x66FR63GNw+zV1BAN+br9mMWXe0qs2S3459+9DsVf+9VkhUnjMbIdzrnHkuCrQ06BQFsHkSqGssi8Wbx/roiUc44ldbXT2DqXH6+dVs6nRx6amBpbNrc5hhCIXKpXKvz4rRIqHEuhpUEiLYHJBHxrZ1zeY4OnXDxOKxNjx/un0eJnH+OS1SwgGfHxs5WK8Hm2tLZIr+qwQKR5KoKeBFsGMTx8a2fNG+xlCkSg/2HWYroF4evzyhbPY3OTn/g311NVW5TBCETlHnxUixUMJ9DQotUUwU6UPjenV1T/E9t2HCYVj7Gk/kx6v8Hr49A1LaW7ycfOKhXhUbRbJK/qsmD5aVyO5pgR6Gqj91fj0oXHpnHPsinUSCkd5+vUj9A4m0tddVTebYJOPjesbWFBTkcMoRWQ8+qyYHlpXI/lAXThkRpTKKvvpdqZ3iCd2tREKx3jzWFd6vKrcw12rl9Ec8NN42XzMVG0WkdLQ/OirHzir2TsYp662ipaHbs5hZFKM1IVDcqpUVtlPB+cc4XdPEYrEeGbPEQbiyfR11y6bQ3PAx71r65k7Yl55qdCpW5HSpnU1kg+UQIvkiZPdAzy+s41QJMah4z3p8ZoKL/esXU6wyc+NDXNLutqsU7cionU1kg+UQIvkUDLp+MU7J2kJR3lh31GGEuenVK3xzaO5ycdn1yxndqX+VEEtEUVE62okP+hTWSQHOs72s3VHG6FIlNipvvR4bVUZG9fVEwz4uXbZnBxGmJ+yfepW00Omh15HySYtxpR8oARaZIYkko6fvdVBSzjGTw90kEierzYHLl9AMODjrtXLqCr35jDK/JbNU7cvHejgK9t20z0QJ5F0nOge4CvbdvPnD6zRB/MUaJqNzAStq5FcUwItkmXtnX08FomxtTXG4TP96fH5s8q5f30DwYCPq+pqcxhh4cjmqdtHnt1PZ+8QXjO8ZrgkdPYO8ciz+/VBPQWaZiMipUAJtOSlQj8FPJRI8pP9HYQiUX721nEyu0V+5KqFBJv8fOr6JVSWqdo8Fdk8dfvuyV48RnoDGjNwSce7J7WyfyrUIUFESoESaMk7hXwK+P2TPYQiMbbtaON410B6fHFtJQ9uaGBzk4/LFtbkMMLCp1O3+U0dEkSkFCiBlrxTaKeAB+IJnt97jFA4yi/eOZkeN4Pbrl5MMODn46vqKPd6chilTGTFohre7ujGnBuuPjtIOli5WF94pkIdEkSkFCiBlrxTKKeAD3Z00RKO8cTONk73DqXHl8+t4sFGH5uafNTPq85hhDIVX7tzFV/dtpuu/jjxRJIyj4f5s8r52p2rch1aQVGHBBEpBUqgJe/k8yngvsEEz+w5Qks4Suv7p9PjXo/xiVV1NAf83HL1Yrye0t3spFDdtqqObz2wRonfNNA0GxEpdkqgJe/k4yng/UfO0hKO8uSudrr64+lx/4JZbG7y8eCGBurmVOUsPpkeSvxERGQylEBL3smXU8A9A3Ge2n2YlkiM3bHO9Hi51/jU9Uv5fMDPh1YsTHdtEBERkdKgBFryUq4qgc45Xm87QygSZftrh+kZTKSvW7G4huYmPxvX17NwduWMxyYiIiL5QQn0DCj0nsal4EzfED94rZ2WcIz9R86mxyvLPNy9ehnBgJ+my+djVhzVZv1OioiIXDwl0FlWyD2Ni51zjtb3T9MSjvLMniP0DyXT161aWkuwycd96xqYO6t8nKMUHv1OioiIXBol0FlWaD2NS8GpnkGe2NlGKBLjYEd3ery63Mvn1gxXm9f55hVNtXkk/U6KiIhcGiXQWVYoPY2LXTLpePXQSVoiMZ5/4yiDifPV5tX1cwkGfNyzZjm1VcVVbR5Nqf5OatqKiIhMFyXQWZbPPY1LQUdXP9t2tLElEuP9k+cTxNrKMu5dt5xgk58b6ufmMMKZV4q/k5q2IiIi00kJdJblY0/jYpdIOn7+9nFC4Rg/3n+MeNKlr9tw2XyCTT7uvnHZBQlkKcn272Q+Vno1bUVERKZTaWYQMyhfehqXgiNn+ngs0sZjrTHaO/vS4/NmlbNxXQPBgI+rl9TmMML8kM3fyXyt9JbqtBWR8eTjl12RQqEEegZod7PsiSeS/PRAB6FIjJfe7CCj2MzNKxbQHPDz6euXUlXuzV2QeShbv5P5WuktxWkrIuPJ1y+7IoVCCbQUpNipXkKRKFtb2+joGkiPL5pdwf0bGgg2+bliUU0OIyxN+Vrp1VQqkQvl65ddkUKhBFoKxmA8yY/2HSMUifLzt0+kx83gYysX09zk4xPXLqGizJPDKEtbvlZ6NZVK5EL5+mVXpFBkNYE2szuBvwC8wHedc4+MuP7fA78JxIHjwL9xzr2fzZik8LxzvJstkRiP72jjZM9genzJnEo2NfrY1OjDt0Cn4vNBPld6NZVK5Lx8/bIrUiiylkCbmRf4NnAH0AZEzGwnL4mEAAAW9ElEQVS7c25fxs12AY3OuV4z+xLwTWBztmKSwtE/lODZN47QEo4RfvdUetxj8PFVdQSb/Nx2zWLKvKo25xNVekUKQz5/2RUpBNmsQAeAg865QwBmFgLuBdIJtHPuxYzbvwr8qyzGIwXgwNGzhMIxntjZxtn+eHq8fl41wSYfDzb6WDq3KocRykRU6RXJf/qyK3JpsplA1wOxjMttwE3j3P7fAs+OdoWZPQQ8BOD3+6crPskTvYNxnt59hJZIlF3RzvR4mcf41PVLCDb5+ehVi/B4inNrbRGRXNCXXZGLl80EerRsx40yhpn9K6ARuHW0651zjwKPAjQ2No56DCk8b7SfoSUc5QevHaZ74Hy1+YpFNQSbfNy/oYFFsytzGKGIiIjIB2UzgW4DfBmXG4DDI29kZp8E/hi41Tk3MPL6QqGG9JPT1T/ED147TCgS5Y32s+nxijIPd92wlGDAz01XLMBM1WYRERHJT9lMoCPASjO7AmgHgsDnM29gZuuA7wB3Ouc6shhLVqkh/ficc+yMdhIKR3n69SP0DSXS1129ZDbBJj8b19czb1ZFDqMUERERmZysJdDOubiZfRl4nuE2dt9zzu01s4eBVufcduBbwGxga6riGHXO3ZOtmLJFDelH19k7yBM72wlForx1rDs9Xl3u5bM3LiMY8LPeP0/VZhERESkoWe0D7Zx7BnhmxNjXM37+ZDYff6aoIf15zjlePXSKUCTKs28cZTCeTF93/fI5BAN+7l27nDlV5eMcRWRsmi4lIiK5pp0Ip4Ea0sOJ7gG27WhjSyTGuyd60uOzK8u4Z+1ympv8rG6Ym8MIpRhoupSIiOQDJdDToFQb0ieTjlcOniAUifLC3mPEk+cbpKzzz6O5yc/dNy6jplK/ZjI9NF1KRETygTKbaTATDenz6bT10TP9bG2NsaU1RtvpvvT4nKoyNq5vIBjwsWrpnJzEJsVN06VERCQfKIGeJtlsSJ8Pp63jiSQvvXmcUCTKTw90kFFsJnDFApoDPj5zwzKqyr0zEo+UJk2XEhGRfKAEugDk8rR17FQvj7XG2NraxtGz/enxBTUVPLChgc1NPq5cPDurMYicU6rTpUREJL8ogS4AM33aeiiR5Mf7jtESifHzt4/jMqrNH1u5iGCTnzuuW0JFmScrjy8ylpmYLiUiIjIRJdAFYKqnrS92vvS7J3oIRaI8vqONE92D6fG62koebGxgc6Mf/0KdKpfcyuZ0KRERkclQAj0JuV7AN5XT1lOdL90/lOD5vUdpCUd59dCp9LjH4LZr6gg2+fj4qjrKvKo2i4iIiIAS6AnlwwK+qZy2nux86bePddESjvHErjY6e4fS4/XzqtnU6GNTUwPL5lZn/bmJiIiIFBol0BPIl76zkz1tPd586b7BBD/cc4SWcJQd759OX1/mMT557RKCAR8fW7kYr+f81trZrr7nurovIiIiMlVKoMdwLrELv3eKqjIPi2ZXMieVmOZz39nR5kt39g0ylHAE/tOP6RqIp8cvWziLzU0+HtjQQF1t1QeOle3qez5U90VERESmSgn0KDITu0qvMZhIcvjM8IYhc6rL87rv7Ln50t39QwzEk5zsGWQgnkxfX+H18OkbltLc5OPmFQvxZFSbR8p29T1fqvsiIiIiU6EEmg9OIzjdM5BO7OrmVHG4sx+H40T3AGVey9u+s8455s4q5/KFs3jl4IkLNju5cnENzQE/G9c3sKCmYlLHy3b7PO0qJyIiIoWo5BPo0aYRvHeyh4Z5wwvoaqvKWT4POs720x9PUldblXfzdM/0DvHkrjZCkRgHjnalxyvLPNx94zKaA34aL5uP2djV5tFczK5vU5nTrF3lREREpBCVfAI92jSCco+HY10DzKkertTWVpXj9Rh1tVW0PHRzLsNNc84RfvcUoUiMZ/YcuWCaxqqltXz+Jj/3rq1n7ogK71RMdde3qc5p1q5yIiIiUohKPoEebRrBkjmVtHX252Vid7J7gCd2ttMSiXLoeE96fFaFl3vXLifY5OfGhrlTrjaP5rZVdTzQ1sl3X3mXnsEENRVefvOjV4xZUZ7qnObp3FVO3TxERERkppR8Aj3aNIIyr4er62Yzb1ZFXmwXnEw6fvHOSVoiUV7Ye5ShxPnJzWsa5hIM+PncmuXMrpzet/OlAx1s29nO4tpK/KkvEtt2tnNjw7xRX4uLmdM8HbvKFWM3D30hEBERyV8ln0CPNY3gT+5elfOEpeNsP1t3tLElEiN66nwSWltVxn3r6gk2+blu+Zxpe7zxFlPCxBXlXM1pLrZuHsX4hUBERKSYlHwCPZ3TCKZDIul4+a3jtISj/ORAB4mMVhpNl88n2OTnrtXLqK7wTuvjTrSY8pzxKsq5mtNcbN08iu0LgYiISLEp+QQapmcawaVq7+zjsUiMra0xDp/pT4/Pn1XO/esbCAZ8XFVXm7XHH2sx5eHOPk50DzKYSFLh9VBbVcYVi2aPeoxcfRmZ7sp3rqdPFNsXAhERkWKjBDqHhhJJfrK/g1Akys/eOo7L6Nv84SsXEgz4+fT1S6gsm95q82hGS9pqq7wc705CIonHYDCR5Hj3IJ8PLBjzOLn4MjKdle98mD6h9n4iIiL5TQl0Drx/soctkRhbd7RxvGsgPb5odiUPNjYQbPJx2cKaGY1ptKStayBBhdco93rSFeg51WX88tApfndGoxvfdFa+82H6hNr7iYiI5Dcl0DNkIJ7ghb3HCEWi/MvBk+lxM7j16sUEm/x84to6yr2enMQ3VtLWMK8q3Q8bhvtP5+NUgumqfOfD9Il8m5cvIiIiF1ICnZKtea8HO7oJhaM8vrON071D6fFlc6t4sNHHpsaGaTs1fynPYbSkrSJVec5U7FMJ8mX6RD7MyxcREZHRKYFm+ue99g8l+OHrRwhFokTeO50e93qMj6+qozng49ar6/B6Rt/s5GIS4Yt5DqM9TuZOi+eOWUpTCTR9QkRERCZiLnPlWgFobGx0ra2t03rM5kdf/UDVsXcwPuWtu/cfOUsoHOWJXe109cfT474F1QSb/DywoYElc6rGPUZmIpyZwD18z/XjJtFTfQ6TfZxzSXYpTSUoxecsIiIiH2RmO5xzjSPHVYHm0ua99gzEeWr3YVoiMXbHOtPj5V7jU9ctJRjw8ZErF+EZo9o80sUuYpvqc5js45TiVIJSfM4iIiIyeUqgmXje68ipDg997AoWzK4kFImy/bXD9Awm0vdbsbiGYJOP+9c3sHB25ZRjudhkfqpzd/NhsZyIiIhIIVICzfjzXjOnOtRWlvF2RxcP/Y8dDCXOT32pLPNw1+plBJt8BK5YgNmF1ebx5jSPvG52xfDjT3UR21Tn7ubLYjkRERGRQqMEmvHbhgW/80viySRn+xOc6Ru6YLOTVUtrCTb5uG9dA3NnlY967PEW9wEfuO5s3xDnHmIqi9im2vpMi+VERERELo4WEY7hdM8gj+9s45FnDxBPXvgaza70MquijF/90ScmrDaf7hlgKOlGXdwHjLrwr8LrYd6siqwvYtNiOREREZGxldwiwotpBZdMOl49dJKWSIzn3zj6gR7I5/QOJGiYVz1q8jyyovzeyR4WzCrn6Jn+9G5+i2YPJ8cORp2HfKZviGd/75ZLev6TocVyIiIiIlNXlAn0VHsiH+8aYNuONrZEorx38vwiutrKMpLOXbBIECAJdA/EGWm0zhYe4Hj3EAY4IJ5IEDvVx9VLZjO/plLzkEVEREQKTNEk0JkV57N9Q3gMhhIuXfWtrSq7oEVbIun4+dvHCYVj/Hj/sQumaaz3z6M54OfuG5ex7uEfUeaBpAPnhrfe9hgc7x78QAyjdbZwo/zfMZyA/8FnrtU8ZBEREZECUxQJ9MiKc/vpPhxQ5jHKPEY84TjZM0g8cZYjZ/p4LNLGY60x2jv70seYW13OxvX1BJv8XLO09oLje8wo93rSlxPJ0ad2jNbZ4twsEI99MAGf6sI/EREREcm9okigv/PyIQbjCU52xxlMJNPV3qRzmHkARzLp6OyL85FHfkpyRCeNeNLRNxjnwJEujnT2XZBAr1hUw9sd3ZhzWCoJTjpYubjmA3GM1tliOJGHcq83fbvMBFzzkEVEREQKi2fim+Svlw500Pzoq/zy0EmOnh2gZzBBIiM7TjoYTCTojydJJCGedCQdLJpdwRdvXcEjG1fTO5jAOcf8WRXpudIvHehIH+Nrd65i/qxyDIgnkhgwf1Y5X7tz1QfiuW1VHQ/fcz11tVWc6RuirrYK3/xqwEg6h8ORdMMxrFj0wQRcRERERPJfwVagz03bGIyPWOA3oitfZiONudXl/N8bV/PJa5dQUeah+dFXJ9zO+rZVdXzrgTWTnmYxsqL80oEOvrptN139ceKJJGUez5gJuIiIiIjkv4JNoM91vDjZ/cFuGJnKPEZtVRnV5V7+r/tWX5DcTnY760uZZjHVBFxERERE8lteJNBmdifwF4AX+K5z7pGJ7hM73cucqjL6hxJj3qa63MPCmgp8C2pGTVpnajtrzXMWERERKR45T6DNzAt8G7gDaAMiZrbdObdvrPu8ebSLeMJx4GjXB6ZsGOD1gNfj4W9+fcO4iau2sxYRERGRqcqHRYQB4KBz7pBzbhAIAfeOdeN3jnfz6f/6MkfP9qeTZ2O4NRyp/3s9Hn7ntisnrPqOtujv4XuuV7VYRERERMaU8wo0UA/EMi63ATeNdePewQRzgcsXziJw+QLeOd7D+ye7GUw4Kso8rKyrndIcY02vEBEREZGpyIcE2kYZu2Bihpk9BDyUujjw/p999o33gZ+NcscdDJewpeAsAk7kOgiZVnpPi5Pe1+Kj97Q46X2dHpeNNpgPCXQb4Mu43AAczryBc+5R4FEAM2t1zjXOXHgyE/S+Fh+9p8VJ72vx0XtanPS+Zlc+zIGOACvN7AozqwCCwPYcxyQiIiIiMqqcV6Cdc3Ez+zLwPMNt7L7nnNub47BEREREREaV8wQawDn3DPDMJG/+aDZjkZzR+1p89J4WJ72vxUfvaXHS+5pF5pyb+FYiIiIiIgLkxxxoEREREZGCUVAJtJndaWZvmtlBM/uDXMcjUzPR+2dmXzCz42b2Wuq/38xFnHJpzOx7ZtZhZm/kOha5OBO9h2Z2m5mdyfhb/fpMxyiXzsx8Zvaime03s71m9r/mOiaZvMm8f/pbzZ6CmcKR2vL7LTK2/Aaax9vyW/LHZN4/M/sC0Oic+3JOgpRpYWa3AN3Af3fO3ZDreGTqJnoPzew24CvOuc/OdGwyfcxsGbDMObfTzGoZ3krh1/S5Whgm8/7pbzV7CqkCPaUtvyXv6P0rEc65l4FTuY5DLp7ew9LgnDvinNuZ+rkL2M/w7sBSAPT+5VYhJdCjbfmtX5TCMdn3734ze93MtpmZb5TrRSQ/fMjMdpvZs2Z2fa6DkUtjZpcD64Bf5TYSuRgTvH/6W82CQkqgJ9zyW/LaZN6/p4DLnXM3Aj8G/jHrUYnIxdgJXOacWwP8JfD9HMcjl8DMZgOPA7/nnDub63hkaiZ4//S3miWFlEBPuOW35LXJbNl+0jk3kLr4d8CGGYpNRKbAOXfWOded+vkZoNzMFuU4LLkIZlbOcPL1z865J3Idj0zNRO+f/lazp5ASaG35XdgmfP9SCyLOuYfh+VwikmfMbKmZWernAMOfJSdzG5VMVeo9/G/Afufc/5PreGRqJvP+6W81e/JiJ8LJ0JbfhW2s98/MHgZanXPbgd81s3uAOMMLmL6Qs4DloplZC3AbsMjM2oD/wzn333IblUzFaO8hUA7gnPtb4AHgS2YWB/qAoCuUlk6S6SPAbwB7zOy11NgfpSqVkv9Gff8AP+hvNdsKpo2diIiIiEg+KKQpHCIiIiIiOacEWkRERERkCpRAi4iIiIhMgRJoEREREZEpUAItIiIiIjIFSqBFpKiYWcLMXjOzN8xsq5nNuoRjfcHM/uoS7rs84/J3zey6i41lxHGPp57j3tS291N6jmb2D2b2wEU+/lozu2uc69eZ2XeneMz0a2Nm753b6MHMulP/X25m2y4m3nEe88/N7OPTeUwRKR1KoEWk2PQ559Y6524ABoHfzrzShs3Ev31fANIJtHPuN51z+6bp2FtSz/F6hp/j5mk67mSsBcZMoBnuQ/uXUzngRK+Nc+6wc+6iEv5x/CXwB9N8TBEpEUqgRaSY/Ry4yswuN7P9ZvbXwE7AZ2bNZrYnVan+s3N3MLP/2czeMrOfMbxRwbnxC6q256qjqZ//t9SxdpvZI6nbNQL/nKoUV5vZS2bWmLr9WI/dbWb/KXWcV81syXhPzszKgBrg9Hgxpr40/JWZ7TOzHwJ1Gbe5y8wOmNkrZvb/mtnTqfEaM/uemUXMbJeZ3ZvaRfRhYHPqeV2QuJtZLXCjc2536vKfmtk/mtkLqcryRjP7Zuq5P2fD2xCT+dqM8TwvN7M3Uj9Xmdnfp46xy8xuT41/wcyeSB33bTP7Zmrcm3pd3kjd5/cBnHPvAwvNbOl4r7GIyGiUQItIUUoll58B9qSGrgH+u3NuHTAE/BnwcYYrqk1m9ms2vJ38/8lw4nwHMOGUCzP7DPBrwE3OuTXAN51z24BW4NdTleK+jNsvH+2xU1fXAK+mjvMy8FtjPOxmG955rB1YADw1QZj3pZ7/6tQxP5yKpQr4DvAZ59xHgcUZ9/lj4KfOuSbgduBbDO9G+HXOV8C3jHicRuCNEWNXAncD9wL/A3jRObea4V3R7p4g7tH8DkDqGM3AP6aeBwy/nptTz3OzmflSY/XOuRtS9/n7jGPtJONLkojIZCmBFpFiU51KLluBKHBuG/H3nXOvpn5uAl5yzh13zsWBfwZuAW7KGB8ERiaIo/kk8PfOuV4A59ypCW4/1mPD8HSMp1M/7wAuH+MYW5xza4GlDH9B+OoEj3kL0OKcSzjnDgM/TY2vAg45595NXW7JuM+ngD9IvZYvAVWktggexzLg+IixZ51zQ6k4vcBzqfE9jP38xvNR4J8AnHMHgPeBq1PX/cQ5d8Y51w/sAy4DDgErzOwvzexO4GzGsTrImGYjIjJZSqBFpNicmwO91jn371KJMEBPxm1snPu7McbjpP7NNDMDKjKONdZ9RjPeYw85584dKwGUjXeg1G2f4nwCPlaMjBHjeLEYcH/Ga+l3zu0fLx6Gq8pVI8YGUrEmufD5JZng+Y0T11gGMn5OAGXOudPAGoa/BPwOkLnAsSoVs4jIlCiBFpFS9CvgVjNbZGZehqcC/Cw1fpuZLUzNz30w4z7vARtSP9/L8HQGgBeAf2OpThhmtiA13gXUTuGxL9ZHgXcmiPFlIJiaD7yM4SkZAAcYrs5enrqcOaf5eeDfpRJxzGxdanys5wWwH7jqYp/IJL0M/HoqpqsZroq/OdaNbbijh8c59zjwJ8D6jKuv5oNTTkREJqQEWkRKjnPuCPCHwIvAbmCnc+4HqfE/BX4J/JjhObLn/B3DiW+Y4akePaljPQdsB1pT0x2+krr9PwB/e24R4USPPcWncG4R3+vAOuAb48UIPAm8zfC0ib8hlbCn5mb/L8BzZvYKcAw4k7rPNxhOwF9PLeA79xgvAteNtogwNaVibmoxYbb8NeA1sz0MT7H5gnNuYJzb1wMvpd6bf2D4tSf1Bekqhqf6iIhMiZ0/myYiIqXGzGY757pTleZvA2875/7LJRzv94Eu59yUekHPNDO7D1jvnPuTXMciIoVHFWgRkdL2W6nq7F5gLsNdOS7F33DhXOR8VQb851wHISKFSRVoEREREZEpUAVaRERERGQKlECLiIiIiEyBEmgRERERkSlQAi0iIiIiMgVKoEVEREREpkAJtIiIiIjIFPz/V4gIS4jBuvIAAAAASUVORK5CYII=\\n\",\n      \"text/plain\": [\n       \"\u003cFigure size 864x576 with 1 Axes\u003e\"\n      ]\n     },\n     \"metadata\": {\n      \"needs_background\": \"light\"\n     },\n     \"output_type\": \"display_data\"\n    }\n   ],\n   \"source\": [\n    \"# create a regression plot with the directors in the sci-fi genre,\\n\",\n    \"# by avg production budget and worldwide gross revenue\\n\",\n    \"\\n\",\n    \"fig, ax2 = plt.subplots(figsize = (12,8))\\n\",\n    \"\\n\",\n    \"# add titles to reccomended directors on the plot axes, and change the coordinates to improve legibility\\n\",\n    \"for i,txt in enumerate(scifi_top_directors.index):\\n\",\n    \"    if txt == 'Colin Trevorrow':\\n\",\n    \"        ax2.annotate(txt, (scifi_top_directors.production_budget[i]+2900000,\\n\",\n    \"                           scifi_top_directors.worldwide_gross[i]-16000000),fontsize=14)\\n\",\n    \"    elif txt == 'J.A. Bayona':\\n\",\n    \"        ax2.annotate(txt,\\n\",\n    \"                     (scifi_top_directors.production_budget[i]-36000000,\\n\",\n    \"                      scifi_top_directors.worldwide_gross[i]-17000000),fontsize=14)\\n\",\n    \"    elif txt == 'Michael Bay':\\n\",\n    \"        ax2.annotate(txt, (scifi_top_directors.production_budget[i]-18000000,\\n\",\n    \"                           scifi_top_directors.worldwide_gross[i]+25000000),fontsize=14)\\n\",\n    \"\\n\",\n    \"# set the plot                           \\n\",\n    \"sns.regplot(scifi_directors.production_budget, scifi_directors.worldwide_gross, ci=0)\\n\",\n    \"\\n\",\n    \"plt.xlabel('Production Budget (millions)')\\n\",\n    \"plt.ylabel('Box Office Revenue (millions)')\\n\",\n    \"plt.title('Revenue to Production Value - Sci-Fi Directors');\\n\",\n    \"plt.xlim(0, 285_000_000)\\n\",\n    \"plt.ylim(0, 1800_000_000)\\n\",\n    \"ax2.set_yticklabels(labels=[0,0.2,0.4,0.6,0.8,1,1.2,1.4,1.6,1.8]);\\n\",\n    \"ax2.set_xticklabels(labels=[0,.5,1,1.5,2,2.5]);\\n\",\n    \"plt.show()\"\n   ]\n  },\n  {\n   \"cell_type\": \"code\",\n   \"execution_count\": 26,\n   \"metadata\": {},\n   \"outputs\": [],\n   \"source\": [\n    \"# create a unique list of the genres that also have sci-fi\\n\",\n    \"\\n\",\n    \"scifi_sub_genres = set([y for x in [a.split(',') for a in scifi_imdb_tn['genres']] for y in x if y!= 'Sci-Fi'])\\n\",\n    \"\\n\",\n    \"# create a list of avg profit by sci-fi sub genres\\n\",\n    \"\\n\",\n    \"scifi_sub_genre_profit = []\\n\",\n    \"for genre in scifi_sub_genres:\\n\",\n    \"    scifi_sub_genre_profit.append(round(scifi_imdb_tn[(scifi_imdb_tn[genre]==1) \u0026 (scifi_imdb_tn['worldwide_gross']\u003e10_000_000)].worldwide_gross.mean(),0))\"\n   ]\n  },\n  {\n   \"cell_type\": \"code\",\n   \"execution_count\": 27,\n   \"metadata\": {},\n   \"outputs\": [],\n   \"source\": [\n    \"# create a dataframe containing unique sci-fi sub genres\\n\",\n    \"# and profits, descending by profit\\n\",\n    \"\\n\",\n    \"scifi_set_of_lists_df = \\\\\\n\",\n    \"    pd.DataFrame(zip(scifi_sub_genres,\\n\",\n    \"                     scifi_sub_genre_profit),\\n\",\n    \"                 columns=['Genre','scifi_sub_genre_profit']).\\\\\\n\",\n    \"                 sort_values('scifi_sub_genre_profit',\\n\",\n    \"                             ascending=False)\"\n   ]\n  },\n  {\n   \"cell_type\": \"code\",\n   \"execution_count\": 28,\n   \"metadata\": {},\n   \"outputs\": [\n    {\n     \"data\": {\n      \"image/png\": \"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\\n\",\n      \"text/plain\": [\n       \"\u003cFigure size 864x432 with 1 Axes\u003e\"\n      ]\n     },\n     \"metadata\": {\n      \"needs_background\": \"light\"\n     },\n     \"output_type\": \"display_data\"\n    }\n   ],\n   \"source\": [\n    \"# create box plot with descending profits and genre\\n\",\n    \"\\n\",\n    \"fig, ax = plt.subplots(figsize = (12,6))\\n\",\n    \"sns.barplot(x=scifi_set_of_lists_df['Genre'],\\n\",\n    \"            y=scifi_set_of_lists_df['scifi_sub_genre_profit'],\\n\",\n    \"           color='blue');\\n\",\n    \"\\n\",\n    \"ax.set_xlabel('Genres')\\n\",\n    \"ax.set_ylabel('Average Profit (Millions)')\\n\",\n    \"ax.set_title('Average Revenue - SciFi Sub-Genre')\\n\",\n    \"ax.set_xticklabels(ax.get_xticklabels(), rotation=45, horizontalalignment='right');\\n\",\n    \"ax.set_yticklabels(labels=[0,1,2,3,4,5,6]);\"\n   ]\n  },\n  {\n   \"cell_type\": \"code\",\n   \"execution_count\": null,\n   \"metadata\": {},\n   \"outputs\": [],\n   \"source\": []\n  }\n ],\n \"metadata\": {\n  \"kernelspec\": {\n   \"display_name\": \"learn-env\",\n   \"language\": \"python\",\n   \"name\": \"learn-env\"\n  },\n  \"language_info\": {\n   \"codemirror_mode\": {\n    \"name\": \"ipython\",\n    \"version\": 3\n   },\n   \"file_extension\": \".py\",\n   \"mimetype\": \"text/x-python\",\n   \"name\": \"python\",\n   \"nbconvert_exporter\": \"python\",\n   \"pygments_lexer\": \"ipython3\",\n   \"version\": \"3.6.9\"\n  }\n },\n \"nbformat\": 4,\n \"nbformat_minor\": 4\n}\n","colorizedLines":null,"stylingDirectives":null,"csv":null,"csvError":null,"dependabotInfo":{"showConfigurationBanner":false,"configFilePath":null,"networkDependabotPath":"/DanCorley/IMDB_Movie_Analysis/network/updates","dismissConfigurationNoticePath":"/settings/dismiss-notice/dependabot_configuration_notice","configurationNoticeDismissed":false,"repoAlertsPath":"/DanCorley/IMDB_Movie_Analysis/security/dependabot","repoSecurityAndAnalysisPath":"/DanCorley/IMDB_Movie_Analysis/settings/security_analysis","repoOwnerIsOrg":false,"currentUserCanAdminRepo":false},"displayName":"Movie_Project.ipynb","displayUrl":"https://notebooks.githubusercontent.com/view/ipynb?browser=edge\u0026bypass_fastly=true\u0026color_mode=auto\u0026commit=9742696027be3b8aefd71d3a5e14112420f6f17a\u0026device=unknown_device\u0026docs_host=https%3A%2F%2Fdocs.github.com\u0026enc_url=68747470733a2f2f7261772e67697468756275736572636f6e74656e742e636f6d2f44616e436f726c65792f494d44425f4d6f7669655f416e616c797369732f393734323639363032376265336238616566643731643361356531343131323432306636663137612f4d6f7669655f50726f6a6563742e6970796e62\u0026logged_in=true\u0026nwo=DanCorley%2FIMDB_Movie_Analysis\u0026path=Movie_Project.ipynb\u0026platform=windows\u0026repository_id=230972868\u0026repository_type=Repository\u0026version=114","headerInfo":{"blobSize":"165 KB","deleteInfo":{"deletePath":"https://github.com/DanCorley/IMDB_Movie_Analysis/delete/master/Movie_Project.ipynb","deleteTooltip":"Fork this repository and delete the file"},"editInfo":{"editTooltip":"Fork this repository and edit the file"},"ghDesktopPath":"https://desktop.github.com","gitLfsPath":null,"onBranch":true,"shortPath":"0c788b0","siteNavLoginPath":"/login?return_to=https%3A%2F%2Fgithub.com%2FDanCorley%2FIMDB_Movie_Analysis%2Fblob%2Fmaster%2FMovie_Project.ipynb","isCSV":false,"isRichtext":false,"toc":null,"lineInfo":{"truncatedLoc":"738","truncatedSloc":"738"},"mode":"file"},"image":false,"isCodeownersFile":null,"isValidLegacyIssueTemplate":false,"issueTemplateHelpUrl":"https://docs.github.com/articles/about-issue-and-pull-request-templates","issueTemplate":null,"discussionTemplate":null,"language":"Jupyter Notebook","large":false,"loggedIn":true,"newDiscussionPath":"/DanCorley/IMDB_Movie_Analysis/discussions/new","newIssuePath":"/DanCorley/IMDB_Movie_Analysis/issues/new","planSupportInfo":{"repoIsFork":null,"repoOwnedByCurrentUser":null,"requestFullPath":"/DanCorley/IMDB_Movie_Analysis/blob/master/Movie_Project.ipynb","showFreeOrgGatedFeatureMessage":null,"showPlanSupportBanner":null,"upgradeDataAttributes":null,"upgradePath":null},"publishBannersInfo":{"dismissActionNoticePath":"/settings/dismiss-notice/publish_action_from_dockerfile","dismissStackNoticePath":"/settings/dismiss-notice/publish_stack_from_file","releasePath":"/DanCorley/IMDB_Movie_Analysis/releases/new?marketplace=true","showPublishActionBanner":false,"showPublishStackBanner":false},"renderImageOrRaw":false,"richText":null,"renderedFileInfo":{"identityUUID":"106ab1ac-d11e-4af2-8a85-c2aa49fa15ae","renderFileType":"ipynb","size":169016},"tabSize":8,"topBannersInfo":{"overridingGlobalFundingFile":false,"globalPreferredFundingPath":null,"repoOwner":"DanCorley","repoName":"IMDB_Movie_Analysis","showInvalidCitationWarning":false,"citationHelpUrl":"https://docs.github.com/en/github/creating-cloning-and-archiving-repositories/creating-a-repository-on-github/about-citation-files","showDependabotConfigurationBanner":false,"actionsOnboardingTip":null},"truncated":false,"viewable":true,"workflowRedirectUrl":null,"symbols":{"timedOut":false,"notAnalyzed":true,"symbols":[]}},"csrf_tokens":{"/DanCorley/IMDB_Movie_Analysis/branches":{"post":"o7Jz9ui8G5ILdgPi8eMf3Lh17ignGE1W5r6mO5EQ4gZS4NG4pEsNRXpSw3gY16NW1ZQAesYFt_2G0CjzWxy5yA"}}},"title":"IMDB_Movie_Analysis/Movie_Project.ipynb at master · DanCorley/IMDB_Movie_Analysis","locale":"en","appPayload":{"helpUrl":"https://docs.github.com","findFileWorkerPath":"/assets-cdn/worker/find-file-worker-848bb9a5da17.js","findInFileWorkerPath":"/assets-cdn/worker/find-in-file-worker-c9b8ff248bc9.js","githubDevUrl":"https://github.dev/","enabled_features":{"virtualize_file_tree":true,"react_repos_overview":false,"repos_new_shortcut_enabled":true,"blob_navigation_cursor":true,"code_nav_ui_events":false,"ref_selector_v2":false,"codeview_codemirror_next_editors":false,"blob_firefox_separate_characters":true,"column_symbol_auto_select":false,"copilot_conversational_ux":false}}}</script>
  <div data-target="react-app.reactRoot"></div>
</react-app>
</turbo-frame>



  </div>

</turbo-frame>

    </main>
  </div>

  </div>

          <footer class="footer width-full container-xl p-responsive" role="contentinfo">
  <h2 class='sr-only'>Footer</h2>

  <div class="position-relative d-flex flex-items-center pb-2 f6 color-fg-muted border-top color-border-muted flex-column-reverse flex-lg-row flex-wrap flex-lg-nowrap mt-6 pt-6">
    <div class="list-style-none d-flex flex-wrap col-0 col-lg-2 flex-justify-start flex-lg-justify-between mb-2 mb-lg-0">
      <div class="mt-2 mt-lg-0 d-flex flex-items-center">
        <a aria-label="Homepage" title="GitHub" class="footer-octicon mr-2" href="https://github.com">
          <svg aria-hidden="true" height="24" viewBox="0 0 16 16" version="1.1" width="24" data-view-component="true" class="octicon octicon-mark-github">
    <path d="M8 0c4.42 0 8 3.58 8 8a8.013 8.013 0 0 1-5.45 7.59c-.4.08-.55-.17-.55-.38 0-.27.01-1.13.01-2.2 0-.75-.25-1.23-.54-1.48 1.78-.2 3.65-.88 3.65-3.95 0-.88-.31-1.59-.82-2.15.08-.2.36-1.02-.08-2.12 0 0-.67-.22-2.2.82-.64-.18-1.32-.27-2-.27-.68 0-1.36.09-2 .27-1.53-1.03-2.2-.82-2.2-.82-.44 1.1-.16 1.92-.08 2.12-.51.56-.82 1.28-.82 2.15 0 3.06 1.86 3.75 3.64 3.95-.23.2-.44.55-.51 1.07-.46.21-1.61.55-2.33-.66-.15-.24-.6-.83-1.23-.82-.67.01-.27.38.01.53.34.19.73.9.82 1.13.16.45.68 1.31 2.69.94 0 .67.01 1.3.01 1.49 0 .21-.15.45-.55.38A7.995 7.995 0 0 1 0 8c0-4.42 3.58-8 8-8Z"></path>
</svg>
</a>        <span>
        &copy; 2023 GitHub, Inc.
        </span>
      </div>
    </div>

    <nav aria-label='Footer' class="col-12 col-lg-8">
      <h3 class='sr-only' id='sr-footer-heading'>Footer navigation</h3>
      <ul class="list-style-none d-flex flex-wrap col-12 flex-justify-center flex-lg-justify-between mb-2 mb-lg-0" aria-labelledby='sr-footer-heading'>
          <li class="mr-3 mr-lg-0"><a href="https://docs.github.com/site-policy/github-terms/github-terms-of-service" data-analytics-event="{&quot;category&quot;:&quot;Footer&quot;,&quot;action&quot;:&quot;go to terms&quot;,&quot;label&quot;:&quot;text:terms&quot;}">Terms</a></li>
          <li class="mr-3 mr-lg-0"><a href="https://docs.github.com/site-policy/privacy-policies/github-privacy-statement" data-analytics-event="{&quot;category&quot;:&quot;Footer&quot;,&quot;action&quot;:&quot;go to privacy&quot;,&quot;label&quot;:&quot;text:privacy&quot;}">Privacy</a></li>
          <li class="mr-3 mr-lg-0"><a data-analytics-event="{&quot;category&quot;:&quot;Footer&quot;,&quot;action&quot;:&quot;go to security&quot;,&quot;label&quot;:&quot;text:security&quot;}" href="https://github.com/security">Security</a></li>
          <li class="mr-3 mr-lg-0"><a href="https://www.githubstatus.com/" data-analytics-event="{&quot;category&quot;:&quot;Footer&quot;,&quot;action&quot;:&quot;go to status&quot;,&quot;label&quot;:&quot;text:status&quot;}">Status</a></li>
          <li class="mr-3 mr-lg-0"><a data-ga-click="Footer, go to help, text:Docs" href="https://docs.github.com">Docs</a></li>
          <li class="mr-3 mr-lg-0"><a href="https://support.github.com?tags=dotcom-footer" data-analytics-event="{&quot;category&quot;:&quot;Footer&quot;,&quot;action&quot;:&quot;go to contact&quot;,&quot;label&quot;:&quot;text:contact&quot;}">Contact GitHub</a></li>
          <li class="mr-3 mr-lg-0"><a href="https://github.com/pricing" data-analytics-event="{&quot;category&quot;:&quot;Footer&quot;,&quot;action&quot;:&quot;go to Pricing&quot;,&quot;label&quot;:&quot;text:Pricing&quot;}">Pricing</a></li>
        <li class="mr-3 mr-lg-0"><a href="https://docs.github.com" data-analytics-event="{&quot;category&quot;:&quot;Footer&quot;,&quot;action&quot;:&quot;go to api&quot;,&quot;label&quot;:&quot;text:api&quot;}">API</a></li>
        <li class="mr-3 mr-lg-0"><a href="https://services.github.com" data-analytics-event="{&quot;category&quot;:&quot;Footer&quot;,&quot;action&quot;:&quot;go to training&quot;,&quot;label&quot;:&quot;text:training&quot;}">Training</a></li>
          <li class="mr-3 mr-lg-0"><a href="https://github.blog" data-analytics-event="{&quot;category&quot;:&quot;Footer&quot;,&quot;action&quot;:&quot;go to blog&quot;,&quot;label&quot;:&quot;text:blog&quot;}">Blog</a></li>
          <li><a data-ga-click="Footer, go to about, text:about" href="https://github.com/about">About</a></li>
      </ul>
    </nav>
  </div>

  <div class="d-flex flex-justify-center pb-6">
    <span class="f6 color-fg-muted"></span>
  </div>
</footer>




  <div id="ajax-error-message" class="ajax-error-message flash flash-error" hidden>
    <svg aria-hidden="true" height="16" viewBox="0 0 16 16" version="1.1" width="16" data-view-component="true" class="octicon octicon-alert">
    <path d="M6.457 1.047c.659-1.234 2.427-1.234 3.086 0l6.082 11.378A1.75 1.75 0 0 1 14.082 15H1.918a1.75 1.75 0 0 1-1.543-2.575Zm1.763.707a.25.25 0 0 0-.44 0L1.698 13.132a.25.25 0 0 0 .22.368h12.164a.25.25 0 0 0 .22-.368Zm.53 3.996v2.5a.75.75 0 0 1-1.5 0v-2.5a.75.75 0 0 1 1.5 0ZM9 11a1 1 0 1 1-2 0 1 1 0 0 1 2 0Z"></path>
</svg>
    <button type="button" class="flash-close js-ajax-error-dismiss" aria-label="Dismiss error">
      <svg aria-hidden="true" height="16" viewBox="0 0 16 16" version="1.1" width="16" data-view-component="true" class="octicon octicon-x">
    <path d="M3.72 3.72a.75.75 0 0 1 1.06 0L8 6.94l3.22-3.22a.749.749 0 0 1 1.275.326.749.749 0 0 1-.215.734L9.06 8l3.22 3.22a.749.749 0 0 1-.326 1.275.749.749 0 0 1-.734-.215L8 9.06l-3.22 3.22a.751.751 0 0 1-1.042-.018.751.751 0 0 1-.018-1.042L6.94 8 3.72 4.78a.75.75 0 0 1 0-1.06Z"></path>
</svg>
    </button>
    You can’t perform that action at this time.
  </div>

    <template id="site-details-dialog">
  <details class="details-reset details-overlay details-overlay-dark lh-default color-fg-default hx_rsm" open>
    <summary role="button" aria-label="Close dialog"></summary>
    <details-dialog class="Box Box--overlay d-flex flex-column anim-fade-in fast hx_rsm-dialog hx_rsm-modal">
      <button class="Box-btn-octicon m-0 btn-octicon position-absolute right-0 top-0" type="button" aria-label="Close dialog" data-close-dialog>
        <svg aria-hidden="true" height="16" viewBox="0 0 16 16" version="1.1" width="16" data-view-component="true" class="octicon octicon-x">
    <path d="M3.72 3.72a.75.75 0 0 1 1.06 0L8 6.94l3.22-3.22a.749.749 0 0 1 1.275.326.749.749 0 0 1-.215.734L9.06 8l3.22 3.22a.749.749 0 0 1-.326 1.275.749.749 0 0 1-.734-.215L8 9.06l-3.22 3.22a.751.751 0 0 1-1.042-.018.751.751 0 0 1-.018-1.042L6.94 8 3.72 4.78a.75.75 0 0 1 0-1.06Z"></path>
</svg>
      </button>
      <div class="octocat-spinner my-6 js-details-dialog-spinner"></div>
    </details-dialog>
  </details>
</template>

    <div class="Popover js-hovercard-content position-absolute" style="display: none; outline: none;" tabindex="0">
  <div class="Popover-message Popover-message--bottom-left Popover-message--large Box color-shadow-large" style="width:360px;">
  </div>
</div>

    <template id="snippet-clipboard-copy-button">
  <div class="zeroclipboard-container position-absolute right-0 top-0">
    <clipboard-copy aria-label="Copy" class="ClipboardButton btn js-clipboard-copy m-2 p-0 tooltipped-no-delay" data-copy-feedback="Copied!" data-tooltip-direction="w">
      <svg aria-hidden="true" height="16" viewBox="0 0 16 16" version="1.1" width="16" data-view-component="true" class="octicon octicon-copy js-clipboard-copy-icon m-2">
    <path d="M0 6.75C0 5.784.784 5 1.75 5h1.5a.75.75 0 0 1 0 1.5h-1.5a.25.25 0 0 0-.25.25v7.5c0 .138.112.25.25.25h7.5a.25.25 0 0 0 .25-.25v-1.5a.75.75 0 0 1 1.5 0v1.5A1.75 1.75 0 0 1 9.25 16h-7.5A1.75 1.75 0 0 1 0 14.25Z"></path><path d="M5 1.75C5 .784 5.784 0 6.75 0h7.5C15.216 0 16 .784 16 1.75v7.5A1.75 1.75 0 0 1 14.25 11h-7.5A1.75 1.75 0 0 1 5 9.25Zm1.75-.25a.25.25 0 0 0-.25.25v7.5c0 .138.112.25.25.25h7.5a.25.25 0 0 0 .25-.25v-7.5a.25.25 0 0 0-.25-.25Z"></path>
</svg>
      <svg aria-hidden="true" height="16" viewBox="0 0 16 16" version="1.1" width="16" data-view-component="true" class="octicon octicon-check js-clipboard-check-icon color-fg-success d-none m-2">
    <path d="M13.78 4.22a.75.75 0 0 1 0 1.06l-7.25 7.25a.75.75 0 0 1-1.06 0L2.22 9.28a.751.751 0 0 1 .018-1.042.751.751 0 0 1 1.042-.018L6 10.94l6.72-6.72a.75.75 0 0 1 1.06 0Z"></path>
</svg>
    </clipboard-copy>
  </div>
</template>
<template id="snippet-clipboard-copy-button-unpositioned">
  <div class="zeroclipboard-container">
    <clipboard-copy aria-label="Copy" class="ClipboardButton btn btn-invisible js-clipboard-copy m-2 p-0 tooltipped-no-delay d-flex flex-justify-center flex-items-center" data-copy-feedback="Copied!" data-tooltip-direction="w">
      <svg aria-hidden="true" height="16" viewBox="0 0 16 16" version="1.1" width="16" data-view-component="true" class="octicon octicon-copy js-clipboard-copy-icon">
    <path d="M0 6.75C0 5.784.784 5 1.75 5h1.5a.75.75 0 0 1 0 1.5h-1.5a.25.25 0 0 0-.25.25v7.5c0 .138.112.25.25.25h7.5a.25.25 0 0 0 .25-.25v-1.5a.75.75 0 0 1 1.5 0v1.5A1.75 1.75 0 0 1 9.25 16h-7.5A1.75 1.75 0 0 1 0 14.25Z"></path><path d="M5 1.75C5 .784 5.784 0 6.75 0h7.5C15.216 0 16 .784 16 1.75v7.5A1.75 1.75 0 0 1 14.25 11h-7.5A1.75 1.75 0 0 1 5 9.25Zm1.75-.25a.25.25 0 0 0-.25.25v7.5c0 .138.112.25.25.25h7.5a.25.25 0 0 0 .25-.25v-7.5a.25.25 0 0 0-.25-.25Z"></path>
</svg>
      <svg aria-hidden="true" height="16" viewBox="0 0 16 16" version="1.1" width="16" data-view-component="true" class="octicon octicon-check js-clipboard-check-icon color-fg-success d-none">
    <path d="M13.78 4.22a.75.75 0 0 1 0 1.06l-7.25 7.25a.75.75 0 0 1-1.06 0L2.22 9.28a.751.751 0 0 1 .018-1.042.751.751 0 0 1 1.042-.018L6 10.94l6.72-6.72a.75.75 0 0 1 1.06 0Z"></path>
</svg>
    </clipboard-copy>
  </div>
</template>


    <style>
      .user-mention[href$="/Varshavasundhara"] {
        color: var(--color-user-mention-fg);
        background-color: var(--color-user-mention-bg);
        border-radius: 2px;
        margin-left: -2px;
        margin-right: -2px;
        padding: 0 2px;
      }
    </style>


    </div>

    <div id="js-global-screen-reader-notice" class="sr-only" aria-live="polite" ></div>
  </body>
</html>

